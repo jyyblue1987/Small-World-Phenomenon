{
 "cells": [
  {
   "cell_type": "markdown",
   "metadata": {},
   "source": [
    "# Web scrapping for Data Scientist job in CO(Total points 9)"
   ]
  },
  {
   "cell_type": "markdown",
   "metadata": {},
   "source": [
    "In this exercise we'll do web scrapping for **Data Scientist job in CO**\n",
    "\n",
    "\n",
    "Here is the link to the search query\n",
    "\n",
    "https://www.indeed.com/jobs?q=data+scientist&l=CO\n",
    "\n",
    "As you can see at the bottom of the page there are link to series of pages related to this search.\n",
    "If you click on second page, search url changes to\n",
    "\n",
    "https://www.indeed.com/jobs?q=data+scientist&l=CO&start=10\n",
    "\n",
    "If you click on 3rd then url changes to\n",
    "\n",
    "https://www.indeed.com/jobs?q=data+scientist&l=CO&start=20\n",
    "\n",
    "Hence to go to more pages we can format search string(**change start=??** part) for **requests.get in a loop**\n"
   ]
  },
  {
   "cell_type": "markdown",
   "metadata": {},
   "source": [
    "# Q1(5 =  4(non indicator columns) + 1(indicator columns) points) Please complete the following task\n",
    "\n",
    "- Scrape 10 pages (**last page(10 th) url will be https://www.indeed.com/jobs?q=data+scientist&l=CO&start=90**)and build a pandas DataFrame containing following information\n",
    "    + **job title, name of the company, location, summary of job description**\n",
    "    + **Indicator columns(with value True/False) about keywords Python, SQL, AWS, RESTFUL, Machine learning, Deep Learning, Text Mining, NLP, SAS, Tableau, Sagemaker, TensorFlow, Spark**\n",
    "\n",
    "Note:\n",
    "- Make sure that you do a case insensitive search for keywords when filing(Tue/False) in the indicator columns\n",
    "- You need to go to the webpage of detail job posting for keywords search. Main job posting only contains summary of the job description.  Build detail job posting webpage url  from web scrapping main search results."
   ]
  },
  {
   "cell_type": "code",
   "execution_count": 200,
   "metadata": {},
   "outputs": [],
   "source": [
    "import requests\n",
    "from bs4 import BeautifulSoup\n",
    "import pandas as pd\n",
    "import numpy as np\n",
    "\n",
    "keywords = [\"Python\", \"SQL\", \"AWS\", \"RESTFUL\", \"Machine learning\", \"Deep Learning\", \"Text Mining\", \"NLP\", \"SAS\", \"Tableau\", \"Sagemaker\", \"TensorFlow\", \"Spark\", \"Clearance\"]\n"
   ]
  },
  {
   "cell_type": "markdown",
   "metadata": {
    "pycharm": {
     "name": "#%% md\n"
    }
   },
   "source": [
    "frame_data = []\n",
    "\n",
    "for i in range(0, 10):\n",
    "    if i == 0:\n",
    "        url = 'https://www.indeed.com/jobs?q=data+scientist&l=CO'\n",
    "    else:\n",
    "        url = 'https://www.indeed.com/jobs?q=data+scientist&l=CO&start='+str(i * 10)\n",
    "       \n",
    "    # print(url)\n",
    "    \n",
    "    page = requests.get(url)\n",
    "\n",
    "    soup = BeautifulSoup(page.content, 'html.parser')\n",
    "    job_list = soup.find_all(\"div\", {\"class\": \"jobsearch-SerpJobCard\"})\n",
    "    \n",
    "    # print(len(job_list))\n",
    "    for item in job_list:\n",
    "        title_list = item.select('h2.title a')\n",
    "        data_row = {}\n",
    "        for row in title_list:\n",
    "            href = row['href']\n",
    "            title = row['title']\n",
    "\n",
    "            data_row['title'] = title\n",
    "            \n",
    "\n",
    "            # print(title)\n",
    "            url1 = href.replace(\"/rc/clk\", \"https://www.indeed.com/viewjob\")\n",
    "            # print(url1)\n",
    "#             url1 = \"https://www.indeed.com/viewjob?jk=8a5b0137fa9abb46&from=serp&vjs=3\"\n",
    "\n",
    "            try: \n",
    "                page1 = requests.get(url1)\n",
    "\n",
    "                soup1 = BeautifulSoup(page1.content, 'html.parser')\n",
    "        #         title_div = soup1.find(\"div\", {\"class\": \"jobsearch-JobInfoHeader-title-container\"})\n",
    "        #         title = title_div.find(\"h1\")\n",
    "        #         print(title)    \n",
    "                desc_div = soup1.find(\"div\", {\"id\": \"jobDescriptionText\"})\n",
    "                desc = desc_div.text \n",
    "\n",
    "                data_row['desc'] = desc\n",
    "\n",
    "                desc1 = desc.lower()\n",
    "\n",
    "                for k in keywords:               \n",
    "                    data_row[k] = k.lower() in desc1\n",
    "\n",
    "            except:\n",
    "                data_row['desc'] = \"\"\n",
    "                for k in keywords:               \n",
    "                    data_row[k] = False\n",
    "\n",
    "\n",
    "\n",
    "            break\n",
    "\n",
    "        company_list = item.select('span.company a')\n",
    "        if len(company_list) > 0:\n",
    "            company = company_list[0].text\n",
    "            company = company.strip(\"\\n\")\n",
    "            # print(company)\n",
    "            data_row['company'] = company\n",
    "\n",
    "\n",
    "        location_list = item.select('span.location')\n",
    "        if len(location_list) > 0:\n",
    "            location = location_list[0].text\n",
    "            # print(location)\n",
    "            data_row['location'] = location\n",
    "\n",
    "        salary_list = item.select('span.salaryText')\n",
    "        if len(salary_list) > 0:\n",
    "            salary = salary_list[0].text\n",
    "            # print(location)\n",
    "            data_row['salary'] = salary\n",
    "\n",
    "        frame_data.append(data_row)\n",
    "\n",
    "#         break\n",
    "\n",
    "    "
   ]
  },
  {
   "cell_type": "markdown",
   "metadata": {
    "pycharm": {
     "name": "#%% md\n"
    }
   },
   "source": [
    "df = pd.DataFrame(frame_data)\n",
    "df"
   ]
  },
  {
   "cell_type": "code",
   "execution_count": 192,
   "outputs": [],
   "source": [
    "# df['Clearance']"
   ],
   "metadata": {
    "collapsed": false,
    "pycharm": {
     "name": "#%%\n"
    }
   }
  },
  {
   "cell_type": "markdown",
   "metadata": {},
   "source": [
    "# Q2(1 point) Save you DataFrame to pickle file name *indeed_job_co.pkl*. \n",
    "   Load this pkl file in dataFrame and use this dataFrame for answering following questions.\n",
    "\n",
    "   <font color='red'>upload the pickle file(indeed_job_co.pkl) along with solution notebook to the canvas</font>"
   ]
  },
  {
   "cell_type": "code",
   "metadata": {
    "pycharm": {
     "name": "#%%\n"
    }
   },
   "source": [
    "#write code here\n",
    "# df.to_pickle(\"indeed_job_co.pkl\")\n",
    "# df.to_csv(\"indeed_job_co.csv\")\n",
    "\n",
    "df = pd.read_pickle('indeed_job_co.pkl')\n",
    "df.info()"
   ],
   "execution_count": 193,
   "outputs": [
    {
     "name": "stdout",
     "output_type": "stream",
     "text": [
      "<class 'pandas.core.frame.DataFrame'>\n",
      "RangeIndex: 155 entries, 0 to 154\n",
      "Data columns (total 19 columns):\n",
      " #   Column            Non-Null Count  Dtype \n",
      "---  ------            --------------  ----- \n",
      " 0   title             155 non-null    object\n",
      " 1   desc              155 non-null    object\n",
      " 2   Python            155 non-null    bool  \n",
      " 3   SQL               155 non-null    bool  \n",
      " 4   AWS               155 non-null    bool  \n",
      " 5   RESTFUL           155 non-null    bool  \n",
      " 6   Machine learning  155 non-null    bool  \n",
      " 7   Deep Learning     155 non-null    bool  \n",
      " 8   Text Mining       155 non-null    bool  \n",
      " 9   NLP               155 non-null    bool  \n",
      " 10  SAS               155 non-null    bool  \n",
      " 11  Tableau           155 non-null    bool  \n",
      " 12  Sagemaker         155 non-null    bool  \n",
      " 13  TensorFlow        155 non-null    bool  \n",
      " 14  Spark             155 non-null    bool  \n",
      " 15  Clearance         155 non-null    bool  \n",
      " 16  company           123 non-null    object\n",
      " 17  salary            57 non-null     object\n",
      " 18  location          137 non-null    object\n",
      "dtypes: bool(14), object(5)\n",
      "memory usage: 8.3+ KB\n"
     ]
    }
   ]
  },
  {
   "cell_type": "markdown",
   "metadata": {},
   "source": [
    "<font size = \"6\" color='red'> Use pandas functionality to answer question 2</font>\n",
    "# Q 3 a(1 point) Which city has maximum job posting.\n",
    "\n"
   ]
  },
  {
   "cell_type": "markdown",
   "metadata": {
    "pycharm": {
     "name": "#%% md\n"
    }
   },
   "source": [
    "df1 = df['location'].value_counts().rename_axis('location').reset_index(name='counts').sort_values(by=['counts'])\n",
    "print(df1.loc[0, 'location'], \",\", df1.loc[0, 'counts'])\n"
   ]
  },
  {
   "cell_type": "code",
   "execution_count": 194,
   "outputs": [
    {
     "data": {
      "text/plain": "                                                 title               company  \\\n0                                       Data Scientist     Arrow Electronics   \n1    Artificial Intelligence/Machine Learning Data ...     Mitre Corporation   \n2            Sr. Healthcare Data Analyst (Remote, USA)                   NaN   \n3                                  AI Chatbot Engineer               Verizon   \n4    Senior Consultant - Advanced Solutions, Energy...            Guidehouse   \n..                                                 ...                   ...   \n150                                     Data Scientist           CyberCoders   \n151      Cloud Data Engineer - Data Scientist (Remote)  Sealaska Corporation   \n152                          Statistical Programmer II               PAREXEL   \n153                     Machine Learning/A.I. Engineer                   NaN   \n154                                     Data Scientist                   ICR   \n\n                                                  desc    location salary_min  \\\n0                                                              NaN        NaN   \n1                                                              NaN        NaN   \n2                                                              NaN     70000    \n3                                                              NaN    107200    \n4                                                              NaN     72000    \n..                                                 ...         ...        ...   \n150                                                            NaN     95000    \n151  Overview:\\n\\nCognitell is seeking a Data Engin...  Denver, CO        NaN   \n152                                                            NaN        NaN   \n153  Overview:\\nAt Josh.ai we are innovating at the...  Denver, CO        NaN   \n154  ICR has opportunities available for experience...  Denver, CO        NaN   \n\n    salary_max  Clearance  Python    SQL    AWS  RESTFUL  Machine learning  \\\n0         None      False   False  False  False    False             False   \n1         None      False   False  False  False    False             False   \n2        90000      False   False  False  False    False             False   \n3       199200      False   False  False  False    False             False   \n4        80000      False   False  False  False    False             False   \n..         ...        ...     ...    ...    ...      ...               ...   \n150     110000      False   False  False  False    False             False   \n151       None      False    True   True   True    False              True   \n152       None      False   False  False  False    False             False   \n153       None      False   False  False  False    False              True   \n154       None       True    True  False  False    False              True   \n\n     Deep Learning  Text Mining    NLP    SAS  Tableau  Sagemaker  TensorFlow  \\\n0            False        False  False  False    False      False       False   \n1            False        False  False  False    False      False       False   \n2            False        False  False  False    False      False       False   \n3            False        False  False  False    False      False       False   \n4            False        False  False  False    False      False       False   \n..             ...          ...    ...    ...      ...        ...         ...   \n150          False        False  False  False    False      False       False   \n151           True        False  False  False    False       True        True   \n152          False        False  False  False    False      False       False   \n153          False        False  False  False    False      False       False   \n154           True        False  False  False    False      False        True   \n\n     Spark  \n0    False  \n1    False  \n2    False  \n3    False  \n4    False  \n..     ...  \n150  False  \n151   True  \n152  False  \n153  False  \n154   True  \n\n[155 rows x 20 columns]",
      "text/html": "<div>\n<style scoped>\n    .dataframe tbody tr th:only-of-type {\n        vertical-align: middle;\n    }\n\n    .dataframe tbody tr th {\n        vertical-align: top;\n    }\n\n    .dataframe thead th {\n        text-align: right;\n    }\n</style>\n<table border=\"1\" class=\"dataframe\">\n  <thead>\n    <tr style=\"text-align: right;\">\n      <th></th>\n      <th>title</th>\n      <th>company</th>\n      <th>desc</th>\n      <th>location</th>\n      <th>salary_min</th>\n      <th>salary_max</th>\n      <th>Clearance</th>\n      <th>Python</th>\n      <th>SQL</th>\n      <th>AWS</th>\n      <th>RESTFUL</th>\n      <th>Machine learning</th>\n      <th>Deep Learning</th>\n      <th>Text Mining</th>\n      <th>NLP</th>\n      <th>SAS</th>\n      <th>Tableau</th>\n      <th>Sagemaker</th>\n      <th>TensorFlow</th>\n      <th>Spark</th>\n    </tr>\n  </thead>\n  <tbody>\n    <tr>\n      <th>0</th>\n      <td>Data Scientist</td>\n      <td>Arrow Electronics</td>\n      <td></td>\n      <td>NaN</td>\n      <td>NaN</td>\n      <td>None</td>\n      <td>False</td>\n      <td>False</td>\n      <td>False</td>\n      <td>False</td>\n      <td>False</td>\n      <td>False</td>\n      <td>False</td>\n      <td>False</td>\n      <td>False</td>\n      <td>False</td>\n      <td>False</td>\n      <td>False</td>\n      <td>False</td>\n      <td>False</td>\n    </tr>\n    <tr>\n      <th>1</th>\n      <td>Artificial Intelligence/Machine Learning Data ...</td>\n      <td>Mitre Corporation</td>\n      <td></td>\n      <td>NaN</td>\n      <td>NaN</td>\n      <td>None</td>\n      <td>False</td>\n      <td>False</td>\n      <td>False</td>\n      <td>False</td>\n      <td>False</td>\n      <td>False</td>\n      <td>False</td>\n      <td>False</td>\n      <td>False</td>\n      <td>False</td>\n      <td>False</td>\n      <td>False</td>\n      <td>False</td>\n      <td>False</td>\n    </tr>\n    <tr>\n      <th>2</th>\n      <td>Sr. Healthcare Data Analyst (Remote, USA)</td>\n      <td>NaN</td>\n      <td></td>\n      <td>NaN</td>\n      <td>70000</td>\n      <td>90000</td>\n      <td>False</td>\n      <td>False</td>\n      <td>False</td>\n      <td>False</td>\n      <td>False</td>\n      <td>False</td>\n      <td>False</td>\n      <td>False</td>\n      <td>False</td>\n      <td>False</td>\n      <td>False</td>\n      <td>False</td>\n      <td>False</td>\n      <td>False</td>\n    </tr>\n    <tr>\n      <th>3</th>\n      <td>AI Chatbot Engineer</td>\n      <td>Verizon</td>\n      <td></td>\n      <td>NaN</td>\n      <td>107200</td>\n      <td>199200</td>\n      <td>False</td>\n      <td>False</td>\n      <td>False</td>\n      <td>False</td>\n      <td>False</td>\n      <td>False</td>\n      <td>False</td>\n      <td>False</td>\n      <td>False</td>\n      <td>False</td>\n      <td>False</td>\n      <td>False</td>\n      <td>False</td>\n      <td>False</td>\n    </tr>\n    <tr>\n      <th>4</th>\n      <td>Senior Consultant - Advanced Solutions, Energy...</td>\n      <td>Guidehouse</td>\n      <td></td>\n      <td>NaN</td>\n      <td>72000</td>\n      <td>80000</td>\n      <td>False</td>\n      <td>False</td>\n      <td>False</td>\n      <td>False</td>\n      <td>False</td>\n      <td>False</td>\n      <td>False</td>\n      <td>False</td>\n      <td>False</td>\n      <td>False</td>\n      <td>False</td>\n      <td>False</td>\n      <td>False</td>\n      <td>False</td>\n    </tr>\n    <tr>\n      <th>...</th>\n      <td>...</td>\n      <td>...</td>\n      <td>...</td>\n      <td>...</td>\n      <td>...</td>\n      <td>...</td>\n      <td>...</td>\n      <td>...</td>\n      <td>...</td>\n      <td>...</td>\n      <td>...</td>\n      <td>...</td>\n      <td>...</td>\n      <td>...</td>\n      <td>...</td>\n      <td>...</td>\n      <td>...</td>\n      <td>...</td>\n      <td>...</td>\n      <td>...</td>\n    </tr>\n    <tr>\n      <th>150</th>\n      <td>Data Scientist</td>\n      <td>CyberCoders</td>\n      <td></td>\n      <td>NaN</td>\n      <td>95000</td>\n      <td>110000</td>\n      <td>False</td>\n      <td>False</td>\n      <td>False</td>\n      <td>False</td>\n      <td>False</td>\n      <td>False</td>\n      <td>False</td>\n      <td>False</td>\n      <td>False</td>\n      <td>False</td>\n      <td>False</td>\n      <td>False</td>\n      <td>False</td>\n      <td>False</td>\n    </tr>\n    <tr>\n      <th>151</th>\n      <td>Cloud Data Engineer - Data Scientist (Remote)</td>\n      <td>Sealaska Corporation</td>\n      <td>Overview:\\n\\nCognitell is seeking a Data Engin...</td>\n      <td>Denver, CO</td>\n      <td>NaN</td>\n      <td>None</td>\n      <td>False</td>\n      <td>True</td>\n      <td>True</td>\n      <td>True</td>\n      <td>False</td>\n      <td>True</td>\n      <td>True</td>\n      <td>False</td>\n      <td>False</td>\n      <td>False</td>\n      <td>False</td>\n      <td>True</td>\n      <td>True</td>\n      <td>True</td>\n    </tr>\n    <tr>\n      <th>152</th>\n      <td>Statistical Programmer II</td>\n      <td>PAREXEL</td>\n      <td></td>\n      <td>NaN</td>\n      <td>NaN</td>\n      <td>None</td>\n      <td>False</td>\n      <td>False</td>\n      <td>False</td>\n      <td>False</td>\n      <td>False</td>\n      <td>False</td>\n      <td>False</td>\n      <td>False</td>\n      <td>False</td>\n      <td>False</td>\n      <td>False</td>\n      <td>False</td>\n      <td>False</td>\n      <td>False</td>\n    </tr>\n    <tr>\n      <th>153</th>\n      <td>Machine Learning/A.I. Engineer</td>\n      <td>NaN</td>\n      <td>Overview:\\nAt Josh.ai we are innovating at the...</td>\n      <td>Denver, CO</td>\n      <td>NaN</td>\n      <td>None</td>\n      <td>False</td>\n      <td>False</td>\n      <td>False</td>\n      <td>False</td>\n      <td>False</td>\n      <td>True</td>\n      <td>False</td>\n      <td>False</td>\n      <td>False</td>\n      <td>False</td>\n      <td>False</td>\n      <td>False</td>\n      <td>False</td>\n      <td>False</td>\n    </tr>\n    <tr>\n      <th>154</th>\n      <td>Data Scientist</td>\n      <td>ICR</td>\n      <td>ICR has opportunities available for experience...</td>\n      <td>Denver, CO</td>\n      <td>NaN</td>\n      <td>None</td>\n      <td>True</td>\n      <td>True</td>\n      <td>False</td>\n      <td>False</td>\n      <td>False</td>\n      <td>True</td>\n      <td>True</td>\n      <td>False</td>\n      <td>False</td>\n      <td>False</td>\n      <td>False</td>\n      <td>False</td>\n      <td>True</td>\n      <td>True</td>\n    </tr>\n  </tbody>\n</table>\n<p>155 rows × 20 columns</p>\n</div>"
     },
     "execution_count": 194,
     "metadata": {},
     "output_type": "execute_result"
    }
   ],
   "source": [
    "df['salary'] = df['salary'].replace('\\n', '', regex=True)\n",
    "df['salary'] = df['salary'].replace(' a year', '', regex=True)\n",
    "# df['salary'] = df['salary'].replace('From', '', regex=True)\n",
    "# df['salary'] = df['salary'].replace('35 an hour', '', regex=True)\n",
    "# df['salary'] = df['salary'].replace('', '', regex=True)\n",
    "\n",
    "\n",
    "\n",
    "\n",
    "df[['salary_min', 'salary_max']] = df['salary'].str.split('-', expand=True)\n",
    "df['salary_min'] = df['salary_min'].str.replace('$', '').str.replace(',', '').str.replace('From ', '').str.replace(' an hour', '')\n",
    "df['salary_max'] = df['salary_max'].str.replace('$', '').str.replace(',', '').str.replace(' an hour', '')\n",
    "# df['salary_min'] = df['salary_min'].astype(int)\n",
    "# df['salary_max'] = df['salary_max'].astype(int)\n",
    "\n",
    "\n",
    "# df[['Avg Salary']] = (df['salary_min'] + df['salary_max'])\n",
    "\n",
    "cols = [\"title\", \"company\", \"desc\", \"location\", \"salary_min\", \"salary_max\", \"Clearance\", \"Python\", \"SQL\", \"AWS\",\n",
    "        \"RESTFUL\", \"Machine learning\", \"Deep Learning\", \"Text Mining\", \"NLP\", \"SAS\", \"Tableau\", \"Sagemaker\",\n",
    "        \"TensorFlow\", \"Spark\"]\n",
    "\n",
    "df = df[cols]\n",
    "df\n"
   ],
   "metadata": {
    "collapsed": false,
    "pycharm": {
     "name": "#%%\n"
    }
   }
  },
  {
   "cell_type": "code",
   "execution_count": 210,
   "outputs": [
    {
     "data": {
      "text/plain": "                                                 title               company  \\\n0                                       Data Scientist     Arrow Electronics   \n1    Artificial Intelligence/Machine Learning Data ...     Mitre Corporation   \n2            Sr. Healthcare Data Analyst (Remote, USA)                   NaN   \n3                                  AI Chatbot Engineer               Verizon   \n4    Senior Consultant - Advanced Solutions, Energy...            Guidehouse   \n..                                                 ...                   ...   \n150                                     Data Scientist           CyberCoders   \n151      Cloud Data Engineer - Data Scientist (Remote)  Sealaska Corporation   \n152                          Statistical Programmer II               PAREXEL   \n153                     Machine Learning/A.I. Engineer                   NaN   \n154                                     Data Scientist                   ICR   \n\n                                                  desc    location salary_min  \\\n0                                                              NaN        NaN   \n1                                                              NaN        NaN   \n2                                                              NaN     70000    \n3                                                              NaN    107200    \n4                                                              NaN     72000    \n..                                                 ...         ...        ...   \n150                                                            NaN     95000    \n151  Overview:\\n\\nCognitell is seeking a Data Engin...  Denver, CO        NaN   \n152                                                            NaN        NaN   \n153  Overview:\\nAt Josh.ai we are innovating at the...  Denver, CO        NaN   \n154  ICR has opportunities available for experience...  Denver, CO        NaN   \n\n    salary_max  Clearance  Python    SQL    AWS  ...  Machine learning  \\\n0         None      False   False  False  False  ...             False   \n1         None      False   False  False  False  ...             False   \n2        90000      False   False  False  False  ...             False   \n3       199200      False   False  False  False  ...             False   \n4        80000      False   False  False  False  ...             False   \n..         ...        ...     ...    ...    ...  ...               ...   \n150     110000      False   False  False  False  ...             False   \n151       None      False    True   True   True  ...              True   \n152       None      False   False  False  False  ...             False   \n153       None      False   False  False  False  ...              True   \n154       None       True    True  False  False  ...              True   \n\n     Deep Learning  Text Mining    NLP    SAS  Tableau  Sagemaker  TensorFlow  \\\n0            False        False  False  False    False      False       False   \n1            False        False  False  False    False      False       False   \n2            False        False  False  False    False      False       False   \n3            False        False  False  False    False      False       False   \n4            False        False  False  False    False      False       False   \n..             ...          ...    ...    ...      ...        ...         ...   \n150          False        False  False  False    False      False       False   \n151           True        False  False  False    False       True        True   \n152          False        False  False  False    False      False       False   \n153          False        False  False  False    False      False       False   \n154           True        False  False  False    False      False        True   \n\n     Spark      Avg Salary  \n0    False             NaN  \n1    False             NaN  \n2    False    70000  90000  \n3    False  107200  199200  \n4    False    72000  80000  \n..     ...             ...  \n150  False   95000  110000  \n151   True             NaN  \n152  False             NaN  \n153  False             NaN  \n154   True             NaN  \n\n[155 rows x 21 columns]",
      "text/html": "<div>\n<style scoped>\n    .dataframe tbody tr th:only-of-type {\n        vertical-align: middle;\n    }\n\n    .dataframe tbody tr th {\n        vertical-align: top;\n    }\n\n    .dataframe thead th {\n        text-align: right;\n    }\n</style>\n<table border=\"1\" class=\"dataframe\">\n  <thead>\n    <tr style=\"text-align: right;\">\n      <th></th>\n      <th>title</th>\n      <th>company</th>\n      <th>desc</th>\n      <th>location</th>\n      <th>salary_min</th>\n      <th>salary_max</th>\n      <th>Clearance</th>\n      <th>Python</th>\n      <th>SQL</th>\n      <th>AWS</th>\n      <th>...</th>\n      <th>Machine learning</th>\n      <th>Deep Learning</th>\n      <th>Text Mining</th>\n      <th>NLP</th>\n      <th>SAS</th>\n      <th>Tableau</th>\n      <th>Sagemaker</th>\n      <th>TensorFlow</th>\n      <th>Spark</th>\n      <th>Avg Salary</th>\n    </tr>\n  </thead>\n  <tbody>\n    <tr>\n      <th>0</th>\n      <td>Data Scientist</td>\n      <td>Arrow Electronics</td>\n      <td></td>\n      <td>NaN</td>\n      <td>NaN</td>\n      <td>None</td>\n      <td>False</td>\n      <td>False</td>\n      <td>False</td>\n      <td>False</td>\n      <td>...</td>\n      <td>False</td>\n      <td>False</td>\n      <td>False</td>\n      <td>False</td>\n      <td>False</td>\n      <td>False</td>\n      <td>False</td>\n      <td>False</td>\n      <td>False</td>\n      <td>NaN</td>\n    </tr>\n    <tr>\n      <th>1</th>\n      <td>Artificial Intelligence/Machine Learning Data ...</td>\n      <td>Mitre Corporation</td>\n      <td></td>\n      <td>NaN</td>\n      <td>NaN</td>\n      <td>None</td>\n      <td>False</td>\n      <td>False</td>\n      <td>False</td>\n      <td>False</td>\n      <td>...</td>\n      <td>False</td>\n      <td>False</td>\n      <td>False</td>\n      <td>False</td>\n      <td>False</td>\n      <td>False</td>\n      <td>False</td>\n      <td>False</td>\n      <td>False</td>\n      <td>NaN</td>\n    </tr>\n    <tr>\n      <th>2</th>\n      <td>Sr. Healthcare Data Analyst (Remote, USA)</td>\n      <td>NaN</td>\n      <td></td>\n      <td>NaN</td>\n      <td>70000</td>\n      <td>90000</td>\n      <td>False</td>\n      <td>False</td>\n      <td>False</td>\n      <td>False</td>\n      <td>...</td>\n      <td>False</td>\n      <td>False</td>\n      <td>False</td>\n      <td>False</td>\n      <td>False</td>\n      <td>False</td>\n      <td>False</td>\n      <td>False</td>\n      <td>False</td>\n      <td>70000  90000</td>\n    </tr>\n    <tr>\n      <th>3</th>\n      <td>AI Chatbot Engineer</td>\n      <td>Verizon</td>\n      <td></td>\n      <td>NaN</td>\n      <td>107200</td>\n      <td>199200</td>\n      <td>False</td>\n      <td>False</td>\n      <td>False</td>\n      <td>False</td>\n      <td>...</td>\n      <td>False</td>\n      <td>False</td>\n      <td>False</td>\n      <td>False</td>\n      <td>False</td>\n      <td>False</td>\n      <td>False</td>\n      <td>False</td>\n      <td>False</td>\n      <td>107200  199200</td>\n    </tr>\n    <tr>\n      <th>4</th>\n      <td>Senior Consultant - Advanced Solutions, Energy...</td>\n      <td>Guidehouse</td>\n      <td></td>\n      <td>NaN</td>\n      <td>72000</td>\n      <td>80000</td>\n      <td>False</td>\n      <td>False</td>\n      <td>False</td>\n      <td>False</td>\n      <td>...</td>\n      <td>False</td>\n      <td>False</td>\n      <td>False</td>\n      <td>False</td>\n      <td>False</td>\n      <td>False</td>\n      <td>False</td>\n      <td>False</td>\n      <td>False</td>\n      <td>72000  80000</td>\n    </tr>\n    <tr>\n      <th>...</th>\n      <td>...</td>\n      <td>...</td>\n      <td>...</td>\n      <td>...</td>\n      <td>...</td>\n      <td>...</td>\n      <td>...</td>\n      <td>...</td>\n      <td>...</td>\n      <td>...</td>\n      <td>...</td>\n      <td>...</td>\n      <td>...</td>\n      <td>...</td>\n      <td>...</td>\n      <td>...</td>\n      <td>...</td>\n      <td>...</td>\n      <td>...</td>\n      <td>...</td>\n      <td>...</td>\n    </tr>\n    <tr>\n      <th>150</th>\n      <td>Data Scientist</td>\n      <td>CyberCoders</td>\n      <td></td>\n      <td>NaN</td>\n      <td>95000</td>\n      <td>110000</td>\n      <td>False</td>\n      <td>False</td>\n      <td>False</td>\n      <td>False</td>\n      <td>...</td>\n      <td>False</td>\n      <td>False</td>\n      <td>False</td>\n      <td>False</td>\n      <td>False</td>\n      <td>False</td>\n      <td>False</td>\n      <td>False</td>\n      <td>False</td>\n      <td>95000  110000</td>\n    </tr>\n    <tr>\n      <th>151</th>\n      <td>Cloud Data Engineer - Data Scientist (Remote)</td>\n      <td>Sealaska Corporation</td>\n      <td>Overview:\\n\\nCognitell is seeking a Data Engin...</td>\n      <td>Denver, CO</td>\n      <td>NaN</td>\n      <td>None</td>\n      <td>False</td>\n      <td>True</td>\n      <td>True</td>\n      <td>True</td>\n      <td>...</td>\n      <td>True</td>\n      <td>True</td>\n      <td>False</td>\n      <td>False</td>\n      <td>False</td>\n      <td>False</td>\n      <td>True</td>\n      <td>True</td>\n      <td>True</td>\n      <td>NaN</td>\n    </tr>\n    <tr>\n      <th>152</th>\n      <td>Statistical Programmer II</td>\n      <td>PAREXEL</td>\n      <td></td>\n      <td>NaN</td>\n      <td>NaN</td>\n      <td>None</td>\n      <td>False</td>\n      <td>False</td>\n      <td>False</td>\n      <td>False</td>\n      <td>...</td>\n      <td>False</td>\n      <td>False</td>\n      <td>False</td>\n      <td>False</td>\n      <td>False</td>\n      <td>False</td>\n      <td>False</td>\n      <td>False</td>\n      <td>False</td>\n      <td>NaN</td>\n    </tr>\n    <tr>\n      <th>153</th>\n      <td>Machine Learning/A.I. Engineer</td>\n      <td>NaN</td>\n      <td>Overview:\\nAt Josh.ai we are innovating at the...</td>\n      <td>Denver, CO</td>\n      <td>NaN</td>\n      <td>None</td>\n      <td>False</td>\n      <td>False</td>\n      <td>False</td>\n      <td>False</td>\n      <td>...</td>\n      <td>True</td>\n      <td>False</td>\n      <td>False</td>\n      <td>False</td>\n      <td>False</td>\n      <td>False</td>\n      <td>False</td>\n      <td>False</td>\n      <td>False</td>\n      <td>NaN</td>\n    </tr>\n    <tr>\n      <th>154</th>\n      <td>Data Scientist</td>\n      <td>ICR</td>\n      <td>ICR has opportunities available for experience...</td>\n      <td>Denver, CO</td>\n      <td>NaN</td>\n      <td>None</td>\n      <td>True</td>\n      <td>True</td>\n      <td>False</td>\n      <td>False</td>\n      <td>...</td>\n      <td>True</td>\n      <td>True</td>\n      <td>False</td>\n      <td>False</td>\n      <td>False</td>\n      <td>False</td>\n      <td>False</td>\n      <td>True</td>\n      <td>True</td>\n      <td>NaN</td>\n    </tr>\n  </tbody>\n</table>\n<p>155 rows × 21 columns</p>\n</div>"
     },
     "execution_count": 210,
     "metadata": {},
     "output_type": "execute_result"
    }
   ],
   "source": [
    "df2 = df\n",
    "df2['salary_min'].astype(np.float).astype(\"Int32\")\n",
    "df2['salary_max'].astype(np.float).astype(\"Int32\")\n",
    "df2['Avg Salary'] = df2['salary_min'] + df2['salary_max']\n",
    "df2"
   ],
   "metadata": {
    "collapsed": false,
    "pycharm": {
     "name": "#%%\n"
    }
   }
  },
  {
   "cell_type": "markdown",
   "metadata": {},
   "source": [
    "# Q 3 b(1.5 point) - Top 3 most demanding skills(like Python, AWS, SQL ...)\n",
    "\n"
   ]
  },
  {
   "cell_type": "markdown",
   "metadata": {
    "pycharm": {
     "name": "#%% md\n"
    }
   },
   "source": [
    "histogram = [0] * len(keywords)\n",
    "for index, row in df.iterrows():        \n",
    "    j = 0\n",
    "    for k in keywords:\n",
    "        if row[k] == True:\n",
    "            histogram[j] += 1\n",
    "            \n",
    "        j += 1\n",
    "            \n",
    "print(histogram)\n",
    "\n",
    "Z = [x for _, x in sorted(zip(histogram, keywords), reverse=True)]\n",
    "\n",
    "# print(Z[0:3])\n",
    "\n",
    "print(Z)"
   ]
  },
  {
   "cell_type": "markdown",
   "metadata": {},
   "source": [
    "# Q3 c(.5 point) What other questions you would like to ask  based on indeed data?\n",
    "# Top skills required for artifical intelligence and machine learning jobs\n",
    "# Highest paid skills\n",
    "# Highest paying job titles by company type\n",
    "This is free response questions.\n",
    "\n",
    "Question -\n",
    "\n",
    "Average pay for jobs requiring security clearance and average pay for non-security clearance jobs?"
   ]
  },
  {
   "cell_type": "markdown",
   "metadata": {},
   "source": [
    "*Write your anser in this cell. Double click this cell to edit this cell*\n",
    "1. Python, NLP, TensorFlow, Spark\n",
    "2. Python, AWS, Machine learning, NLP, SAS"
   ]
  },
  {
   "cell_type": "code",
   "execution_count": 194,
   "metadata": {},
   "outputs": [],
   "source": []
  }
 ],
 "metadata": {
  "kernelspec": {
   "display_name": "Python 3",
   "language": "python",
   "name": "python3"
  },
  "language_info": {
   "codemirror_mode": {
    "name": "ipython",
    "version": 3
   },
   "file_extension": ".py",
   "mimetype": "text/x-python",
   "name": "python",
   "nbconvert_exporter": "python",
   "pygments_lexer": "ipython3",
   "version": "3.7.9"
  },
  "toc": {
   "base_numbering": 1,
   "nav_menu": {},
   "number_sections": false,
   "sideBar": true,
   "skip_h1_title": false,
   "title_cell": "Table of Contents",
   "title_sidebar": "Contents",
   "toc_cell": false,
   "toc_position": {},
   "toc_section_display": true,
   "toc_window_display": false
  },
  "varInspector": {
   "cols": {
    "lenName": 16,
    "lenType": 16,
    "lenVar": 40
   },
   "kernels_config": {
    "python": {
     "delete_cmd_postfix": "",
     "delete_cmd_prefix": "del ",
     "library": "var_list.py",
     "varRefreshCmd": "print(var_dic_list())"
    },
    "r": {
     "delete_cmd_postfix": ") ",
     "delete_cmd_prefix": "rm(",
     "library": "var_list.r",
     "varRefreshCmd": "cat(var_dic_list()) "
    }
   },
   "types_to_exclude": [
    "module",
    "function",
    "builtin_function_or_method",
    "instance",
    "_Feature"
   ],
   "window_display": false
  }
 },
 "nbformat": 4,
 "nbformat_minor": 2
}