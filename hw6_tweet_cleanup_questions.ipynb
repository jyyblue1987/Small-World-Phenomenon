{
 "cells": [
  {
   "cell_type": "markdown",
   "metadata": {},
   "source": [
    "# Pandas DataFrame for storing tweet feed (total 12 points)\n",
    "\n",
    "Creating following date frame for storing tweets\n",
    "\n",
    "- **climate_feed_df** DataFrame for storing tweet\n",
    "- **retweeted_status_df** for storing original tweet"
   ]
  },
  {
   "cell_type": "code",
   "execution_count": 167,
   "metadata": {},
   "outputs": [],
   "source": [
    "import pandas as pd\n",
    "import numpy as np\n",
    "import nltk\n",
    "import re\n",
    "import requests\n",
    "from bs4 import BeautifulSoup as bsp\n",
    "\n"
   ]
  },
  {
   "cell_type": "code",
   "execution_count": 168,
   "metadata": {},
   "outputs": [],
   "source": [
    "# !wget https://github.com/psnegi/data_science_tools1/raw/master/hws/retweeted_status_df.pkl\n",
    "# !curl https://github.com/psnegi/data_science_tools1/raw/master/hws/retweeted_status_df.pkl"
   ]
  },
  {
   "cell_type": "code",
   "execution_count": 169,
   "metadata": {},
   "outputs": [],
   "source": [
    "# !wget https://github.com/psnegi/data_science_tools1/raw/master/hws/climate_feed.pkl\n",
    "# !curl https://github.com/psnegi/data_science_tools1/raw/master/hws/climate_feed.pkl"
   ]
  },
  {
   "cell_type": "markdown",
   "metadata": {},
   "source": [
    "<font color= \"red\">Click on these links if the above downloads fail. </font>\n",
    "\n",
    "\n",
    "https://github.com/psnegi/data_science_tools1/raw/master/hws/climate_feed.pkl\n",
    "\n",
    "https://github.com/psnegi/data_science_tools1/raw/master/hws/retweeted_status_df.pkl\n",
    "\n",
    "Keep these pkl file in the same directory as notebook"
   ]
  },
  {
   "cell_type": "code",
   "execution_count": 170,
   "metadata": {},
   "outputs": [],
   "source": [
    "retweeted_status_df = pd.read_pickle(\"retweeted_status_df.pkl\")"
   ]
  },
  {
   "cell_type": "code",
   "execution_count": 171,
   "metadata": {},
   "outputs": [
    {
     "data": {
      "text/plain": "      contributors coordinates                      created_at  \\\n0              NaN         NaN                             NaN   \n1              NaN        None  Sat Feb 09 20:27:45 +0000 2019   \n2              NaN        None  Sat Feb 09 23:56:18 +0000 2019   \n3              NaN        None  Sat Feb 09 23:34:27 +0000 2019   \n4              NaN        None  Sat Feb 09 19:07:56 +0000 2019   \n...            ...         ...                             ...   \n9994           NaN        None  Sat Feb 09 20:56:39 +0000 2019   \n9995           NaN        None  Thu Feb 07 20:27:55 +0000 2019   \n9996           NaN        None  Sat Feb 09 18:33:00 +0000 2019   \n9997           NaN        None  Fri Feb 08 22:15:50 +0000 2019   \n9998           NaN        None  Sat Feb 09 20:41:00 +0000 2019   \n\n                                                                                                                                                                                                                                                                                                                                                                                                                                                                                                                                                                             entities  \\\n0                                                                                                                                                                                                                                                                                                                                                                                                                                                                                                                                                                                 NaN   \n1                                                                                                                                                                                                                                                                                                                                     {'hashtags': [], 'user_mentions': [], 'urls': [{'indices': [117, 140], 'url': 'https://t.co/G0PqMIEUMV', 'display_url': 'twitter.com/i/web/status/1…', 'expanded_url': 'https://twitter.com/i/web/status/1094332044052549633'}], 'symbols': []}   \n2                                                                                                                                                                                                                                                                                                                                {'hashtags': [], 'user_mentions': [], 'urls': [{'indices': [88, 111], 'url': 'https://t.co/HWjCJGhQIx', 'display_url': 'twitter.com/LeoDiCaprio/st…', 'expanded_url': 'https://twitter.com/LeoDiCaprio/status/1093998640392220673'}], 'symbols': []}   \n3                                                                                                                                                                                                                                                                                                                                     {'hashtags': [], 'user_mentions': [], 'urls': [{'indices': [117, 140], 'url': 'https://t.co/2asxrk5Fqd', 'display_url': 'twitter.com/i/web/status/1…', 'expanded_url': 'https://twitter.com/i/web/status/1094379028608438272'}], 'symbols': []}   \n4                                                                                                                                                                                                                                                                                                                                     {'hashtags': [], 'user_mentions': [], 'urls': [{'indices': [117, 140], 'url': 'https://t.co/1J7lLUkYyY', 'display_url': 'twitter.com/i/web/status/1…', 'expanded_url': 'https://twitter.com/i/web/status/1094311957669265408'}], 'symbols': []}   \n...                                                                                                                                                                                                                                                                                                                                                                                                                                                                                                                                                                               ...   \n9994                                                                                                                                                                                                                                                                                    {'hashtags': [], 'user_mentions': [], 'urls': [{'indices': [57, 80], 'url': 'https://t.co/P1X5jfuUQC', 'display_url': 'treehugger.com/climate-change…', 'expanded_url': 'https://www.treehugger.com/climate-change/72-americans-are-very-worried-about-climate-change.html'}], 'symbols': []}   \n9995  {'hashtags': [], 'user_mentions': [{'id_str': '2497547378', 'name': 'Justice Faurall', 'screen_name': 'JFaurall', 'indices': [0, 9], 'id': 2497547378}, {'id_str': '3073664870', 'name': 'Michael Shelton', 'screen_name': 'MgBenchjeweler', 'indices': [10, 25], 'id': 3073664870}, {'id_str': '15764644', 'name': 'Nancy Pelosi', 'screen_name': 'SpeakerPelosi', 'indices': [26, 40], 'id': 15764644}], 'urls': [{'indices': [117, 140], 'url': 'https://t.co/YsUdbuTHT3', 'display_url': 'twitter.com/i/web/status/1…', 'expanded_url': 'https://twitter.com/i/web/statu...   \n9996                                                                                                                                                                                                                                                                                                                                  {'hashtags': [], 'user_mentions': [], 'urls': [{'indices': [117, 140], 'url': 'https://t.co/2ewlaPQscF', 'display_url': 'twitter.com/i/web/status/1…', 'expanded_url': 'https://twitter.com/i/web/status/1094303164805799936'}], 'symbols': []}   \n9997                                                                                                                                                                                                                                                                                                                                 {'hashtags': [], 'user_mentions': [], 'urls': [{'indices': [56, 79], 'url': 'https://t.co/P6znQNsbLH', 'display_url': 'twitter.com/business/statu…', 'expanded_url': 'https://twitter.com/business/status/1093893115633647616'}], 'symbols': []}   \n9998                                                                                                                                                                                                                                                                                                                                                                                    {'hashtags': [], 'user_mentions': [], 'urls': [{'indices': [21, 44], 'url': 'https://t.co/hFLndZsiBB', 'display_url': 'po.st/P5AgAW', 'expanded_url': 'http://po.st/P5AgAW'}], 'symbols': []}   \n\n     extended_entities  favorite_count favorited   geo            id  \\\n0                  NaN             NaN       NaN   NaN           NaN   \n1                  NaN            99.0     False  None  1.094332e+18   \n2                  NaN             6.0     False  None  1.094385e+18   \n3                  NaN           190.0     False  None  1.094379e+18   \n4                  NaN          2905.0     False  None  1.094312e+18   \n...                ...             ...       ...   ...           ...   \n9994               NaN             1.0     False  None  1.094339e+18   \n9995               NaN          3491.0     False  None  1.093607e+18   \n9996               NaN         12586.0     False  None  1.094303e+18   \n9997               NaN          4249.0     False  None  1.093997e+18   \n9998               NaN           166.0     False  None  1.094335e+18   \n\n                   id_str  ...  \\\n0                     NaN  ...   \n1     1094332044052549633  ...   \n2     1094384528267902977  ...   \n3     1094379028608438272  ...   \n4     1094311957669265408  ...   \n...                   ...  ...   \n9994  1094339317324017665  ...   \n9995  1093607309606076416  ...   \n9996  1094303164805799936  ...   \n9997  1093996855111966720  ...   \n9998  1094335377194799104  ...   \n\n                                                                                                                                                                                                                                                                                                                                                                                                                                                                                                                                                                        quoted_status  \\\n0                                                                                                                                                                                                                                                                                                                                                                                                                                                                                                                                                                                 NaN   \n1                                                                                                                                                                                                                                                                                                                                                                                                                                                                                                                                                                                 NaN   \n2     {'favorited': False, 'favorite_count': 2642, 'in_reply_to_screen_name': None, 'retweet_count': 734, 'possibly_sensitive': False, 'metadata': {'result_type': 'recent', 'iso_language_code': 'en'}, 'id_str': '1093998640392220673', 'entities': {'hashtags': [], 'user_mentions': [{'id_str': '958196173', 'name': \"Unist'ot'en Camp\", 'screen_name': 'UnistotenCamp', 'indices': [47, 61], 'id': 958196173}], 'urls': [{'indices': [116, 139], 'url': 'https://t.co/qeZKIWWIur', 'display_url': 'twitter.com/i/web/status/1…', 'expanded_url': 'https://twitter.com/i/web/s...   \n3     {'favorited': False, 'favorite_count': 220, 'in_reply_to_screen_name': None, 'retweet_count': 118, 'metadata': {'result_type': 'recent', 'iso_language_code': 'en'}, 'id_str': '1093931686998487040', 'entities': {'hashtags': [], 'user_mentions': [], 'urls': [{'indices': [117, 140], 'url': 'https://t.co/zQRo40WzF8', 'display_url': 'twitter.com/i/web/status/1…', 'expanded_url': 'https://twitter.com/i/web/status/1093931686998487040'}], 'symbols': []}, 'place': None, 'coordinates': None, 'id': 1093931686998487040, 'retweeted': False, 'geo': None, 'is_quote...   \n4                                                                                                                                                                                                                                                                                                                                                                                                                                                                                                                                                                                 NaN   \n...                                                                                                                                                                                                                                                                                                                                                                                                                                                                                                                                                                               ...   \n9994                                                                                                                                                                                                                                                                                                                                                                                                                                                                                                                                                                              NaN   \n9995                                                                                                                                                                                                                                                                                                                                                                                                                                                                                                                                                                              NaN   \n9996                                                                                                                                                                                                                                                                                                                                                                                                                                                                                                                                                                              NaN   \n9997  {'favorited': False, 'favorite_count': 551, 'in_reply_to_screen_name': None, 'retweet_count': 271, 'metadata': {'result_type': 'recent', 'iso_language_code': 'en'}, 'id_str': '1093893115633647616', 'entities': {'hashtags': [], 'user_mentions': [{'id_str': '281877818', 'name': 'Noah Smith', 'screen_name': 'Noahpinion', 'indices': [80, 91], 'id': 281877818}, {'id_str': '227682918', 'name': 'Bloomberg Opinion', 'screen_name': 'bopinion', 'indices': [127, 136], 'id': 227682918}], 'urls': [{'indices': [99, 122], 'url': 'https://t.co/prx9KRE94U', 'display_...   \n9998                                                                                                                                                                                                                                                                                                                                                                                                                                                                                                                                                                              NaN   \n\n      quoted_status_id quoted_status_id_str  retweet_count retweeted scopes  \\\n0                  NaN                  NaN            NaN       NaN    NaN   \n1                  NaN                  NaN           81.0     False    NaN   \n2         1.093999e+18  1093998640392220673            5.0     False    NaN   \n3         1.093932e+18  1093931686998487040           31.0     False    NaN   \n4                  NaN                  NaN          599.0     False    NaN   \n...                ...                  ...            ...       ...    ...   \n9994               NaN                  NaN            1.0     False    NaN   \n9995               NaN                  NaN          482.0     False    NaN   \n9996               NaN                  NaN         2801.0     False    NaN   \n9997      1.093893e+18  1093893115633647616          642.0     False    NaN   \n9998               NaN                  NaN           79.0     False    NaN   \n\n                                                                                    source  \\\n0                                                                                      NaN   \n1                       <a href=\"http://twitter.com\" rel=\"nofollow\">Twitter Web Client</a>   \n2     <a href=\"http://twitter.com/download/android\" rel=\"nofollow\">Twitter for Android</a>   \n3     <a href=\"http://twitter.com/download/android\" rel=\"nofollow\">Twitter for Android</a>   \n4       <a href=\"http://twitter.com/download/iphone\" rel=\"nofollow\">Twitter for iPhone</a>   \n...                                                                                    ...   \n9994  <a href=\"http://twitter.com/download/android\" rel=\"nofollow\">Twitter for Android</a>   \n9995  <a href=\"http://twitter.com/download/android\" rel=\"nofollow\">Twitter for Android</a>   \n9996   <a href=\"https://about.twitter.com/products/tweetdeck\" rel=\"nofollow\">TweetDeck</a>   \n9997               <a href=\"https://mobile.twitter.com\" rel=\"nofollow\">Twitter Web App</a>   \n9998                                <a href=\"https://buffer.com\" rel=\"nofollow\">Buffer</a>   \n\n                                                                                                                                                text  \\\n0                                                                                                                                                NaN   \n1       The National Party declares war on the Gloucester community because they stood up for themselves and won. Remember,… https://t.co/G0PqMIEUMV   \n2                                   This is the same idiot who thought\\nThe southern Alberta chinook was climate change lol. https://t.co/HWjCJGhQIx   \n3       Communism is Fascism. Fighting Climate Change will Kill millions. Apparently, you're just allowed to say shit on MS… https://t.co/2asxrk5Fqd   \n4       Unmitigated climate change would literally destroy civilization but doing something about it might increase the def… https://t.co/1J7lLUkYyY   \n...                                                                                                                                              ...   \n9994                                                                72% of Americans are 'very worried' about climate change https://t.co/P1X5jfuUQC   \n9995    @JFaurall @MgBenchjeweler @SpeakerPelosi California was given hundreds of millions of dollars over the years to pre… https://t.co/YsUdbuTHT3   \n9996  President Trump believes we should listen to fossil fuel executives and ignore climate change. \\n\\nI believe we shoul… https://t.co/2ewlaPQscF   \n9997                                                                 Wait til he hears how much climate change is gonna cost https://t.co/P6znQNsbLH   \n9998                                                                                                    Blue marble no more? https://t.co/hFLndZsiBB   \n\n     truncated  \\\n0          NaN   \n1         True   \n2        False   \n3         True   \n4         True   \n...        ...   \n9994     False   \n9995      True   \n9996      True   \n9997     False   \n9998     False   \n\n                                                                                                                                                                                                                                                                                                                                                                                                                                                                                                                                                                                 user  \n0                                                                                                                                                                                                                                                                                                                                                                                                                                                                                                                                                                                 NaN  \n1     {'default_profile': False, 'protected': False, 'follow_request_sent': None, 'is_translator': False, 'profile_use_background_image': False, 'name': 'Rob Oakeshott', 'profile_background_tile': False, 'friends_count': 4161, 'following': None, 'id_str': '16777464', 'profile_link_color': 'ABB8C2', 'listed_count': 636, 'translator_type': 'none', 'utc_offset': None, 'id': 16777464, 'is_translation_enabled': False, 'description': 'Independent candidate for Cowper. Lismore born Port Macquarie resident. Former state and federal MP. Views own. #Oakey4Cowper', '...  \n2     {'default_profile': False, 'protected': False, 'follow_request_sent': None, 'is_translator': False, 'profile_use_background_image': False, 'name': 'Suze Michelini', 'profile_background_tile': False, 'friends_count': 15565, 'following': None, 'id_str': '850130990706151428', 'profile_link_color': '1B95E0', 'listed_count': 62, 'translator_type': 'none', 'utc_offset': None, 'id': 850130990706151428, 'is_translation_enabled': False, 'description': 'AI Tech inventor for autistic children,brain injuries Snowboarder,lesbian, Libertarian, Proud Aspie,PhD in A...  \n3     {'default_profile': False, 'protected': False, 'follow_request_sent': None, 'is_translator': False, 'profile_use_background_image': False, 'name': 'Chad Vigorous', 'profile_background_tile': False, 'friends_count': 304, 'following': None, 'id_str': '753005970318626816', 'profile_link_color': '000000', 'listed_count': 186, 'translator_type': 'none', 'utc_offset': None, 'id': 753005970318626816, 'is_translation_enabled': False, 'description': 'They are rage, brutal, without mercy. But you. You will be worse. Rip and tear, until it is done.', 'profile_b...  \n4     {'default_profile': True, 'protected': False, 'follow_request_sent': None, 'is_translator': False, 'profile_use_background_image': True, 'name': 'Ken Klippenstein', 'profile_background_tile': False, 'friends_count': 2984, 'following': None, 'id_str': '1634248890', 'profile_link_color': '1DA1F2', 'listed_count': 1417, 'translator_type': 'none', 'utc_offset': None, 'id': 1634248890, 'is_translation_enabled': False, 'description': 'Reporter @TheYoungTurks. FOIA nerd. Likes dogs, people. Signal: 202-510-1268. Email: kenk@tytnetwork.com Send files anonymo...  \n...                                                                                                                                                                                                                                                                                                                                                                                                                                                                                                                                                                               ...  \n9994  {'default_profile': True, 'protected': False, 'follow_request_sent': None, 'is_translator': False, 'profile_use_background_image': True, 'name': 'fromhello2hello', 'profile_background_tile': False, 'friends_count': 87, 'following': None, 'id_str': '1073261955216039937', 'profile_link_color': '1DA1F2', 'listed_count': 0, 'translator_type': 'none', 'utc_offset': None, 'id': 1073261955216039937, 'is_translation_enabled': False, 'description': 'green not war', 'profile_background_image_url': None, 'profile_image_url_https': 'https://pbs.twimg.com/profile...  \n9995  {'default_profile': True, 'protected': False, 'follow_request_sent': None, 'is_translator': False, 'profile_use_background_image': True, 'name': 'stuntdaddy_42', 'profile_background_tile': False, 'friends_count': 37, 'following': None, 'id_str': '1082006962995429383', 'profile_link_color': '1DA1F2', 'listed_count': 0, 'translator_type': 'none', 'utc_offset': None, 'id': 1082006962995429383, 'is_translation_enabled': False, 'description': 'sicko mode or mo bamba?', 'profile_background_image_url': None, 'profile_image_url_https': 'https://pbs.twimg.com...  \n9996  {'default_profile': False, 'protected': False, 'follow_request_sent': None, 'is_translator': False, 'profile_use_background_image': True, 'name': 'Bernie Sanders', 'profile_background_tile': False, 'friends_count': 2094, 'following': None, 'id_str': '29442313', 'profile_link_color': '03102D', 'listed_count': 26046, 'translator_type': 'none', 'utc_offset': None, 'id': 29442313, 'is_translation_enabled': False, 'description': 'U.S. Senator Bernie Sanders of Vermont is the longest-serving independent in congressional history.', 'profile_background_image...  \n9997  {'default_profile': False, 'protected': False, 'follow_request_sent': None, 'is_translator': False, 'profile_use_background_image': True, 'name': 'Kate Aronoff', 'profile_background_tile': False, 'friends_count': 1162, 'following': None, 'id_str': '637196658', 'profile_link_color': 'FA743E', 'listed_count': 717, 'translator_type': 'none', 'utc_offset': None, 'id': 637196658, 'is_translation_enabled': False, 'description': 'Fellow @TypeMediaCenter & contributing writer @theintercept. Studying economics @JohnJayCollege. Past: @inthesetimesmag. Springst...  \n9998  {'default_profile': False, 'protected': False, 'follow_request_sent': None, 'is_translator': False, 'profile_use_background_image': True, 'name': 'George Takei', 'profile_background_tile': False, 'friends_count': 729, 'following': None, 'id_str': '237845487', 'profile_link_color': 'ABB8C2', 'listed_count': 23040, 'translator_type': 'none', 'utc_offset': None, 'id': 237845487, 'is_translation_enabled': False, 'description': 'Some know me as Mr. Sulu from Star Trek but I hope all know me as a believer in, and a fighter for, the equality and dignity of ...  \n\n[9999 rows x 30 columns]",
      "text/html": "<div>\n<style scoped>\n    .dataframe tbody tr th:only-of-type {\n        vertical-align: middle;\n    }\n\n    .dataframe tbody tr th {\n        vertical-align: top;\n    }\n\n    .dataframe thead th {\n        text-align: right;\n    }\n</style>\n<table border=\"1\" class=\"dataframe\">\n  <thead>\n    <tr style=\"text-align: right;\">\n      <th></th>\n      <th>contributors</th>\n      <th>coordinates</th>\n      <th>created_at</th>\n      <th>entities</th>\n      <th>extended_entities</th>\n      <th>favorite_count</th>\n      <th>favorited</th>\n      <th>geo</th>\n      <th>id</th>\n      <th>id_str</th>\n      <th>...</th>\n      <th>quoted_status</th>\n      <th>quoted_status_id</th>\n      <th>quoted_status_id_str</th>\n      <th>retweet_count</th>\n      <th>retweeted</th>\n      <th>scopes</th>\n      <th>source</th>\n      <th>text</th>\n      <th>truncated</th>\n      <th>user</th>\n    </tr>\n  </thead>\n  <tbody>\n    <tr>\n      <th>0</th>\n      <td>NaN</td>\n      <td>NaN</td>\n      <td>NaN</td>\n      <td>NaN</td>\n      <td>NaN</td>\n      <td>NaN</td>\n      <td>NaN</td>\n      <td>NaN</td>\n      <td>NaN</td>\n      <td>NaN</td>\n      <td>...</td>\n      <td>NaN</td>\n      <td>NaN</td>\n      <td>NaN</td>\n      <td>NaN</td>\n      <td>NaN</td>\n      <td>NaN</td>\n      <td>NaN</td>\n      <td>NaN</td>\n      <td>NaN</td>\n      <td>NaN</td>\n    </tr>\n    <tr>\n      <th>1</th>\n      <td>NaN</td>\n      <td>None</td>\n      <td>Sat Feb 09 20:27:45 +0000 2019</td>\n      <td>{'hashtags': [], 'user_mentions': [], 'urls': [{'indices': [117, 140], 'url': 'https://t.co/G0PqMIEUMV', 'display_url': 'twitter.com/i/web/status/1…', 'expanded_url': 'https://twitter.com/i/web/status/1094332044052549633'}], 'symbols': []}</td>\n      <td>NaN</td>\n      <td>99.0</td>\n      <td>False</td>\n      <td>None</td>\n      <td>1.094332e+18</td>\n      <td>1094332044052549633</td>\n      <td>...</td>\n      <td>NaN</td>\n      <td>NaN</td>\n      <td>NaN</td>\n      <td>81.0</td>\n      <td>False</td>\n      <td>NaN</td>\n      <td>&lt;a href=\"http://twitter.com\" rel=\"nofollow\"&gt;Twitter Web Client&lt;/a&gt;</td>\n      <td>The National Party declares war on the Gloucester community because they stood up for themselves and won. Remember,… https://t.co/G0PqMIEUMV</td>\n      <td>True</td>\n      <td>{'default_profile': False, 'protected': False, 'follow_request_sent': None, 'is_translator': False, 'profile_use_background_image': False, 'name': 'Rob Oakeshott', 'profile_background_tile': False, 'friends_count': 4161, 'following': None, 'id_str': '16777464', 'profile_link_color': 'ABB8C2', 'listed_count': 636, 'translator_type': 'none', 'utc_offset': None, 'id': 16777464, 'is_translation_enabled': False, 'description': 'Independent candidate for Cowper. Lismore born Port Macquarie resident. Former state and federal MP. Views own. #Oakey4Cowper', '...</td>\n    </tr>\n    <tr>\n      <th>2</th>\n      <td>NaN</td>\n      <td>None</td>\n      <td>Sat Feb 09 23:56:18 +0000 2019</td>\n      <td>{'hashtags': [], 'user_mentions': [], 'urls': [{'indices': [88, 111], 'url': 'https://t.co/HWjCJGhQIx', 'display_url': 'twitter.com/LeoDiCaprio/st…', 'expanded_url': 'https://twitter.com/LeoDiCaprio/status/1093998640392220673'}], 'symbols': []}</td>\n      <td>NaN</td>\n      <td>6.0</td>\n      <td>False</td>\n      <td>None</td>\n      <td>1.094385e+18</td>\n      <td>1094384528267902977</td>\n      <td>...</td>\n      <td>{'favorited': False, 'favorite_count': 2642, 'in_reply_to_screen_name': None, 'retweet_count': 734, 'possibly_sensitive': False, 'metadata': {'result_type': 'recent', 'iso_language_code': 'en'}, 'id_str': '1093998640392220673', 'entities': {'hashtags': [], 'user_mentions': [{'id_str': '958196173', 'name': \"Unist'ot'en Camp\", 'screen_name': 'UnistotenCamp', 'indices': [47, 61], 'id': 958196173}], 'urls': [{'indices': [116, 139], 'url': 'https://t.co/qeZKIWWIur', 'display_url': 'twitter.com/i/web/status/1…', 'expanded_url': 'https://twitter.com/i/web/s...</td>\n      <td>1.093999e+18</td>\n      <td>1093998640392220673</td>\n      <td>5.0</td>\n      <td>False</td>\n      <td>NaN</td>\n      <td>&lt;a href=\"http://twitter.com/download/android\" rel=\"nofollow\"&gt;Twitter for Android&lt;/a&gt;</td>\n      <td>This is the same idiot who thought\\nThe southern Alberta chinook was climate change lol. https://t.co/HWjCJGhQIx</td>\n      <td>False</td>\n      <td>{'default_profile': False, 'protected': False, 'follow_request_sent': None, 'is_translator': False, 'profile_use_background_image': False, 'name': 'Suze Michelini', 'profile_background_tile': False, 'friends_count': 15565, 'following': None, 'id_str': '850130990706151428', 'profile_link_color': '1B95E0', 'listed_count': 62, 'translator_type': 'none', 'utc_offset': None, 'id': 850130990706151428, 'is_translation_enabled': False, 'description': 'AI Tech inventor for autistic children,brain injuries Snowboarder,lesbian, Libertarian, Proud Aspie,PhD in A...</td>\n    </tr>\n    <tr>\n      <th>3</th>\n      <td>NaN</td>\n      <td>None</td>\n      <td>Sat Feb 09 23:34:27 +0000 2019</td>\n      <td>{'hashtags': [], 'user_mentions': [], 'urls': [{'indices': [117, 140], 'url': 'https://t.co/2asxrk5Fqd', 'display_url': 'twitter.com/i/web/status/1…', 'expanded_url': 'https://twitter.com/i/web/status/1094379028608438272'}], 'symbols': []}</td>\n      <td>NaN</td>\n      <td>190.0</td>\n      <td>False</td>\n      <td>None</td>\n      <td>1.094379e+18</td>\n      <td>1094379028608438272</td>\n      <td>...</td>\n      <td>{'favorited': False, 'favorite_count': 220, 'in_reply_to_screen_name': None, 'retweet_count': 118, 'metadata': {'result_type': 'recent', 'iso_language_code': 'en'}, 'id_str': '1093931686998487040', 'entities': {'hashtags': [], 'user_mentions': [], 'urls': [{'indices': [117, 140], 'url': 'https://t.co/zQRo40WzF8', 'display_url': 'twitter.com/i/web/status/1…', 'expanded_url': 'https://twitter.com/i/web/status/1093931686998487040'}], 'symbols': []}, 'place': None, 'coordinates': None, 'id': 1093931686998487040, 'retweeted': False, 'geo': None, 'is_quote...</td>\n      <td>1.093932e+18</td>\n      <td>1093931686998487040</td>\n      <td>31.0</td>\n      <td>False</td>\n      <td>NaN</td>\n      <td>&lt;a href=\"http://twitter.com/download/android\" rel=\"nofollow\"&gt;Twitter for Android&lt;/a&gt;</td>\n      <td>Communism is Fascism. Fighting Climate Change will Kill millions. Apparently, you're just allowed to say shit on MS… https://t.co/2asxrk5Fqd</td>\n      <td>True</td>\n      <td>{'default_profile': False, 'protected': False, 'follow_request_sent': None, 'is_translator': False, 'profile_use_background_image': False, 'name': 'Chad Vigorous', 'profile_background_tile': False, 'friends_count': 304, 'following': None, 'id_str': '753005970318626816', 'profile_link_color': '000000', 'listed_count': 186, 'translator_type': 'none', 'utc_offset': None, 'id': 753005970318626816, 'is_translation_enabled': False, 'description': 'They are rage, brutal, without mercy. But you. You will be worse. Rip and tear, until it is done.', 'profile_b...</td>\n    </tr>\n    <tr>\n      <th>4</th>\n      <td>NaN</td>\n      <td>None</td>\n      <td>Sat Feb 09 19:07:56 +0000 2019</td>\n      <td>{'hashtags': [], 'user_mentions': [], 'urls': [{'indices': [117, 140], 'url': 'https://t.co/1J7lLUkYyY', 'display_url': 'twitter.com/i/web/status/1…', 'expanded_url': 'https://twitter.com/i/web/status/1094311957669265408'}], 'symbols': []}</td>\n      <td>NaN</td>\n      <td>2905.0</td>\n      <td>False</td>\n      <td>None</td>\n      <td>1.094312e+18</td>\n      <td>1094311957669265408</td>\n      <td>...</td>\n      <td>NaN</td>\n      <td>NaN</td>\n      <td>NaN</td>\n      <td>599.0</td>\n      <td>False</td>\n      <td>NaN</td>\n      <td>&lt;a href=\"http://twitter.com/download/iphone\" rel=\"nofollow\"&gt;Twitter for iPhone&lt;/a&gt;</td>\n      <td>Unmitigated climate change would literally destroy civilization but doing something about it might increase the def… https://t.co/1J7lLUkYyY</td>\n      <td>True</td>\n      <td>{'default_profile': True, 'protected': False, 'follow_request_sent': None, 'is_translator': False, 'profile_use_background_image': True, 'name': 'Ken Klippenstein', 'profile_background_tile': False, 'friends_count': 2984, 'following': None, 'id_str': '1634248890', 'profile_link_color': '1DA1F2', 'listed_count': 1417, 'translator_type': 'none', 'utc_offset': None, 'id': 1634248890, 'is_translation_enabled': False, 'description': 'Reporter @TheYoungTurks. FOIA nerd. Likes dogs, people. Signal: 202-510-1268. Email: kenk@tytnetwork.com Send files anonymo...</td>\n    </tr>\n    <tr>\n      <th>...</th>\n      <td>...</td>\n      <td>...</td>\n      <td>...</td>\n      <td>...</td>\n      <td>...</td>\n      <td>...</td>\n      <td>...</td>\n      <td>...</td>\n      <td>...</td>\n      <td>...</td>\n      <td>...</td>\n      <td>...</td>\n      <td>...</td>\n      <td>...</td>\n      <td>...</td>\n      <td>...</td>\n      <td>...</td>\n      <td>...</td>\n      <td>...</td>\n      <td>...</td>\n      <td>...</td>\n    </tr>\n    <tr>\n      <th>9994</th>\n      <td>NaN</td>\n      <td>None</td>\n      <td>Sat Feb 09 20:56:39 +0000 2019</td>\n      <td>{'hashtags': [], 'user_mentions': [], 'urls': [{'indices': [57, 80], 'url': 'https://t.co/P1X5jfuUQC', 'display_url': 'treehugger.com/climate-change…', 'expanded_url': 'https://www.treehugger.com/climate-change/72-americans-are-very-worried-about-climate-change.html'}], 'symbols': []}</td>\n      <td>NaN</td>\n      <td>1.0</td>\n      <td>False</td>\n      <td>None</td>\n      <td>1.094339e+18</td>\n      <td>1094339317324017665</td>\n      <td>...</td>\n      <td>NaN</td>\n      <td>NaN</td>\n      <td>NaN</td>\n      <td>1.0</td>\n      <td>False</td>\n      <td>NaN</td>\n      <td>&lt;a href=\"http://twitter.com/download/android\" rel=\"nofollow\"&gt;Twitter for Android&lt;/a&gt;</td>\n      <td>72% of Americans are 'very worried' about climate change https://t.co/P1X5jfuUQC</td>\n      <td>False</td>\n      <td>{'default_profile': True, 'protected': False, 'follow_request_sent': None, 'is_translator': False, 'profile_use_background_image': True, 'name': 'fromhello2hello', 'profile_background_tile': False, 'friends_count': 87, 'following': None, 'id_str': '1073261955216039937', 'profile_link_color': '1DA1F2', 'listed_count': 0, 'translator_type': 'none', 'utc_offset': None, 'id': 1073261955216039937, 'is_translation_enabled': False, 'description': 'green not war', 'profile_background_image_url': None, 'profile_image_url_https': 'https://pbs.twimg.com/profile...</td>\n    </tr>\n    <tr>\n      <th>9995</th>\n      <td>NaN</td>\n      <td>None</td>\n      <td>Thu Feb 07 20:27:55 +0000 2019</td>\n      <td>{'hashtags': [], 'user_mentions': [{'id_str': '2497547378', 'name': 'Justice Faurall', 'screen_name': 'JFaurall', 'indices': [0, 9], 'id': 2497547378}, {'id_str': '3073664870', 'name': 'Michael Shelton', 'screen_name': 'MgBenchjeweler', 'indices': [10, 25], 'id': 3073664870}, {'id_str': '15764644', 'name': 'Nancy Pelosi', 'screen_name': 'SpeakerPelosi', 'indices': [26, 40], 'id': 15764644}], 'urls': [{'indices': [117, 140], 'url': 'https://t.co/YsUdbuTHT3', 'display_url': 'twitter.com/i/web/status/1…', 'expanded_url': 'https://twitter.com/i/web/statu...</td>\n      <td>NaN</td>\n      <td>3491.0</td>\n      <td>False</td>\n      <td>None</td>\n      <td>1.093607e+18</td>\n      <td>1093607309606076416</td>\n      <td>...</td>\n      <td>NaN</td>\n      <td>NaN</td>\n      <td>NaN</td>\n      <td>482.0</td>\n      <td>False</td>\n      <td>NaN</td>\n      <td>&lt;a href=\"http://twitter.com/download/android\" rel=\"nofollow\"&gt;Twitter for Android&lt;/a&gt;</td>\n      <td>@JFaurall @MgBenchjeweler @SpeakerPelosi California was given hundreds of millions of dollars over the years to pre… https://t.co/YsUdbuTHT3</td>\n      <td>True</td>\n      <td>{'default_profile': True, 'protected': False, 'follow_request_sent': None, 'is_translator': False, 'profile_use_background_image': True, 'name': 'stuntdaddy_42', 'profile_background_tile': False, 'friends_count': 37, 'following': None, 'id_str': '1082006962995429383', 'profile_link_color': '1DA1F2', 'listed_count': 0, 'translator_type': 'none', 'utc_offset': None, 'id': 1082006962995429383, 'is_translation_enabled': False, 'description': 'sicko mode or mo bamba?', 'profile_background_image_url': None, 'profile_image_url_https': 'https://pbs.twimg.com...</td>\n    </tr>\n    <tr>\n      <th>9996</th>\n      <td>NaN</td>\n      <td>None</td>\n      <td>Sat Feb 09 18:33:00 +0000 2019</td>\n      <td>{'hashtags': [], 'user_mentions': [], 'urls': [{'indices': [117, 140], 'url': 'https://t.co/2ewlaPQscF', 'display_url': 'twitter.com/i/web/status/1…', 'expanded_url': 'https://twitter.com/i/web/status/1094303164805799936'}], 'symbols': []}</td>\n      <td>NaN</td>\n      <td>12586.0</td>\n      <td>False</td>\n      <td>None</td>\n      <td>1.094303e+18</td>\n      <td>1094303164805799936</td>\n      <td>...</td>\n      <td>NaN</td>\n      <td>NaN</td>\n      <td>NaN</td>\n      <td>2801.0</td>\n      <td>False</td>\n      <td>NaN</td>\n      <td>&lt;a href=\"https://about.twitter.com/products/tweetdeck\" rel=\"nofollow\"&gt;TweetDeck&lt;/a&gt;</td>\n      <td>President Trump believes we should listen to fossil fuel executives and ignore climate change. \\n\\nI believe we shoul… https://t.co/2ewlaPQscF</td>\n      <td>True</td>\n      <td>{'default_profile': False, 'protected': False, 'follow_request_sent': None, 'is_translator': False, 'profile_use_background_image': True, 'name': 'Bernie Sanders', 'profile_background_tile': False, 'friends_count': 2094, 'following': None, 'id_str': '29442313', 'profile_link_color': '03102D', 'listed_count': 26046, 'translator_type': 'none', 'utc_offset': None, 'id': 29442313, 'is_translation_enabled': False, 'description': 'U.S. Senator Bernie Sanders of Vermont is the longest-serving independent in congressional history.', 'profile_background_image...</td>\n    </tr>\n    <tr>\n      <th>9997</th>\n      <td>NaN</td>\n      <td>None</td>\n      <td>Fri Feb 08 22:15:50 +0000 2019</td>\n      <td>{'hashtags': [], 'user_mentions': [], 'urls': [{'indices': [56, 79], 'url': 'https://t.co/P6znQNsbLH', 'display_url': 'twitter.com/business/statu…', 'expanded_url': 'https://twitter.com/business/status/1093893115633647616'}], 'symbols': []}</td>\n      <td>NaN</td>\n      <td>4249.0</td>\n      <td>False</td>\n      <td>None</td>\n      <td>1.093997e+18</td>\n      <td>1093996855111966720</td>\n      <td>...</td>\n      <td>{'favorited': False, 'favorite_count': 551, 'in_reply_to_screen_name': None, 'retweet_count': 271, 'metadata': {'result_type': 'recent', 'iso_language_code': 'en'}, 'id_str': '1093893115633647616', 'entities': {'hashtags': [], 'user_mentions': [{'id_str': '281877818', 'name': 'Noah Smith', 'screen_name': 'Noahpinion', 'indices': [80, 91], 'id': 281877818}, {'id_str': '227682918', 'name': 'Bloomberg Opinion', 'screen_name': 'bopinion', 'indices': [127, 136], 'id': 227682918}], 'urls': [{'indices': [99, 122], 'url': 'https://t.co/prx9KRE94U', 'display_...</td>\n      <td>1.093893e+18</td>\n      <td>1093893115633647616</td>\n      <td>642.0</td>\n      <td>False</td>\n      <td>NaN</td>\n      <td>&lt;a href=\"https://mobile.twitter.com\" rel=\"nofollow\"&gt;Twitter Web App&lt;/a&gt;</td>\n      <td>Wait til he hears how much climate change is gonna cost https://t.co/P6znQNsbLH</td>\n      <td>False</td>\n      <td>{'default_profile': False, 'protected': False, 'follow_request_sent': None, 'is_translator': False, 'profile_use_background_image': True, 'name': 'Kate Aronoff', 'profile_background_tile': False, 'friends_count': 1162, 'following': None, 'id_str': '637196658', 'profile_link_color': 'FA743E', 'listed_count': 717, 'translator_type': 'none', 'utc_offset': None, 'id': 637196658, 'is_translation_enabled': False, 'description': 'Fellow @TypeMediaCenter &amp; contributing writer @theintercept. Studying economics @JohnJayCollege. Past: @inthesetimesmag. Springst...</td>\n    </tr>\n    <tr>\n      <th>9998</th>\n      <td>NaN</td>\n      <td>None</td>\n      <td>Sat Feb 09 20:41:00 +0000 2019</td>\n      <td>{'hashtags': [], 'user_mentions': [], 'urls': [{'indices': [21, 44], 'url': 'https://t.co/hFLndZsiBB', 'display_url': 'po.st/P5AgAW', 'expanded_url': 'http://po.st/P5AgAW'}], 'symbols': []}</td>\n      <td>NaN</td>\n      <td>166.0</td>\n      <td>False</td>\n      <td>None</td>\n      <td>1.094335e+18</td>\n      <td>1094335377194799104</td>\n      <td>...</td>\n      <td>NaN</td>\n      <td>NaN</td>\n      <td>NaN</td>\n      <td>79.0</td>\n      <td>False</td>\n      <td>NaN</td>\n      <td>&lt;a href=\"https://buffer.com\" rel=\"nofollow\"&gt;Buffer&lt;/a&gt;</td>\n      <td>Blue marble no more? https://t.co/hFLndZsiBB</td>\n      <td>False</td>\n      <td>{'default_profile': False, 'protected': False, 'follow_request_sent': None, 'is_translator': False, 'profile_use_background_image': True, 'name': 'George Takei', 'profile_background_tile': False, 'friends_count': 729, 'following': None, 'id_str': '237845487', 'profile_link_color': 'ABB8C2', 'listed_count': 23040, 'translator_type': 'none', 'utc_offset': None, 'id': 237845487, 'is_translation_enabled': False, 'description': 'Some know me as Mr. Sulu from Star Trek but I hope all know me as a believer in, and a fighter for, the equality and dignity of ...</td>\n    </tr>\n  </tbody>\n</table>\n<p>9999 rows × 30 columns</p>\n</div>"
     },
     "execution_count": 171,
     "metadata": {},
     "output_type": "execute_result"
    }
   ],
   "source": [
    "retweeted_status_df"
   ]
  },
  {
   "cell_type": "code",
   "execution_count": 172,
   "metadata": {},
   "outputs": [
    {
     "data": {
      "text/plain": "     contributors coordinates                      created_at  \\\n0            None        None  Sun Feb 10 00:17:31 +0000 2019   \n1            None        None  Sun Feb 10 00:17:30 +0000 2019   \n2            None        None  Sun Feb 10 00:17:26 +0000 2019   \n3            None        None  Sun Feb 10 00:17:24 +0000 2019   \n4            None        None  Sun Feb 10 00:17:23 +0000 2019   \n...           ...         ...                             ...   \n9994         None        None  Sat Feb 09 20:57:54 +0000 2019   \n9995         None        None  Sat Feb 09 20:57:54 +0000 2019   \n9996         None        None  Sat Feb 09 20:57:53 +0000 2019   \n9997         None        None  Sat Feb 09 20:57:51 +0000 2019   \n9998         None        None  Sat Feb 09 20:57:51 +0000 2019   \n\n                                                                                                                                                                                                                                                                                                                                                                                                                                                                                                                                                                             entities  \\\n0                                                                                                                                                                                                                       {'hashtags': [], 'user_mentions': [{'id_str': '48117116', 'name': 'Steve King', 'screen_name': 'SteveKingIA', 'indices': [1, 13], 'id': 48117116}], 'urls': [{'indices': [117, 140], 'url': 'https://t.co/J1CcrQZkB2', 'display_url': 'twitter.com/i/web/status/1…', 'expanded_url': 'https://twitter.com/i/web/status/1094389867499405313'}], 'symbols': []}   \n1                                                                                                                                                                                                                                                                                                                                                                                                 {'hashtags': [], 'user_mentions': [{'id_str': '16777464', 'name': 'Rob Oakeshott', 'screen_name': 'RobOakeshott1', 'indices': [3, 17], 'id': 16777464}], 'urls': [], 'symbols': []}   \n2                                                                                                                                                                                         {'hashtags': [], 'user_mentions': [{'id_str': '850130990706151428', 'name': 'Suze Michelini', 'screen_name': 'emilia_suze', 'indices': [3, 15], 'id': 850130990706151428}], 'urls': [{'indices': [105, 128], 'url': 'https://t.co/HWjCJGhQIx', 'display_url': 'twitter.com/LeoDiCaprio/st…', 'expanded_url': 'https://twitter.com/LeoDiCaprio/status/1093998640392220673'}], 'symbols': []}   \n3                                                                                                                                                                                                                                                                                                                                                                            {'hashtags': [], 'user_mentions': [{'id_str': '753005970318626816', 'name': 'Chad Vigorous', 'screen_name': 'PrettyBadLefty', 'indices': [3, 18], 'id': 753005970318626816}], 'urls': [], 'symbols': []}   \n4                                                                                                                                                                                                                                                                                                                                                                                        {'hashtags': [], 'user_mentions': [{'id_str': '1634248890', 'name': 'Ken Klippenstein', 'screen_name': 'kenklippenstein', 'indices': [3, 19], 'id': 1634248890}], 'urls': [], 'symbols': []}   \n...                                                                                                                                                                                                                                                                                                                                                                                                                                                                                                                                                                               ...   \n9994                                                                                                                                      {'hashtags': [], 'user_mentions': [{'id_str': '1073261955216039937', 'name': 'fromhello2hello', 'screen_name': 'fromhello2hello', 'indices': [3, 19], 'id': 1073261955216039937}], 'urls': [{'indices': [78, 101], 'url': 'https://t.co/P1X5jfuUQC', 'display_url': 'treehugger.com/climate-change…', 'expanded_url': 'https://www.treehugger.com/climate-change/72-americans-are-very-worried-about-climate-change.html'}], 'symbols': []}   \n9995  {'hashtags': [], 'user_mentions': [{'id_str': '1082006962995429383', 'name': 'stuntdaddy_42', 'screen_name': 'stuntdaddy_42', 'indices': [3, 17], 'id': 1082006962995429383}, {'id_str': '2497547378', 'name': 'Justice Faurall', 'screen_name': 'JFaurall', 'indices': [19, 28], 'id': 2497547378}, {'id_str': '3073664870', 'name': 'Michael Shelton', 'screen_name': 'MgBenchjeweler', 'indices': [29, 44], 'id': 3073664870}, {'id_str': '15764644', 'name': 'Nancy Pelosi', 'screen_name': 'SpeakerPelosi', 'indices': [45, 59], 'id': 15764644}], 'urls': [], 'symbols...   \n9996                                                                                                                                                                                                                                                                                                                                                                                                {'hashtags': [], 'user_mentions': [{'id_str': '29442313', 'name': 'Bernie Sanders', 'screen_name': 'SenSanders', 'indices': [3, 14], 'id': 29442313}], 'urls': [], 'symbols': []}   \n9997                                                                                                                                                                                                               {'hashtags': [], 'user_mentions': [{'id_str': '637196658', 'name': 'Kate Aronoff', 'screen_name': 'KateAronoff', 'indices': [3, 15], 'id': 637196658}], 'urls': [{'indices': [73, 96], 'url': 'https://t.co/P6znQNsbLH', 'display_url': 'twitter.com/business/statu…', 'expanded_url': 'https://twitter.com/business/status/1093893115633647616'}], 'symbols': []}   \n9998                                                                                                                                                                                                                                                                  {'hashtags': [], 'user_mentions': [{'id_str': '237845487', 'name': 'George Takei', 'screen_name': 'GeorgeTakei', 'indices': [3, 15], 'id': 237845487}], 'urls': [{'indices': [38, 61], 'url': 'https://t.co/hFLndZsiBB', 'display_url': 'po.st/P5AgAW', 'expanded_url': 'http://po.st/P5AgAW'}], 'symbols': []}   \n\n     extended_entities favorite_count favorited   geo                   id  \\\n0                  NaN              0     False  None  1094389867499405313   \n1                  NaN              0     False  None  1094389862193455105   \n2                  NaN              0     False  None  1094389844078485506   \n3                  NaN              0     False  None  1094389837522599936   \n4                  NaN              0     False  None  1094389831419994112   \n...                ...            ...       ...   ...                  ...   \n9994               NaN              0     False  None  1094339630500012033   \n9995               NaN              0     False  None  1094339629107400704   \n9996               NaN              0     False  None  1094339627316641794   \n9997               NaN              0     False  None  1094339619569557504   \n9998               NaN              0     False  None  1094339617581481984   \n\n                   id_str  ... quoted_status     quoted_status_id  \\\n0     1094389867499405313  ...           NaN                  NaN   \n1     1094389862193455105  ...           NaN                  NaN   \n2     1094389844078485506  ...           NaN  1093998640392220673   \n3     1094389837522599936  ...           NaN  1093931686998487040   \n4     1094389831419994112  ...           NaN                  NaN   \n...                   ...  ...           ...                  ...   \n9994  1094339630500012033  ...           NaN                  NaN   \n9995  1094339629107400704  ...           NaN                  NaN   \n9996  1094339627316641794  ...           NaN                  NaN   \n9997  1094339619569557504  ...           NaN  1093893115633647616   \n9998  1094339617581481984  ...           NaN                  NaN   \n\n     quoted_status_id_str retweet_count retweeted retweeted_status  \\\n0                     NaN             0     False              NaN   \n1                     NaN            81     False     1.094332e+18   \n2     1093998640392220673             5     False     1.094385e+18   \n3     1093931686998487040            31     False     1.094379e+18   \n4                     NaN           599     False     1.094312e+18   \n...                   ...           ...       ...              ...   \n9994                  NaN             1     False     1.094339e+18   \n9995                  NaN           482     False     1.093607e+18   \n9996                  NaN          2801     False     1.094303e+18   \n9997  1093893115633647616           642     False     1.093997e+18   \n9998                  NaN            79     False     1.094335e+18   \n\n                                                                                    source  \\\n0                       <a href=\"http://twitter.com\" rel=\"nofollow\">Twitter Web Client</a>   \n1                <a href=\"http://tapbots.com/tweetbot\" rel=\"nofollow\">Tweetbot for iΟS</a>   \n2                  <a href=\"https://mobile.twitter.com\" rel=\"nofollow\">Twitter Web App</a>   \n3                       <a href=\"http://twitter.com\" rel=\"nofollow\">Twitter Web Client</a>   \n4     <a href=\"http://twitter.com/download/android\" rel=\"nofollow\">Twitter for Android</a>   \n...                                                                                    ...   \n9994  <a href=\"http://twitter.com/download/android\" rel=\"nofollow\">Twitter for Android</a>   \n9995    <a href=\"http://twitter.com/download/iphone\" rel=\"nofollow\">Twitter for iPhone</a>   \n9996  <a href=\"http://twitter.com/download/android\" rel=\"nofollow\">Twitter for Android</a>   \n9997    <a href=\"http://twitter.com/download/iphone\" rel=\"nofollow\">Twitter for iPhone</a>   \n9998                    <a href=\"http://twitter.com\" rel=\"nofollow\">Twitter Web Client</a>   \n\n                                                                                                                                                text  \\\n0       .@SteveKingIA says he's unsure about the science of climate change. But you don’t need to be a scientist to take ac… https://t.co/J1CcrQZkB2   \n1        RT @RobOakeshott1: The National Party declares war on the Gloucester community because they stood up for themselves and won. Remember, the…   \n2                  RT @emilia_suze: This is the same idiot who thought\\nThe southern Alberta chinook was climate change lol. https://t.co/HWjCJGhQIx   \n3       RT @PrettyBadLefty: Communism is Fascism. Fighting Climate Change will Kill millions. Apparently, you're just allowed to say shit on MSNBC.…   \n4       RT @kenklippenstein: Unmitigated climate change would literally destroy civilization but doing something about it might increase the defici…   \n...                                                                                                                                              ...   \n9994                                           RT @fromhello2hello: 72% of Americans are 'very worried' about climate change https://t.co/P1X5jfuUQC   \n9995     RT @stuntdaddy_42: @JFaurall @MgBenchjeweler @SpeakerPelosi California was given hundreds of millions of dollars over the years to prevent…   \n9996  RT @SenSanders: President Trump believes we should listen to fossil fuel executives and ignore climate change. \\n\\nI believe we should listen…   \n9997                                                RT @KateAronoff: Wait til he hears how much climate change is gonna cost https://t.co/P6znQNsbLH   \n9998                                                                                   RT @GeorgeTakei: Blue marble no more? https://t.co/hFLndZsiBB   \n\n     truncated              user_id  \n0         True             31476142  \n1        False            996782298  \n2        False             45333453  \n3        False  1020067726532829185  \n4        False             19889325  \n...        ...                  ...  \n9994     False   888112320097918976  \n9995     False           3324836714  \n9996     False           1487109794  \n9997     False           4737089913  \n9998     False             19444003  \n\n[9999 rows x 30 columns]",
      "text/html": "<div>\n<style scoped>\n    .dataframe tbody tr th:only-of-type {\n        vertical-align: middle;\n    }\n\n    .dataframe tbody tr th {\n        vertical-align: top;\n    }\n\n    .dataframe thead th {\n        text-align: right;\n    }\n</style>\n<table border=\"1\" class=\"dataframe\">\n  <thead>\n    <tr style=\"text-align: right;\">\n      <th></th>\n      <th>contributors</th>\n      <th>coordinates</th>\n      <th>created_at</th>\n      <th>entities</th>\n      <th>extended_entities</th>\n      <th>favorite_count</th>\n      <th>favorited</th>\n      <th>geo</th>\n      <th>id</th>\n      <th>id_str</th>\n      <th>...</th>\n      <th>quoted_status</th>\n      <th>quoted_status_id</th>\n      <th>quoted_status_id_str</th>\n      <th>retweet_count</th>\n      <th>retweeted</th>\n      <th>retweeted_status</th>\n      <th>source</th>\n      <th>text</th>\n      <th>truncated</th>\n      <th>user_id</th>\n    </tr>\n  </thead>\n  <tbody>\n    <tr>\n      <th>0</th>\n      <td>None</td>\n      <td>None</td>\n      <td>Sun Feb 10 00:17:31 +0000 2019</td>\n      <td>{'hashtags': [], 'user_mentions': [{'id_str': '48117116', 'name': 'Steve King', 'screen_name': 'SteveKingIA', 'indices': [1, 13], 'id': 48117116}], 'urls': [{'indices': [117, 140], 'url': 'https://t.co/J1CcrQZkB2', 'display_url': 'twitter.com/i/web/status/1…', 'expanded_url': 'https://twitter.com/i/web/status/1094389867499405313'}], 'symbols': []}</td>\n      <td>NaN</td>\n      <td>0</td>\n      <td>False</td>\n      <td>None</td>\n      <td>1094389867499405313</td>\n      <td>1094389867499405313</td>\n      <td>...</td>\n      <td>NaN</td>\n      <td>NaN</td>\n      <td>NaN</td>\n      <td>0</td>\n      <td>False</td>\n      <td>NaN</td>\n      <td>&lt;a href=\"http://twitter.com\" rel=\"nofollow\"&gt;Twitter Web Client&lt;/a&gt;</td>\n      <td>.@SteveKingIA says he's unsure about the science of climate change. But you don’t need to be a scientist to take ac… https://t.co/J1CcrQZkB2</td>\n      <td>True</td>\n      <td>31476142</td>\n    </tr>\n    <tr>\n      <th>1</th>\n      <td>None</td>\n      <td>None</td>\n      <td>Sun Feb 10 00:17:30 +0000 2019</td>\n      <td>{'hashtags': [], 'user_mentions': [{'id_str': '16777464', 'name': 'Rob Oakeshott', 'screen_name': 'RobOakeshott1', 'indices': [3, 17], 'id': 16777464}], 'urls': [], 'symbols': []}</td>\n      <td>NaN</td>\n      <td>0</td>\n      <td>False</td>\n      <td>None</td>\n      <td>1094389862193455105</td>\n      <td>1094389862193455105</td>\n      <td>...</td>\n      <td>NaN</td>\n      <td>NaN</td>\n      <td>NaN</td>\n      <td>81</td>\n      <td>False</td>\n      <td>1.094332e+18</td>\n      <td>&lt;a href=\"http://tapbots.com/tweetbot\" rel=\"nofollow\"&gt;Tweetbot for iΟS&lt;/a&gt;</td>\n      <td>RT @RobOakeshott1: The National Party declares war on the Gloucester community because they stood up for themselves and won. Remember, the…</td>\n      <td>False</td>\n      <td>996782298</td>\n    </tr>\n    <tr>\n      <th>2</th>\n      <td>None</td>\n      <td>None</td>\n      <td>Sun Feb 10 00:17:26 +0000 2019</td>\n      <td>{'hashtags': [], 'user_mentions': [{'id_str': '850130990706151428', 'name': 'Suze Michelini', 'screen_name': 'emilia_suze', 'indices': [3, 15], 'id': 850130990706151428}], 'urls': [{'indices': [105, 128], 'url': 'https://t.co/HWjCJGhQIx', 'display_url': 'twitter.com/LeoDiCaprio/st…', 'expanded_url': 'https://twitter.com/LeoDiCaprio/status/1093998640392220673'}], 'symbols': []}</td>\n      <td>NaN</td>\n      <td>0</td>\n      <td>False</td>\n      <td>None</td>\n      <td>1094389844078485506</td>\n      <td>1094389844078485506</td>\n      <td>...</td>\n      <td>NaN</td>\n      <td>1093998640392220673</td>\n      <td>1093998640392220673</td>\n      <td>5</td>\n      <td>False</td>\n      <td>1.094385e+18</td>\n      <td>&lt;a href=\"https://mobile.twitter.com\" rel=\"nofollow\"&gt;Twitter Web App&lt;/a&gt;</td>\n      <td>RT @emilia_suze: This is the same idiot who thought\\nThe southern Alberta chinook was climate change lol. https://t.co/HWjCJGhQIx</td>\n      <td>False</td>\n      <td>45333453</td>\n    </tr>\n    <tr>\n      <th>3</th>\n      <td>None</td>\n      <td>None</td>\n      <td>Sun Feb 10 00:17:24 +0000 2019</td>\n      <td>{'hashtags': [], 'user_mentions': [{'id_str': '753005970318626816', 'name': 'Chad Vigorous', 'screen_name': 'PrettyBadLefty', 'indices': [3, 18], 'id': 753005970318626816}], 'urls': [], 'symbols': []}</td>\n      <td>NaN</td>\n      <td>0</td>\n      <td>False</td>\n      <td>None</td>\n      <td>1094389837522599936</td>\n      <td>1094389837522599936</td>\n      <td>...</td>\n      <td>NaN</td>\n      <td>1093931686998487040</td>\n      <td>1093931686998487040</td>\n      <td>31</td>\n      <td>False</td>\n      <td>1.094379e+18</td>\n      <td>&lt;a href=\"http://twitter.com\" rel=\"nofollow\"&gt;Twitter Web Client&lt;/a&gt;</td>\n      <td>RT @PrettyBadLefty: Communism is Fascism. Fighting Climate Change will Kill millions. Apparently, you're just allowed to say shit on MSNBC.…</td>\n      <td>False</td>\n      <td>1020067726532829185</td>\n    </tr>\n    <tr>\n      <th>4</th>\n      <td>None</td>\n      <td>None</td>\n      <td>Sun Feb 10 00:17:23 +0000 2019</td>\n      <td>{'hashtags': [], 'user_mentions': [{'id_str': '1634248890', 'name': 'Ken Klippenstein', 'screen_name': 'kenklippenstein', 'indices': [3, 19], 'id': 1634248890}], 'urls': [], 'symbols': []}</td>\n      <td>NaN</td>\n      <td>0</td>\n      <td>False</td>\n      <td>None</td>\n      <td>1094389831419994112</td>\n      <td>1094389831419994112</td>\n      <td>...</td>\n      <td>NaN</td>\n      <td>NaN</td>\n      <td>NaN</td>\n      <td>599</td>\n      <td>False</td>\n      <td>1.094312e+18</td>\n      <td>&lt;a href=\"http://twitter.com/download/android\" rel=\"nofollow\"&gt;Twitter for Android&lt;/a&gt;</td>\n      <td>RT @kenklippenstein: Unmitigated climate change would literally destroy civilization but doing something about it might increase the defici…</td>\n      <td>False</td>\n      <td>19889325</td>\n    </tr>\n    <tr>\n      <th>...</th>\n      <td>...</td>\n      <td>...</td>\n      <td>...</td>\n      <td>...</td>\n      <td>...</td>\n      <td>...</td>\n      <td>...</td>\n      <td>...</td>\n      <td>...</td>\n      <td>...</td>\n      <td>...</td>\n      <td>...</td>\n      <td>...</td>\n      <td>...</td>\n      <td>...</td>\n      <td>...</td>\n      <td>...</td>\n      <td>...</td>\n      <td>...</td>\n      <td>...</td>\n      <td>...</td>\n    </tr>\n    <tr>\n      <th>9994</th>\n      <td>None</td>\n      <td>None</td>\n      <td>Sat Feb 09 20:57:54 +0000 2019</td>\n      <td>{'hashtags': [], 'user_mentions': [{'id_str': '1073261955216039937', 'name': 'fromhello2hello', 'screen_name': 'fromhello2hello', 'indices': [3, 19], 'id': 1073261955216039937}], 'urls': [{'indices': [78, 101], 'url': 'https://t.co/P1X5jfuUQC', 'display_url': 'treehugger.com/climate-change…', 'expanded_url': 'https://www.treehugger.com/climate-change/72-americans-are-very-worried-about-climate-change.html'}], 'symbols': []}</td>\n      <td>NaN</td>\n      <td>0</td>\n      <td>False</td>\n      <td>None</td>\n      <td>1094339630500012033</td>\n      <td>1094339630500012033</td>\n      <td>...</td>\n      <td>NaN</td>\n      <td>NaN</td>\n      <td>NaN</td>\n      <td>1</td>\n      <td>False</td>\n      <td>1.094339e+18</td>\n      <td>&lt;a href=\"http://twitter.com/download/android\" rel=\"nofollow\"&gt;Twitter for Android&lt;/a&gt;</td>\n      <td>RT @fromhello2hello: 72% of Americans are 'very worried' about climate change https://t.co/P1X5jfuUQC</td>\n      <td>False</td>\n      <td>888112320097918976</td>\n    </tr>\n    <tr>\n      <th>9995</th>\n      <td>None</td>\n      <td>None</td>\n      <td>Sat Feb 09 20:57:54 +0000 2019</td>\n      <td>{'hashtags': [], 'user_mentions': [{'id_str': '1082006962995429383', 'name': 'stuntdaddy_42', 'screen_name': 'stuntdaddy_42', 'indices': [3, 17], 'id': 1082006962995429383}, {'id_str': '2497547378', 'name': 'Justice Faurall', 'screen_name': 'JFaurall', 'indices': [19, 28], 'id': 2497547378}, {'id_str': '3073664870', 'name': 'Michael Shelton', 'screen_name': 'MgBenchjeweler', 'indices': [29, 44], 'id': 3073664870}, {'id_str': '15764644', 'name': 'Nancy Pelosi', 'screen_name': 'SpeakerPelosi', 'indices': [45, 59], 'id': 15764644}], 'urls': [], 'symbols...</td>\n      <td>NaN</td>\n      <td>0</td>\n      <td>False</td>\n      <td>None</td>\n      <td>1094339629107400704</td>\n      <td>1094339629107400704</td>\n      <td>...</td>\n      <td>NaN</td>\n      <td>NaN</td>\n      <td>NaN</td>\n      <td>482</td>\n      <td>False</td>\n      <td>1.093607e+18</td>\n      <td>&lt;a href=\"http://twitter.com/download/iphone\" rel=\"nofollow\"&gt;Twitter for iPhone&lt;/a&gt;</td>\n      <td>RT @stuntdaddy_42: @JFaurall @MgBenchjeweler @SpeakerPelosi California was given hundreds of millions of dollars over the years to prevent…</td>\n      <td>False</td>\n      <td>3324836714</td>\n    </tr>\n    <tr>\n      <th>9996</th>\n      <td>None</td>\n      <td>None</td>\n      <td>Sat Feb 09 20:57:53 +0000 2019</td>\n      <td>{'hashtags': [], 'user_mentions': [{'id_str': '29442313', 'name': 'Bernie Sanders', 'screen_name': 'SenSanders', 'indices': [3, 14], 'id': 29442313}], 'urls': [], 'symbols': []}</td>\n      <td>NaN</td>\n      <td>0</td>\n      <td>False</td>\n      <td>None</td>\n      <td>1094339627316641794</td>\n      <td>1094339627316641794</td>\n      <td>...</td>\n      <td>NaN</td>\n      <td>NaN</td>\n      <td>NaN</td>\n      <td>2801</td>\n      <td>False</td>\n      <td>1.094303e+18</td>\n      <td>&lt;a href=\"http://twitter.com/download/android\" rel=\"nofollow\"&gt;Twitter for Android&lt;/a&gt;</td>\n      <td>RT @SenSanders: President Trump believes we should listen to fossil fuel executives and ignore climate change. \\n\\nI believe we should listen…</td>\n      <td>False</td>\n      <td>1487109794</td>\n    </tr>\n    <tr>\n      <th>9997</th>\n      <td>None</td>\n      <td>None</td>\n      <td>Sat Feb 09 20:57:51 +0000 2019</td>\n      <td>{'hashtags': [], 'user_mentions': [{'id_str': '637196658', 'name': 'Kate Aronoff', 'screen_name': 'KateAronoff', 'indices': [3, 15], 'id': 637196658}], 'urls': [{'indices': [73, 96], 'url': 'https://t.co/P6znQNsbLH', 'display_url': 'twitter.com/business/statu…', 'expanded_url': 'https://twitter.com/business/status/1093893115633647616'}], 'symbols': []}</td>\n      <td>NaN</td>\n      <td>0</td>\n      <td>False</td>\n      <td>None</td>\n      <td>1094339619569557504</td>\n      <td>1094339619569557504</td>\n      <td>...</td>\n      <td>NaN</td>\n      <td>1093893115633647616</td>\n      <td>1093893115633647616</td>\n      <td>642</td>\n      <td>False</td>\n      <td>1.093997e+18</td>\n      <td>&lt;a href=\"http://twitter.com/download/iphone\" rel=\"nofollow\"&gt;Twitter for iPhone&lt;/a&gt;</td>\n      <td>RT @KateAronoff: Wait til he hears how much climate change is gonna cost https://t.co/P6znQNsbLH</td>\n      <td>False</td>\n      <td>4737089913</td>\n    </tr>\n    <tr>\n      <th>9998</th>\n      <td>None</td>\n      <td>None</td>\n      <td>Sat Feb 09 20:57:51 +0000 2019</td>\n      <td>{'hashtags': [], 'user_mentions': [{'id_str': '237845487', 'name': 'George Takei', 'screen_name': 'GeorgeTakei', 'indices': [3, 15], 'id': 237845487}], 'urls': [{'indices': [38, 61], 'url': 'https://t.co/hFLndZsiBB', 'display_url': 'po.st/P5AgAW', 'expanded_url': 'http://po.st/P5AgAW'}], 'symbols': []}</td>\n      <td>NaN</td>\n      <td>0</td>\n      <td>False</td>\n      <td>None</td>\n      <td>1094339617581481984</td>\n      <td>1094339617581481984</td>\n      <td>...</td>\n      <td>NaN</td>\n      <td>NaN</td>\n      <td>NaN</td>\n      <td>79</td>\n      <td>False</td>\n      <td>1.094335e+18</td>\n      <td>&lt;a href=\"http://twitter.com\" rel=\"nofollow\"&gt;Twitter Web Client&lt;/a&gt;</td>\n      <td>RT @GeorgeTakei: Blue marble no more? https://t.co/hFLndZsiBB</td>\n      <td>False</td>\n      <td>19444003</td>\n    </tr>\n  </tbody>\n</table>\n<p>9999 rows × 30 columns</p>\n</div>"
     },
     "execution_count": 172,
     "metadata": {},
     "output_type": "execute_result"
    }
   ],
   "source": [
    "#climate_feed_df.to_pickle(\"./climate_feed.pkl\")\n",
    "climate_feed_df = pd.read_pickle(\"./climate_feed.pkl\")\n",
    "climate_feed_df"
   ]
  },
  {
   "cell_type": "markdown",
   "metadata": {},
   "source": [
    "Here are dtypes for climate_feed_df. We'll work with only\n",
    "- entities to extract hashtags\n",
    "- retweeted_status in case we need to extract original full tweet\n",
    "- truncated\n",
    "- text: tweet text\n",
    "- created_at\n",
    "- user_id\n",
    "\n",
    "Some of them have wrong datatypes."
   ]
  },
  {
   "cell_type": "code",
   "execution_count": 173,
   "metadata": {},
   "outputs": [
    {
     "data": {
      "text/plain": "contributors                  object\ncoordinates                   object\ncreated_at                    object\nentities                      object\nextended_entities             object\nfavorite_count                object\nfavorited                     object\ngeo                           object\nid                            object\nid_str                        object\nin_reply_to_screen_name       object\nin_reply_to_status_id         object\nin_reply_to_status_id_str     object\nin_reply_to_user_id           object\nin_reply_to_user_id_str       object\nis_quote_status               object\nlang                          object\nmetadata                      object\nplace                         object\npossibly_sensitive            object\nquoted_status                 object\nquoted_status_id              object\nquoted_status_id_str          object\nretweet_count                 object\nretweeted                     object\nretweeted_status             float64\nsource                        object\ntext                          object\ntruncated                     object\nuser_id                        int64\ndtype: object"
     },
     "execution_count": 173,
     "metadata": {},
     "output_type": "execute_result"
    }
   ],
   "source": [
    "climate_feed_df.dtypes"
   ]
  },
  {
   "cell_type": "markdown",
   "metadata": {},
   "source": [
    "# Q1 (points .5) replace None with nan in climate_feed_df. Also display some random rows.\n"
   ]
  },
  {
   "cell_type": "code",
   "execution_count": 174,
   "metadata": {},
   "outputs": [
    {
     "data": {
      "text/plain": "      contributors coordinates                      created_at  \\\n7471           NaN         NaN  Sat Feb 09 21:46:55 +0000 2019   \n4128           NaN         NaN  Sat Feb 09 22:57:15 +0000 2019   \n2812           NaN         NaN  Sat Feb 09 23:24:26 +0000 2019   \n5752           NaN         NaN  Sat Feb 09 22:21:42 +0000 2019   \n2211           NaN         NaN  Sat Feb 09 23:35:27 +0000 2019   \n769            NaN         NaN  Sun Feb 10 00:01:59 +0000 2019   \n560            NaN         NaN  Sun Feb 10 00:05:58 +0000 2019   \n9144           NaN         NaN  Sat Feb 09 21:13:46 +0000 2019   \n9145           NaN         NaN  Sat Feb 09 21:13:46 +0000 2019   \n1810           NaN         NaN  Sat Feb 09 23:42:50 +0000 2019   \n\n                                                                                                                                                                                                                                                                                                                                                                                                                                                                                                                                                                             entities  \\\n7471                                                                                                                                                                                                                                                                                                                                                                                                {'hashtags': [], 'user_mentions': [{'id_str': '29442313', 'name': 'Bernie Sanders', 'screen_name': 'SenSanders', 'indices': [3, 14], 'id': 29442313}], 'urls': [], 'symbols': []}   \n4128                                                                                                                                                                                                                                                                                                                                                                                                  {'hashtags': [], 'user_mentions': [{'id_str': '25053299', 'name': 'FORTUNE', 'screen_name': 'FortuneMagazine', 'indices': [3, 19], 'id': 25053299}], 'urls': [], 'symbols': []}   \n2812                                                                                                     {'hashtags': [], 'user_mentions': [{'id_str': '167699332', 'name': 'Mike Kelly', 'screen_name': 'MikeKellyofEM', 'indices': [3, 17], 'id': 167699332}], 'urls': [{'indices': [102, 125], 'url': 'https://t.co/OKaQj0BLuk', 'display_url': 'canberratimes.com.au/politics/feder…', 'expanded_url': 'https://www.canberratimes.com.au/politics/federal/astounded-former-fire-chief-unloads-on-politicians-over-climate-change-inaction-20190204-p50vl0.html'}], 'symbols': []}   \n5752  {'hashtags': [], 'user_mentions': [{'id_str': '59386332', 'name': 'Arik Ring', 'screen_name': 'arikring', 'indices': [3, 12], 'id': 59386332}, {'id_str': '863025632770445315', 'name': '🇺🇳🏳️\\u200d🌈♿️☮️⚕️🇸🇬🇭🇰🇯🇵 Le monde est stone', 'screen_name': 'C37H42Cl2N2O6', 'indices': [14, 28], 'id': 863025632770445315}, {'id_str': '26401734', 'name': 'Ruth Punton', 'screen_name': 'RuthPtn', 'indices': [29, 37], 'id': 26401734}, {'id_str': '331317907', 'name': 'Zack Beasley 💙🌊', 'screen_name': 'ZacharyPBeasley', 'indices': [38, 54], 'id': 331317907}, {'id_str': '...   \n2211                                                                                                                                                                                                                                                                                                                                                                                      {'hashtags': [], 'user_mentions': [{'id_str': '2904009019', 'name': 'Real Mark Latham', 'screen_name': 'RealMarkLatham', 'indices': [3, 18], 'id': 2904009019}], 'urls': [], 'symbols': []}   \n769                                                                                                                                                                                                                                         {'hashtags': [], 'user_mentions': [{'id_str': '974809558173417472', 'name': 'Martin Gibson', 'screen_name': 'MartinG64208450', 'indices': [3, 19], 'id': 974809558173417472}, {'id_str': '725531612100759553', 'name': 'Jarred', 'screen_name': 'Jarrred___', 'indices': [21, 32], 'id': 725531612100759553}], 'urls': [], 'symbols': []}   \n560                                                                                                                                                                                                                                                                                                                                                                                                  {'hashtags': [], 'user_mentions': [{'id_str': '47747074', 'name': 'Brian Schatz', 'screen_name': 'brianschatz', 'indices': [3, 15], 'id': 47747074}], 'urls': [], 'symbols': []}   \n9144                                                                                                                                                                                                                                                                                                                                                                                                {'hashtags': [], 'user_mentions': [{'id_str': '29442313', 'name': 'Bernie Sanders', 'screen_name': 'SenSanders', 'indices': [3, 14], 'id': 29442313}], 'urls': [], 'symbols': []}   \n9145                                                                                                                                                                                                                                                                                                                                      {'hashtags': [{'indices': [58, 65], 'text': 'Alaska'}], 'user_mentions': [{'id_str': '898020529558487040', 'name': 'Kimberly White', 'screen_name': 'wildlyeco', 'indices': [3, 13], 'id': 898020529558487040}], 'urls': [], 'symbols': []}   \n1810                                                                                                                                                                                                                                                                                                                                  {'hashtags': [], 'user_mentions': [], 'urls': [{'indices': [117, 140], 'url': 'https://t.co/384zA6pOrU', 'display_url': 'twitter.com/i/web/status/1…', 'expanded_url': 'https://twitter.com/i/web/status/1094381136304848902'}], 'symbols': []}   \n\n     extended_entities favorite_count favorited  geo                   id  \\\n7471               NaN              0     False  NaN  1094351968053743616   \n4128               NaN              0     False  NaN  1094369665436999681   \n2812               NaN              0     False  NaN  1094376505730162688   \n5752               NaN              0     False  NaN  1094360718885953537   \n2211               NaN              0     False  NaN  1094379278345486336   \n769                NaN              0     False  NaN  1094385957778776065   \n560                NaN              0     False  NaN  1094386960502796289   \n9144               NaN              0     False  NaN  1094343623859150851   \n9145               NaN              0     False  NaN  1094343622403784704   \n1810               NaN              0     False  NaN  1094381136304848902   \n\n                   id_str  ...  \\\n7471  1094351968053743616  ...   \n4128  1094369665436999681  ...   \n2812  1094376505730162688  ...   \n5752  1094360718885953537  ...   \n2211  1094379278345486336  ...   \n769   1094385957778776065  ...   \n560   1094386960502796289  ...   \n9144  1094343623859150851  ...   \n9145  1094343622403784704  ...   \n1810  1094381136304848902  ...   \n\n                                                                                                                                                                                                                                                                                                                                                                                                                                                                                                                                                                        quoted_status  \\\n7471                                                                                                                                                                                                                                                                                                                                                                                                                                                                                                                                                                              NaN   \n4128                                                                                                                                                                                                                                                                                                                                                                                                                                                                                                                                                                              NaN   \n2812                                                                                                                                                                                                                                                                                                                                                                                                                                                                                                                                                                              NaN   \n5752                                                                                                                                                                                                                                                                                                                                                                                                                                                                                                                                                                              NaN   \n2211                                                                                                                                                                                                                                                                                                                                                                                                                                                                                                                                                                              NaN   \n769                                                                                                                                                                                                                                                                                                                                                                                                                                                                                                                                                                               NaN   \n560                                                                                                                                                                                                                                                                                                                                                                                                                                                                                                                                                                               NaN   \n9144                                                                                                                                                                                                                                                                                                                                                                                                                                                                                                                                                                              NaN   \n9145                                                                                                                                                                                                                                                                                                                                                                                                                                                                                                                                                                              NaN   \n1810  {'favorited': False, 'favorite_count': 2031, 'in_reply_to_screen_name': 'dbongino', 'retweet_count': 613, 'metadata': {'result_type': 'recent', 'iso_language_code': 'en'}, 'id_str': '1094353926802100224', 'entities': {'hashtags': [], 'user_mentions': [], 'urls': [{'indices': [117, 140], 'url': 'https://t.co/lxwQZl4jgP', 'display_url': 'twitter.com/i/web/status/1…', 'expanded_url': 'https://twitter.com/i/web/status/1094353926802100224'}], 'symbols': []}, 'place': None, 'coordinates': None, 'id': 1094353926802100224, 'retweeted': False, 'geo': None, 'i...   \n\n         quoted_status_id quoted_status_id_str retweet_count retweeted  \\\n7471                  NaN                  NaN          2799     False   \n4128                  NaN                  NaN            13     False   \n2812                  NaN                  NaN             7     False   \n5752                  NaN                  NaN           560     False   \n2211                  NaN                  NaN            25     False   \n769                   NaN                  NaN             3     False   \n560                   NaN                  NaN          7912     False   \n9144                  NaN                  NaN          2800     False   \n9145                  NaN                  NaN             4     False   \n1810  1094353926802100224  1094353926802100224             0     False   \n\n     retweeted_status  \\\n7471     1.094303e+18   \n4128     1.094355e+18   \n2812     1.094342e+18   \n5752     1.087437e+18   \n2211     1.094337e+18   \n769      1.094314e+18   \n560      1.093905e+18   \n9144     1.094303e+18   \n9145     1.094254e+18   \n1810              NaN   \n\n                                                                                    source  \\\n7471                    <a href=\"http://twitter.com\" rel=\"nofollow\">Twitter Web Client</a>   \n4128    <a href=\"http://twitter.com/download/iphone\" rel=\"nofollow\">Twitter for iPhone</a>   \n2812                    <a href=\"http://twitter.com\" rel=\"nofollow\">Twitter Web Client</a>   \n5752  <a href=\"http://twitter.com/download/android\" rel=\"nofollow\">Twitter for Android</a>   \n2211    <a href=\"http://twitter.com/download/iphone\" rel=\"nofollow\">Twitter for iPhone</a>   \n769     <a href=\"http://twitter.com/download/iphone\" rel=\"nofollow\">Twitter for iPhone</a>   \n560   <a href=\"http://twitter.com/download/android\" rel=\"nofollow\">Twitter for Android</a>   \n9144  <a href=\"http://twitter.com/download/android\" rel=\"nofollow\">Twitter for Android</a>   \n9145    <a href=\"http://twitter.com/download/iphone\" rel=\"nofollow\">Twitter for iPhone</a>   \n1810    <a href=\"http://twitter.com/download/iphone\" rel=\"nofollow\">Twitter for iPhone</a>   \n\n                                                                                                                                                  text  \\\n7471    RT @SenSanders: President Trump believes we should listen to fossil fuel executives and ignore climate change. \\n\\nI believe we should listen…   \n4128      RT @FortuneMagazine: Alexandria Ocasio-Cortez calls out Facebook, Google, Microsoft for ‘implicit support’ of climate change denial https:/…   \n2812      RT @MikeKellyofEM: 'Astounded': former fire chief unloads on politicians over climate change inaction https://t.co/OKaQj0BLuk via @canberra…   \n5752      RT @arikring: @C37H42Cl2N2O6 @RuthPtn @ZacharyPBeasley @DawnRoseTurner @ToddMcKissick @Jackthelad1947 @NeurozoInnovat1 @ristori20 @kashthef…   \n2211     RT @RealMarkLatham: Why would a newspaper publish a letter (Con Vaitsas below) which is 100% untrue??\\nAnyone elected to State Parliament im…   \n769   RT @MartinG64208450: @Jarrred___ It’s pretty pointless arguing with non-scientists about climate change; their knowledge is superficial &amp; t…   \n560       RT @brianschatz: I’m not a socialist. But I believe that every American deserves health care. I also believe that college should be debt fr…   \n9144    RT @SenSanders: President Trump believes we should listen to fossil fuel executives and ignore climate change. \\n\\nI believe we should listen…   \n9145     RT @wildlyeco: \"Often referred to as “the last frontier,” #Alaska has become one of the first frontiers of climate change impacts.\"  \\n@AKEn…   \n1810      There’s a total disconnect between the Green New Deal and the collateral damage. That’s why it will never happen. B… https://t.co/384zA6pOrU   \n\n     truncated              user_id  \n7471     False             16509554  \n4128     False           2541047887  \n2812     False   807440503159472128  \n5752     False   706769665935200256  \n2211     False  1031527568053157889  \n769      False            227830960  \n560      False           1537724748  \n9144     False  1080197974955905025  \n9145     False   986832156008833024  \n1810      True            113140058  \n\n[10 rows x 30 columns]",
      "text/html": "<div>\n<style scoped>\n    .dataframe tbody tr th:only-of-type {\n        vertical-align: middle;\n    }\n\n    .dataframe tbody tr th {\n        vertical-align: top;\n    }\n\n    .dataframe thead th {\n        text-align: right;\n    }\n</style>\n<table border=\"1\" class=\"dataframe\">\n  <thead>\n    <tr style=\"text-align: right;\">\n      <th></th>\n      <th>contributors</th>\n      <th>coordinates</th>\n      <th>created_at</th>\n      <th>entities</th>\n      <th>extended_entities</th>\n      <th>favorite_count</th>\n      <th>favorited</th>\n      <th>geo</th>\n      <th>id</th>\n      <th>id_str</th>\n      <th>...</th>\n      <th>quoted_status</th>\n      <th>quoted_status_id</th>\n      <th>quoted_status_id_str</th>\n      <th>retweet_count</th>\n      <th>retweeted</th>\n      <th>retweeted_status</th>\n      <th>source</th>\n      <th>text</th>\n      <th>truncated</th>\n      <th>user_id</th>\n    </tr>\n  </thead>\n  <tbody>\n    <tr>\n      <th>7471</th>\n      <td>NaN</td>\n      <td>NaN</td>\n      <td>Sat Feb 09 21:46:55 +0000 2019</td>\n      <td>{'hashtags': [], 'user_mentions': [{'id_str': '29442313', 'name': 'Bernie Sanders', 'screen_name': 'SenSanders', 'indices': [3, 14], 'id': 29442313}], 'urls': [], 'symbols': []}</td>\n      <td>NaN</td>\n      <td>0</td>\n      <td>False</td>\n      <td>NaN</td>\n      <td>1094351968053743616</td>\n      <td>1094351968053743616</td>\n      <td>...</td>\n      <td>NaN</td>\n      <td>NaN</td>\n      <td>NaN</td>\n      <td>2799</td>\n      <td>False</td>\n      <td>1.094303e+18</td>\n      <td>&lt;a href=\"http://twitter.com\" rel=\"nofollow\"&gt;Twitter Web Client&lt;/a&gt;</td>\n      <td>RT @SenSanders: President Trump believes we should listen to fossil fuel executives and ignore climate change. \\n\\nI believe we should listen…</td>\n      <td>False</td>\n      <td>16509554</td>\n    </tr>\n    <tr>\n      <th>4128</th>\n      <td>NaN</td>\n      <td>NaN</td>\n      <td>Sat Feb 09 22:57:15 +0000 2019</td>\n      <td>{'hashtags': [], 'user_mentions': [{'id_str': '25053299', 'name': 'FORTUNE', 'screen_name': 'FortuneMagazine', 'indices': [3, 19], 'id': 25053299}], 'urls': [], 'symbols': []}</td>\n      <td>NaN</td>\n      <td>0</td>\n      <td>False</td>\n      <td>NaN</td>\n      <td>1094369665436999681</td>\n      <td>1094369665436999681</td>\n      <td>...</td>\n      <td>NaN</td>\n      <td>NaN</td>\n      <td>NaN</td>\n      <td>13</td>\n      <td>False</td>\n      <td>1.094355e+18</td>\n      <td>&lt;a href=\"http://twitter.com/download/iphone\" rel=\"nofollow\"&gt;Twitter for iPhone&lt;/a&gt;</td>\n      <td>RT @FortuneMagazine: Alexandria Ocasio-Cortez calls out Facebook, Google, Microsoft for ‘implicit support’ of climate change denial https:/…</td>\n      <td>False</td>\n      <td>2541047887</td>\n    </tr>\n    <tr>\n      <th>2812</th>\n      <td>NaN</td>\n      <td>NaN</td>\n      <td>Sat Feb 09 23:24:26 +0000 2019</td>\n      <td>{'hashtags': [], 'user_mentions': [{'id_str': '167699332', 'name': 'Mike Kelly', 'screen_name': 'MikeKellyofEM', 'indices': [3, 17], 'id': 167699332}], 'urls': [{'indices': [102, 125], 'url': 'https://t.co/OKaQj0BLuk', 'display_url': 'canberratimes.com.au/politics/feder…', 'expanded_url': 'https://www.canberratimes.com.au/politics/federal/astounded-former-fire-chief-unloads-on-politicians-over-climate-change-inaction-20190204-p50vl0.html'}], 'symbols': []}</td>\n      <td>NaN</td>\n      <td>0</td>\n      <td>False</td>\n      <td>NaN</td>\n      <td>1094376505730162688</td>\n      <td>1094376505730162688</td>\n      <td>...</td>\n      <td>NaN</td>\n      <td>NaN</td>\n      <td>NaN</td>\n      <td>7</td>\n      <td>False</td>\n      <td>1.094342e+18</td>\n      <td>&lt;a href=\"http://twitter.com\" rel=\"nofollow\"&gt;Twitter Web Client&lt;/a&gt;</td>\n      <td>RT @MikeKellyofEM: 'Astounded': former fire chief unloads on politicians over climate change inaction https://t.co/OKaQj0BLuk via @canberra…</td>\n      <td>False</td>\n      <td>807440503159472128</td>\n    </tr>\n    <tr>\n      <th>5752</th>\n      <td>NaN</td>\n      <td>NaN</td>\n      <td>Sat Feb 09 22:21:42 +0000 2019</td>\n      <td>{'hashtags': [], 'user_mentions': [{'id_str': '59386332', 'name': 'Arik Ring', 'screen_name': 'arikring', 'indices': [3, 12], 'id': 59386332}, {'id_str': '863025632770445315', 'name': '🇺🇳🏳️\\u200d🌈♿️☮️⚕️🇸🇬🇭🇰🇯🇵 Le monde est stone', 'screen_name': 'C37H42Cl2N2O6', 'indices': [14, 28], 'id': 863025632770445315}, {'id_str': '26401734', 'name': 'Ruth Punton', 'screen_name': 'RuthPtn', 'indices': [29, 37], 'id': 26401734}, {'id_str': '331317907', 'name': 'Zack Beasley 💙🌊', 'screen_name': 'ZacharyPBeasley', 'indices': [38, 54], 'id': 331317907}, {'id_str': '...</td>\n      <td>NaN</td>\n      <td>0</td>\n      <td>False</td>\n      <td>NaN</td>\n      <td>1094360718885953537</td>\n      <td>1094360718885953537</td>\n      <td>...</td>\n      <td>NaN</td>\n      <td>NaN</td>\n      <td>NaN</td>\n      <td>560</td>\n      <td>False</td>\n      <td>1.087437e+18</td>\n      <td>&lt;a href=\"http://twitter.com/download/android\" rel=\"nofollow\"&gt;Twitter for Android&lt;/a&gt;</td>\n      <td>RT @arikring: @C37H42Cl2N2O6 @RuthPtn @ZacharyPBeasley @DawnRoseTurner @ToddMcKissick @Jackthelad1947 @NeurozoInnovat1 @ristori20 @kashthef…</td>\n      <td>False</td>\n      <td>706769665935200256</td>\n    </tr>\n    <tr>\n      <th>2211</th>\n      <td>NaN</td>\n      <td>NaN</td>\n      <td>Sat Feb 09 23:35:27 +0000 2019</td>\n      <td>{'hashtags': [], 'user_mentions': [{'id_str': '2904009019', 'name': 'Real Mark Latham', 'screen_name': 'RealMarkLatham', 'indices': [3, 18], 'id': 2904009019}], 'urls': [], 'symbols': []}</td>\n      <td>NaN</td>\n      <td>0</td>\n      <td>False</td>\n      <td>NaN</td>\n      <td>1094379278345486336</td>\n      <td>1094379278345486336</td>\n      <td>...</td>\n      <td>NaN</td>\n      <td>NaN</td>\n      <td>NaN</td>\n      <td>25</td>\n      <td>False</td>\n      <td>1.094337e+18</td>\n      <td>&lt;a href=\"http://twitter.com/download/iphone\" rel=\"nofollow\"&gt;Twitter for iPhone&lt;/a&gt;</td>\n      <td>RT @RealMarkLatham: Why would a newspaper publish a letter (Con Vaitsas below) which is 100% untrue??\\nAnyone elected to State Parliament im…</td>\n      <td>False</td>\n      <td>1031527568053157889</td>\n    </tr>\n    <tr>\n      <th>769</th>\n      <td>NaN</td>\n      <td>NaN</td>\n      <td>Sun Feb 10 00:01:59 +0000 2019</td>\n      <td>{'hashtags': [], 'user_mentions': [{'id_str': '974809558173417472', 'name': 'Martin Gibson', 'screen_name': 'MartinG64208450', 'indices': [3, 19], 'id': 974809558173417472}, {'id_str': '725531612100759553', 'name': 'Jarred', 'screen_name': 'Jarrred___', 'indices': [21, 32], 'id': 725531612100759553}], 'urls': [], 'symbols': []}</td>\n      <td>NaN</td>\n      <td>0</td>\n      <td>False</td>\n      <td>NaN</td>\n      <td>1094385957778776065</td>\n      <td>1094385957778776065</td>\n      <td>...</td>\n      <td>NaN</td>\n      <td>NaN</td>\n      <td>NaN</td>\n      <td>3</td>\n      <td>False</td>\n      <td>1.094314e+18</td>\n      <td>&lt;a href=\"http://twitter.com/download/iphone\" rel=\"nofollow\"&gt;Twitter for iPhone&lt;/a&gt;</td>\n      <td>RT @MartinG64208450: @Jarrred___ It’s pretty pointless arguing with non-scientists about climate change; their knowledge is superficial &amp;amp; t…</td>\n      <td>False</td>\n      <td>227830960</td>\n    </tr>\n    <tr>\n      <th>560</th>\n      <td>NaN</td>\n      <td>NaN</td>\n      <td>Sun Feb 10 00:05:58 +0000 2019</td>\n      <td>{'hashtags': [], 'user_mentions': [{'id_str': '47747074', 'name': 'Brian Schatz', 'screen_name': 'brianschatz', 'indices': [3, 15], 'id': 47747074}], 'urls': [], 'symbols': []}</td>\n      <td>NaN</td>\n      <td>0</td>\n      <td>False</td>\n      <td>NaN</td>\n      <td>1094386960502796289</td>\n      <td>1094386960502796289</td>\n      <td>...</td>\n      <td>NaN</td>\n      <td>NaN</td>\n      <td>NaN</td>\n      <td>7912</td>\n      <td>False</td>\n      <td>1.093905e+18</td>\n      <td>&lt;a href=\"http://twitter.com/download/android\" rel=\"nofollow\"&gt;Twitter for Android&lt;/a&gt;</td>\n      <td>RT @brianschatz: I’m not a socialist. But I believe that every American deserves health care. I also believe that college should be debt fr…</td>\n      <td>False</td>\n      <td>1537724748</td>\n    </tr>\n    <tr>\n      <th>9144</th>\n      <td>NaN</td>\n      <td>NaN</td>\n      <td>Sat Feb 09 21:13:46 +0000 2019</td>\n      <td>{'hashtags': [], 'user_mentions': [{'id_str': '29442313', 'name': 'Bernie Sanders', 'screen_name': 'SenSanders', 'indices': [3, 14], 'id': 29442313}], 'urls': [], 'symbols': []}</td>\n      <td>NaN</td>\n      <td>0</td>\n      <td>False</td>\n      <td>NaN</td>\n      <td>1094343623859150851</td>\n      <td>1094343623859150851</td>\n      <td>...</td>\n      <td>NaN</td>\n      <td>NaN</td>\n      <td>NaN</td>\n      <td>2800</td>\n      <td>False</td>\n      <td>1.094303e+18</td>\n      <td>&lt;a href=\"http://twitter.com/download/android\" rel=\"nofollow\"&gt;Twitter for Android&lt;/a&gt;</td>\n      <td>RT @SenSanders: President Trump believes we should listen to fossil fuel executives and ignore climate change. \\n\\nI believe we should listen…</td>\n      <td>False</td>\n      <td>1080197974955905025</td>\n    </tr>\n    <tr>\n      <th>9145</th>\n      <td>NaN</td>\n      <td>NaN</td>\n      <td>Sat Feb 09 21:13:46 +0000 2019</td>\n      <td>{'hashtags': [{'indices': [58, 65], 'text': 'Alaska'}], 'user_mentions': [{'id_str': '898020529558487040', 'name': 'Kimberly White', 'screen_name': 'wildlyeco', 'indices': [3, 13], 'id': 898020529558487040}], 'urls': [], 'symbols': []}</td>\n      <td>NaN</td>\n      <td>0</td>\n      <td>False</td>\n      <td>NaN</td>\n      <td>1094343622403784704</td>\n      <td>1094343622403784704</td>\n      <td>...</td>\n      <td>NaN</td>\n      <td>NaN</td>\n      <td>NaN</td>\n      <td>4</td>\n      <td>False</td>\n      <td>1.094254e+18</td>\n      <td>&lt;a href=\"http://twitter.com/download/iphone\" rel=\"nofollow\"&gt;Twitter for iPhone&lt;/a&gt;</td>\n      <td>RT @wildlyeco: \"Often referred to as “the last frontier,” #Alaska has become one of the first frontiers of climate change impacts.\"  \\n@AKEn…</td>\n      <td>False</td>\n      <td>986832156008833024</td>\n    </tr>\n    <tr>\n      <th>1810</th>\n      <td>NaN</td>\n      <td>NaN</td>\n      <td>Sat Feb 09 23:42:50 +0000 2019</td>\n      <td>{'hashtags': [], 'user_mentions': [], 'urls': [{'indices': [117, 140], 'url': 'https://t.co/384zA6pOrU', 'display_url': 'twitter.com/i/web/status/1…', 'expanded_url': 'https://twitter.com/i/web/status/1094381136304848902'}], 'symbols': []}</td>\n      <td>NaN</td>\n      <td>0</td>\n      <td>False</td>\n      <td>NaN</td>\n      <td>1094381136304848902</td>\n      <td>1094381136304848902</td>\n      <td>...</td>\n      <td>{'favorited': False, 'favorite_count': 2031, 'in_reply_to_screen_name': 'dbongino', 'retweet_count': 613, 'metadata': {'result_type': 'recent', 'iso_language_code': 'en'}, 'id_str': '1094353926802100224', 'entities': {'hashtags': [], 'user_mentions': [], 'urls': [{'indices': [117, 140], 'url': 'https://t.co/lxwQZl4jgP', 'display_url': 'twitter.com/i/web/status/1…', 'expanded_url': 'https://twitter.com/i/web/status/1094353926802100224'}], 'symbols': []}, 'place': None, 'coordinates': None, 'id': 1094353926802100224, 'retweeted': False, 'geo': None, 'i...</td>\n      <td>1094353926802100224</td>\n      <td>1094353926802100224</td>\n      <td>0</td>\n      <td>False</td>\n      <td>NaN</td>\n      <td>&lt;a href=\"http://twitter.com/download/iphone\" rel=\"nofollow\"&gt;Twitter for iPhone&lt;/a&gt;</td>\n      <td>There’s a total disconnect between the Green New Deal and the collateral damage. That’s why it will never happen. B… https://t.co/384zA6pOrU</td>\n      <td>True</td>\n      <td>113140058</td>\n    </tr>\n  </tbody>\n</table>\n<p>10 rows × 30 columns</p>\n</div>"
     },
     "execution_count": 174,
     "metadata": {},
     "output_type": "execute_result"
    }
   ],
   "source": [
    "# write code here\n",
    "climate_feed_df.replace(to_replace='None', value=np.nan, inplace=True)\n",
    "climate_feed_df.fillna(value=np.nan, inplace=True)\n",
    "climate_feed_df.sample(n = 10)"
   ]
  },
  {
   "cell_type": "markdown",
   "metadata": {},
   "source": [
    "Working with only selected attributes."
   ]
  },
  {
   "cell_type": "code",
   "execution_count": 175,
   "metadata": {},
   "outputs": [],
   "source": [
    "climate_feed_df = climate_feed_df[['created_at', 'entities','retweeted_status', 'truncated', 'user_id', 'text' ]].copy()"
   ]
  },
  {
   "cell_type": "code",
   "execution_count": 176,
   "metadata": {},
   "outputs": [
    {
     "data": {
      "text/plain": "                          created_at  \\\n5823  Sat Feb 09 22:20:10 +0000 2019   \n5130  Sat Feb 09 22:33:32 +0000 2019   \n4886  Sat Feb 09 22:39:02 +0000 2019   \n4078  Sat Feb 09 22:58:07 +0000 2019   \n7464  Sat Feb 09 21:47:04 +0000 2019   \n4902  Sat Feb 09 22:38:39 +0000 2019   \n2709  Sat Feb 09 23:26:25 +0000 2019   \n873   Sun Feb 10 00:00:12 +0000 2019   \n8340  Sat Feb 09 21:29:11 +0000 2019   \n7899  Sat Feb 09 21:38:22 +0000 2019   \n\n                                                                                                                                                                                                                                                                                                                                                                                                                                                                                                                                                                             entities  \\\n5823                                                                                                                                                                                                                                                                                                                                                                     {'hashtags': [], 'user_mentions': [{'id_str': '835252426265481216', 'name': 'Robert Macfarlane', 'screen_name': 'RobGMacfarlane', 'indices': [3, 18], 'id': 835252426265481216}], 'urls': [], 'symbols': []}   \n5130                                                                                                                                                                                                                                                                                                                                                                                                        {'hashtags': [], 'user_mentions': [{'id_str': '127483019', 'name': 'PTI', 'screen_name': 'PTIofficial', 'indices': [3, 15], 'id': 127483019}], 'urls': [], 'symbols': []}   \n4886                                                                                                                                                                                                                                                                                                                                                                                     {'hashtags': [], 'user_mentions': [{'id_str': '1634248890', 'name': 'Ken Klippenstein', 'screen_name': 'kenklippenstein', 'indices': [3, 19], 'id': 1634248890}], 'urls': [], 'symbols': []}   \n4078                                                                                                                                                                                                                                                                                                                                                                                                {'hashtags': [], 'user_mentions': [{'id_str': '29442313', 'name': 'Bernie Sanders', 'screen_name': 'SenSanders', 'indices': [3, 14], 'id': 29442313}], 'urls': [], 'symbols': []}   \n7464                      {'hashtags': [], 'user_mentions': [{'id_str': '36938886', 'name': 'Maggie Romuld', 'screen_name': 'rivrchik', 'indices': [3, 12], 'id': 36938886}, {'id_str': '27103822', 'name': 'University of Washington', 'screen_name': 'UW', 'indices': [125, 128], 'id': 27103822}, {'id_str': '74474794', 'name': 'EurekAlert!', 'screen_name': 'EurekAlert', 'indices': [129, 140], 'id': 74474794}], 'urls': [{'indices': [97, 120], 'url': 'https://t.co/ea0dxycYoe', 'display_url': 'bit.ly/2N0uHn2', 'expanded_url': 'http://bit.ly/2N0uHn2'}], 'symbols': []}   \n4902                                                                                                                                                                                                                                                                                                                                                                            {'hashtags': [], 'user_mentions': [{'id_str': '725470482334535680', 'name': 'Harvey Mushman', 'screen_name': 'GreenCap13', 'indices': [3, 14], 'id': 725470482334535680}], 'urls': [], 'symbols': []}   \n2709                                                                                                                                                                                                                                                                                                                                                                                              {'hashtags': [], 'user_mentions': [{'id_str': '38495835', 'name': 'Mark R. Levin', 'screen_name': 'marklevinshow', 'indices': [3, 17], 'id': 38495835}], 'urls': [], 'symbols': []}   \n873   {'hashtags': [], 'user_mentions': [{'id_str': '1082006962995429383', 'name': 'stuntdaddy_42', 'screen_name': 'stuntdaddy_42', 'indices': [3, 17], 'id': 1082006962995429383}, {'id_str': '2497547378', 'name': 'Justice Faurall', 'screen_name': 'JFaurall', 'indices': [19, 28], 'id': 2497547378}, {'id_str': '3073664870', 'name': 'Michael Shelton', 'screen_name': 'MgBenchjeweler', 'indices': [29, 44], 'id': 3073664870}, {'id_str': '15764644', 'name': 'Nancy Pelosi', 'screen_name': 'SpeakerPelosi', 'indices': [45, 59], 'id': 15764644}], 'urls': [], 'symbols...   \n8340                                                                                                                                               {'hashtags': [{'indices': [54, 69], 'text': 'ClimateUrgency'}], 'user_mentions': [{'id_str': '440413534', 'name': 'JPascal van Ypersele', 'screen_name': 'JPvanYpersele', 'indices': [3, 17], 'id': 440413534}], 'urls': [{'indices': [70, 93], 'url': 'https://t.co/PYXsUi80oG', 'display_url': 'twitter.com/wedonthavetime…', 'expanded_url': 'https://twitter.com/wedonthavetime0/status/1094187510639529985'}], 'symbols': []}   \n7899                                                                                                                                                                                                                                                                                                                                                                                                {'hashtags': [], 'user_mentions': [{'id_str': '29442313', 'name': 'Bernie Sanders', 'screen_name': 'SenSanders', 'indices': [3, 14], 'id': 29442313}], 'urls': [], 'symbols': []}   \n\n      retweeted_status truncated              user_id  \\\n5823      1.093793e+18     False             48205761   \n5130      1.094192e+18     False             34632535   \n4886      1.094312e+18     False             23030523   \n4078      1.094303e+18     False           1508490949   \n7464      1.094264e+18     False            148439712   \n4902      1.094364e+18     False            553354841   \n2709      1.094212e+18     False           2472618817   \n873       1.093607e+18     False  1056611458832891905   \n8340      1.094194e+18     False           2588846085   \n7899      1.094303e+18     False             28532468   \n\n                                                                                                                                                 text  \n5823      RT @RobGMacfarlane: \"Forests’ power to store carbon dioxide through the simple process of tree growth is staggering: one tree can store an…  \n5130   RT @PTIofficial: Prime Minister Imran Khan has launched the Spring 2019 Tree Plantation Drive at Balloki\\n\\nAdvisor to PM on Climate change @…  \n4886     RT @kenklippenstein: Unmitigated climate change would literally destroy civilization but doing something about it might increase the defici…  \n4078   RT @SenSanders: President Trump believes we should listen to fossil fuel executives and ignore climate change. \\n\\nI believe we should listen…  \n7464     RT @rivrchik: Rating riverside corridors -- the 'escape routes' for animals under climate change https://t.co/ea0dxycYoe via @UW @EurekAlert  \n4902  RT @GreenCap13: YOUR DAILY REMINDER\\nI know the LNP keep swapping PMs but it's same MPs and\\nLNP GOV HAVE BEEN IN POWER FOR 6 YEARS\\nYOU ARE N…  \n2709     RT @marklevinshow: The insane Democrat Left.  “Climate change” was always the political pathway drug to fundamentally destroying our free s…  \n873       RT @stuntdaddy_42: @JFaurall @MgBenchjeweler @SpeakerPelosi California was given hundreds of millions of dollars over the years to prevent…  \n8340                                                    RT @JPvanYpersele: Climate change costs in Australia: #ClimateUrgency https://t.co/PYXsUi80oG  \n7899   RT @SenSanders: President Trump believes we should listen to fossil fuel executives and ignore climate change. \\n\\nI believe we should listen…  ",
      "text/html": "<div>\n<style scoped>\n    .dataframe tbody tr th:only-of-type {\n        vertical-align: middle;\n    }\n\n    .dataframe tbody tr th {\n        vertical-align: top;\n    }\n\n    .dataframe thead th {\n        text-align: right;\n    }\n</style>\n<table border=\"1\" class=\"dataframe\">\n  <thead>\n    <tr style=\"text-align: right;\">\n      <th></th>\n      <th>created_at</th>\n      <th>entities</th>\n      <th>retweeted_status</th>\n      <th>truncated</th>\n      <th>user_id</th>\n      <th>text</th>\n    </tr>\n  </thead>\n  <tbody>\n    <tr>\n      <th>5823</th>\n      <td>Sat Feb 09 22:20:10 +0000 2019</td>\n      <td>{'hashtags': [], 'user_mentions': [{'id_str': '835252426265481216', 'name': 'Robert Macfarlane', 'screen_name': 'RobGMacfarlane', 'indices': [3, 18], 'id': 835252426265481216}], 'urls': [], 'symbols': []}</td>\n      <td>1.093793e+18</td>\n      <td>False</td>\n      <td>48205761</td>\n      <td>RT @RobGMacfarlane: \"Forests’ power to store carbon dioxide through the simple process of tree growth is staggering: one tree can store an…</td>\n    </tr>\n    <tr>\n      <th>5130</th>\n      <td>Sat Feb 09 22:33:32 +0000 2019</td>\n      <td>{'hashtags': [], 'user_mentions': [{'id_str': '127483019', 'name': 'PTI', 'screen_name': 'PTIofficial', 'indices': [3, 15], 'id': 127483019}], 'urls': [], 'symbols': []}</td>\n      <td>1.094192e+18</td>\n      <td>False</td>\n      <td>34632535</td>\n      <td>RT @PTIofficial: Prime Minister Imran Khan has launched the Spring 2019 Tree Plantation Drive at Balloki\\n\\nAdvisor to PM on Climate change @…</td>\n    </tr>\n    <tr>\n      <th>4886</th>\n      <td>Sat Feb 09 22:39:02 +0000 2019</td>\n      <td>{'hashtags': [], 'user_mentions': [{'id_str': '1634248890', 'name': 'Ken Klippenstein', 'screen_name': 'kenklippenstein', 'indices': [3, 19], 'id': 1634248890}], 'urls': [], 'symbols': []}</td>\n      <td>1.094312e+18</td>\n      <td>False</td>\n      <td>23030523</td>\n      <td>RT @kenklippenstein: Unmitigated climate change would literally destroy civilization but doing something about it might increase the defici…</td>\n    </tr>\n    <tr>\n      <th>4078</th>\n      <td>Sat Feb 09 22:58:07 +0000 2019</td>\n      <td>{'hashtags': [], 'user_mentions': [{'id_str': '29442313', 'name': 'Bernie Sanders', 'screen_name': 'SenSanders', 'indices': [3, 14], 'id': 29442313}], 'urls': [], 'symbols': []}</td>\n      <td>1.094303e+18</td>\n      <td>False</td>\n      <td>1508490949</td>\n      <td>RT @SenSanders: President Trump believes we should listen to fossil fuel executives and ignore climate change. \\n\\nI believe we should listen…</td>\n    </tr>\n    <tr>\n      <th>7464</th>\n      <td>Sat Feb 09 21:47:04 +0000 2019</td>\n      <td>{'hashtags': [], 'user_mentions': [{'id_str': '36938886', 'name': 'Maggie Romuld', 'screen_name': 'rivrchik', 'indices': [3, 12], 'id': 36938886}, {'id_str': '27103822', 'name': 'University of Washington', 'screen_name': 'UW', 'indices': [125, 128], 'id': 27103822}, {'id_str': '74474794', 'name': 'EurekAlert!', 'screen_name': 'EurekAlert', 'indices': [129, 140], 'id': 74474794}], 'urls': [{'indices': [97, 120], 'url': 'https://t.co/ea0dxycYoe', 'display_url': 'bit.ly/2N0uHn2', 'expanded_url': 'http://bit.ly/2N0uHn2'}], 'symbols': []}</td>\n      <td>1.094264e+18</td>\n      <td>False</td>\n      <td>148439712</td>\n      <td>RT @rivrchik: Rating riverside corridors -- the 'escape routes' for animals under climate change https://t.co/ea0dxycYoe via @UW @EurekAlert</td>\n    </tr>\n    <tr>\n      <th>4902</th>\n      <td>Sat Feb 09 22:38:39 +0000 2019</td>\n      <td>{'hashtags': [], 'user_mentions': [{'id_str': '725470482334535680', 'name': 'Harvey Mushman', 'screen_name': 'GreenCap13', 'indices': [3, 14], 'id': 725470482334535680}], 'urls': [], 'symbols': []}</td>\n      <td>1.094364e+18</td>\n      <td>False</td>\n      <td>553354841</td>\n      <td>RT @GreenCap13: YOUR DAILY REMINDER\\nI know the LNP keep swapping PMs but it's same MPs and\\nLNP GOV HAVE BEEN IN POWER FOR 6 YEARS\\nYOU ARE N…</td>\n    </tr>\n    <tr>\n      <th>2709</th>\n      <td>Sat Feb 09 23:26:25 +0000 2019</td>\n      <td>{'hashtags': [], 'user_mentions': [{'id_str': '38495835', 'name': 'Mark R. Levin', 'screen_name': 'marklevinshow', 'indices': [3, 17], 'id': 38495835}], 'urls': [], 'symbols': []}</td>\n      <td>1.094212e+18</td>\n      <td>False</td>\n      <td>2472618817</td>\n      <td>RT @marklevinshow: The insane Democrat Left.  “Climate change” was always the political pathway drug to fundamentally destroying our free s…</td>\n    </tr>\n    <tr>\n      <th>873</th>\n      <td>Sun Feb 10 00:00:12 +0000 2019</td>\n      <td>{'hashtags': [], 'user_mentions': [{'id_str': '1082006962995429383', 'name': 'stuntdaddy_42', 'screen_name': 'stuntdaddy_42', 'indices': [3, 17], 'id': 1082006962995429383}, {'id_str': '2497547378', 'name': 'Justice Faurall', 'screen_name': 'JFaurall', 'indices': [19, 28], 'id': 2497547378}, {'id_str': '3073664870', 'name': 'Michael Shelton', 'screen_name': 'MgBenchjeweler', 'indices': [29, 44], 'id': 3073664870}, {'id_str': '15764644', 'name': 'Nancy Pelosi', 'screen_name': 'SpeakerPelosi', 'indices': [45, 59], 'id': 15764644}], 'urls': [], 'symbols...</td>\n      <td>1.093607e+18</td>\n      <td>False</td>\n      <td>1056611458832891905</td>\n      <td>RT @stuntdaddy_42: @JFaurall @MgBenchjeweler @SpeakerPelosi California was given hundreds of millions of dollars over the years to prevent…</td>\n    </tr>\n    <tr>\n      <th>8340</th>\n      <td>Sat Feb 09 21:29:11 +0000 2019</td>\n      <td>{'hashtags': [{'indices': [54, 69], 'text': 'ClimateUrgency'}], 'user_mentions': [{'id_str': '440413534', 'name': 'JPascal van Ypersele', 'screen_name': 'JPvanYpersele', 'indices': [3, 17], 'id': 440413534}], 'urls': [{'indices': [70, 93], 'url': 'https://t.co/PYXsUi80oG', 'display_url': 'twitter.com/wedonthavetime…', 'expanded_url': 'https://twitter.com/wedonthavetime0/status/1094187510639529985'}], 'symbols': []}</td>\n      <td>1.094194e+18</td>\n      <td>False</td>\n      <td>2588846085</td>\n      <td>RT @JPvanYpersele: Climate change costs in Australia: #ClimateUrgency https://t.co/PYXsUi80oG</td>\n    </tr>\n    <tr>\n      <th>7899</th>\n      <td>Sat Feb 09 21:38:22 +0000 2019</td>\n      <td>{'hashtags': [], 'user_mentions': [{'id_str': '29442313', 'name': 'Bernie Sanders', 'screen_name': 'SenSanders', 'indices': [3, 14], 'id': 29442313}], 'urls': [], 'symbols': []}</td>\n      <td>1.094303e+18</td>\n      <td>False</td>\n      <td>28532468</td>\n      <td>RT @SenSanders: President Trump believes we should listen to fossil fuel executives and ignore climate change. \\n\\nI believe we should listen…</td>\n    </tr>\n  </tbody>\n</table>\n</div>"
     },
     "execution_count": 176,
     "metadata": {},
     "output_type": "execute_result"
    }
   ],
   "source": [
    "climate_feed_df.sample(10)"
   ]
  },
  {
   "cell_type": "markdown",
   "metadata": {},
   "source": [
    "# Q2 (points .5 =.25+.25) convert\n",
    "- created_at to date time type\n",
    "- truncated to bool type.\n"
   ]
  },
  {
   "cell_type": "code",
   "execution_count": 177,
   "metadata": {},
   "outputs": [],
   "source": [
    "# write code here\n",
    "# convert created_at to date time type\n",
    "climate_feed_df['created_at'] = pd.to_datetime(climate_feed_df['created_at'])"
   ]
  },
  {
   "cell_type": "code",
   "execution_count": 178,
   "outputs": [
    {
     "data": {
      "text/plain": "                    created_at  \\\n5812 2019-02-09 22:20:21+00:00   \n1997 2019-02-09 23:39:24+00:00   \n6631 2019-02-09 22:03:28+00:00   \n587  2019-02-10 00:05:16+00:00   \n7334 2019-02-09 21:49:30+00:00   \n7093 2019-02-09 21:53:49+00:00   \n3500 2019-02-09 23:09:42+00:00   \n8807 2019-02-09 21:20:05+00:00   \n7693 2019-02-09 21:42:54+00:00   \n8524 2019-02-09 21:25:56+00:00   \n\n                                                                                                                                                                                                                                                                                                                                                                                                                                                                                                                                                                             entities  \\\n5812  {'hashtags': [], 'user_mentions': [{'id_str': '348113898', 'name': 'Pure Climate Skeptic', 'screen_name': 'Carbongate', 'indices': [3, 14], 'id': 348113898}], 'urls': [], 'symbols': [], 'media': [{'source_user_id_str': '348113898', 'indices': [56, 79], 'sizes': {'medium': {'h': 600, 'resize': 'fit', 'w': 960}, 'large': {'h': 600, 'resize': 'fit', 'w': 960}, 'small': {'h': 425, 'resize': 'fit', 'w': 680}, 'thumb': {'h': 150, 'resize': 'crop', 'w': 150}}, 'media_url_https': 'https://pbs.twimg.com/media/Dy_uFcwX4AMDaQM.jpg', 'expanded_url': 'https://twi...   \n1997                                                                                                                                                                                                                                                                                                                                                                                                {'hashtags': [], 'user_mentions': [{'id_str': '39076082', 'name': 'Brian Cates', 'screen_name': 'drawandstrike', 'indices': [3, 17], 'id': 39076082}], 'urls': [], 'symbols': []}   \n6631                                                                                                                                                                                                                                                                                                                                                                                                          {'hashtags': [], 'user_mentions': [{'id_str': '173996982', 'name': 'Curbed', 'screen_name': 'Curbed', 'indices': [3, 10], 'id': 173996982}], 'urls': [], 'symbols': []}   \n587                                                                                                                                                                                                                                                                                                                                                                                                           {'hashtags': [], 'user_mentions': [{'id_str': '322735335', 'name': 'Zeddy', 'screen_name': 'Zeddary', 'indices': [3, 11], 'id': 322735335}], 'urls': [], 'symbols': []}   \n7334  {'hashtags': [], 'user_mentions': [{'id_str': '17850785', 'name': 'Larry Kim', 'screen_name': 'larrykim', 'indices': [3, 12], 'id': 17850785}], 'urls': [], 'symbols': [], 'media': [{'source_user_id_str': '17850785', 'indices': [88, 111], 'sizes': {'medium': {'h': 400, 'resize': 'fit', 'w': 400}, 'large': {'h': 400, 'resize': 'fit', 'w': 400}, 'small': {'h': 400, 'resize': 'fit', 'w': 400}, 'thumb': {'h': 150, 'resize': 'crop', 'w': 150}}, 'media_url_https': 'https://pbs.twimg.com/amplify_video_thumb/1092359540379574272/img/2VXE0KyJLesAJ-KM.jpg', 'exp...   \n7093                                                                                                                                                                                                 {'hashtags': [], 'user_mentions': [{'id_str': '64493901', 'name': 'Rachel', 'screen_name': 'hailsboca', 'indices': [71, 81], 'id': 64493901}], 'urls': [{'indices': [84, 107], 'url': 'https://t.co/E27TS45M1W', 'display_url': 'bigthink.com/politics-curre…', 'expanded_url': 'https://bigthink.com/politics-current-affairs/scary-un-climate-change-report'}], 'symbols': []}   \n3500                                                                                                                                                                                                                                                                                                                                                                {'hashtags': [], 'user_mentions': [{'id_str': '857638658597322752', 'name': 'National Security Action', 'screen_name': 'natsecaction', 'indices': [3, 16], 'id': 857638658597322752}], 'urls': [], 'symbols': []}   \n8807                                                                                                                                                                                                                                                                                                                                                                                                {'hashtags': [], 'user_mentions': [{'id_str': '29442313', 'name': 'Bernie Sanders', 'screen_name': 'SenSanders', 'indices': [3, 14], 'id': 29442313}], 'urls': [], 'symbols': []}   \n7693                                                                                                                                                                                                                                                                                                                                                                                                {'hashtags': [], 'user_mentions': [{'id_str': '29442313', 'name': 'Bernie Sanders', 'screen_name': 'SenSanders', 'indices': [3, 14], 'id': 29442313}], 'urls': [], 'symbols': []}   \n8524                                                              {'hashtags': [{'indices': [95, 115], 'text': 'climatechangeisreal'}], 'user_mentions': [], 'urls': [{'indices': [71, 94], 'url': 'https://t.co/8ZCeZaXxIe', 'display_url': 'opb.org/news/article/c…', 'expanded_url': 'https://www.opb.org/news/article/climate-change-report-oregon-2018/#.XF9FR6Yt00M.twitter'}, {'indices': [117, 140], 'url': 'https://t.co/guDeCytVad', 'display_url': 'twitter.com/i/web/status/1…', 'expanded_url': 'https://twitter.com/i/web/status/1094346684761395200'}], 'symbols': []}   \n\n      retweeted_status truncated              user_id  \\\n5812      1.094355e+18     False  1077923577989615621   \n1997      1.094376e+18     False   733063923620945920   \n6631      1.094355e+18     False             25213988   \n587       1.093678e+18     False            105633551   \n7334      1.093876e+18     False            122342361   \n7093               NaN     False            562386385   \n3500      1.093533e+18     False            356888959   \n8807      1.094303e+18     False           2978846170   \n7693      1.094303e+18     False  1087980818113482752   \n8524               NaN      True            701133319   \n\n                                                                                                                                                 text  \n5812                                                                  RT @Carbongate: HUMAN INDUCED CLIMATE CHANGE IS A HOAX. https://t.co/WLVj8VCDtd  \n1997     RT @drawandstrike: THIS is why on almost every issue, abortion, the border, climate change, health care, they aren't even pretending any mo…  \n6631     RT @Curbed: “People have to change, in some ways, our norms about what’s acceptable in terms of a commute,\" says Sacramento mayor Darrell S…  \n587      RT @Zeddary: Hi everyone the literal plot of Game of Thrones is society paying the ultimate price as squabbling rich guys sabotage each oth…  \n7334                                  RT @larrykim: 👏Elon Musk has released all of Tesla patents to help fight climate change https://t.co/ZgIUvYvECy  \n7093                                      On global warming, we have 12 years left until the point of no return ⁦@hailsboca⁩  https://t.co/E27TS45M1W  \n3500  RT @natsecaction: People in agreement that climate change is a national security threat:\\n\\n✔️ scientists\\n✔️ the U.S. military\\n✔️ the United…  \n8807   RT @SenSanders: President Trump believes we should listen to fossil fuel executives and ignore climate change. \\n\\nI believe we should listen…  \n7693   RT @SenSanders: President Trump believes we should listen to fossil fuel executives and ignore climate change. \\n\\nI believe we should listen…  \n8524     Want Proof Climate Change Is Here? Look At Oregon In 2018, Report Says https://t.co/8ZCeZaXxIe #climatechangeisreal… https://t.co/guDeCytVad  ",
      "text/html": "<div>\n<style scoped>\n    .dataframe tbody tr th:only-of-type {\n        vertical-align: middle;\n    }\n\n    .dataframe tbody tr th {\n        vertical-align: top;\n    }\n\n    .dataframe thead th {\n        text-align: right;\n    }\n</style>\n<table border=\"1\" class=\"dataframe\">\n  <thead>\n    <tr style=\"text-align: right;\">\n      <th></th>\n      <th>created_at</th>\n      <th>entities</th>\n      <th>retweeted_status</th>\n      <th>truncated</th>\n      <th>user_id</th>\n      <th>text</th>\n    </tr>\n  </thead>\n  <tbody>\n    <tr>\n      <th>5812</th>\n      <td>2019-02-09 22:20:21+00:00</td>\n      <td>{'hashtags': [], 'user_mentions': [{'id_str': '348113898', 'name': 'Pure Climate Skeptic', 'screen_name': 'Carbongate', 'indices': [3, 14], 'id': 348113898}], 'urls': [], 'symbols': [], 'media': [{'source_user_id_str': '348113898', 'indices': [56, 79], 'sizes': {'medium': {'h': 600, 'resize': 'fit', 'w': 960}, 'large': {'h': 600, 'resize': 'fit', 'w': 960}, 'small': {'h': 425, 'resize': 'fit', 'w': 680}, 'thumb': {'h': 150, 'resize': 'crop', 'w': 150}}, 'media_url_https': 'https://pbs.twimg.com/media/Dy_uFcwX4AMDaQM.jpg', 'expanded_url': 'https://twi...</td>\n      <td>1.094355e+18</td>\n      <td>False</td>\n      <td>1077923577989615621</td>\n      <td>RT @Carbongate: HUMAN INDUCED CLIMATE CHANGE IS A HOAX. https://t.co/WLVj8VCDtd</td>\n    </tr>\n    <tr>\n      <th>1997</th>\n      <td>2019-02-09 23:39:24+00:00</td>\n      <td>{'hashtags': [], 'user_mentions': [{'id_str': '39076082', 'name': 'Brian Cates', 'screen_name': 'drawandstrike', 'indices': [3, 17], 'id': 39076082}], 'urls': [], 'symbols': []}</td>\n      <td>1.094376e+18</td>\n      <td>False</td>\n      <td>733063923620945920</td>\n      <td>RT @drawandstrike: THIS is why on almost every issue, abortion, the border, climate change, health care, they aren't even pretending any mo…</td>\n    </tr>\n    <tr>\n      <th>6631</th>\n      <td>2019-02-09 22:03:28+00:00</td>\n      <td>{'hashtags': [], 'user_mentions': [{'id_str': '173996982', 'name': 'Curbed', 'screen_name': 'Curbed', 'indices': [3, 10], 'id': 173996982}], 'urls': [], 'symbols': []}</td>\n      <td>1.094355e+18</td>\n      <td>False</td>\n      <td>25213988</td>\n      <td>RT @Curbed: “People have to change, in some ways, our norms about what’s acceptable in terms of a commute,\" says Sacramento mayor Darrell S…</td>\n    </tr>\n    <tr>\n      <th>587</th>\n      <td>2019-02-10 00:05:16+00:00</td>\n      <td>{'hashtags': [], 'user_mentions': [{'id_str': '322735335', 'name': 'Zeddy', 'screen_name': 'Zeddary', 'indices': [3, 11], 'id': 322735335}], 'urls': [], 'symbols': []}</td>\n      <td>1.093678e+18</td>\n      <td>False</td>\n      <td>105633551</td>\n      <td>RT @Zeddary: Hi everyone the literal plot of Game of Thrones is society paying the ultimate price as squabbling rich guys sabotage each oth…</td>\n    </tr>\n    <tr>\n      <th>7334</th>\n      <td>2019-02-09 21:49:30+00:00</td>\n      <td>{'hashtags': [], 'user_mentions': [{'id_str': '17850785', 'name': 'Larry Kim', 'screen_name': 'larrykim', 'indices': [3, 12], 'id': 17850785}], 'urls': [], 'symbols': [], 'media': [{'source_user_id_str': '17850785', 'indices': [88, 111], 'sizes': {'medium': {'h': 400, 'resize': 'fit', 'w': 400}, 'large': {'h': 400, 'resize': 'fit', 'w': 400}, 'small': {'h': 400, 'resize': 'fit', 'w': 400}, 'thumb': {'h': 150, 'resize': 'crop', 'w': 150}}, 'media_url_https': 'https://pbs.twimg.com/amplify_video_thumb/1092359540379574272/img/2VXE0KyJLesAJ-KM.jpg', 'exp...</td>\n      <td>1.093876e+18</td>\n      <td>False</td>\n      <td>122342361</td>\n      <td>RT @larrykim: 👏Elon Musk has released all of Tesla patents to help fight climate change https://t.co/ZgIUvYvECy</td>\n    </tr>\n    <tr>\n      <th>7093</th>\n      <td>2019-02-09 21:53:49+00:00</td>\n      <td>{'hashtags': [], 'user_mentions': [{'id_str': '64493901', 'name': 'Rachel', 'screen_name': 'hailsboca', 'indices': [71, 81], 'id': 64493901}], 'urls': [{'indices': [84, 107], 'url': 'https://t.co/E27TS45M1W', 'display_url': 'bigthink.com/politics-curre…', 'expanded_url': 'https://bigthink.com/politics-current-affairs/scary-un-climate-change-report'}], 'symbols': []}</td>\n      <td>NaN</td>\n      <td>False</td>\n      <td>562386385</td>\n      <td>On global warming, we have 12 years left until the point of no return ⁦@hailsboca⁩  https://t.co/E27TS45M1W</td>\n    </tr>\n    <tr>\n      <th>3500</th>\n      <td>2019-02-09 23:09:42+00:00</td>\n      <td>{'hashtags': [], 'user_mentions': [{'id_str': '857638658597322752', 'name': 'National Security Action', 'screen_name': 'natsecaction', 'indices': [3, 16], 'id': 857638658597322752}], 'urls': [], 'symbols': []}</td>\n      <td>1.093533e+18</td>\n      <td>False</td>\n      <td>356888959</td>\n      <td>RT @natsecaction: People in agreement that climate change is a national security threat:\\n\\n✔️ scientists\\n✔️ the U.S. military\\n✔️ the United…</td>\n    </tr>\n    <tr>\n      <th>8807</th>\n      <td>2019-02-09 21:20:05+00:00</td>\n      <td>{'hashtags': [], 'user_mentions': [{'id_str': '29442313', 'name': 'Bernie Sanders', 'screen_name': 'SenSanders', 'indices': [3, 14], 'id': 29442313}], 'urls': [], 'symbols': []}</td>\n      <td>1.094303e+18</td>\n      <td>False</td>\n      <td>2978846170</td>\n      <td>RT @SenSanders: President Trump believes we should listen to fossil fuel executives and ignore climate change. \\n\\nI believe we should listen…</td>\n    </tr>\n    <tr>\n      <th>7693</th>\n      <td>2019-02-09 21:42:54+00:00</td>\n      <td>{'hashtags': [], 'user_mentions': [{'id_str': '29442313', 'name': 'Bernie Sanders', 'screen_name': 'SenSanders', 'indices': [3, 14], 'id': 29442313}], 'urls': [], 'symbols': []}</td>\n      <td>1.094303e+18</td>\n      <td>False</td>\n      <td>1087980818113482752</td>\n      <td>RT @SenSanders: President Trump believes we should listen to fossil fuel executives and ignore climate change. \\n\\nI believe we should listen…</td>\n    </tr>\n    <tr>\n      <th>8524</th>\n      <td>2019-02-09 21:25:56+00:00</td>\n      <td>{'hashtags': [{'indices': [95, 115], 'text': 'climatechangeisreal'}], 'user_mentions': [], 'urls': [{'indices': [71, 94], 'url': 'https://t.co/8ZCeZaXxIe', 'display_url': 'opb.org/news/article/c…', 'expanded_url': 'https://www.opb.org/news/article/climate-change-report-oregon-2018/#.XF9FR6Yt00M.twitter'}, {'indices': [117, 140], 'url': 'https://t.co/guDeCytVad', 'display_url': 'twitter.com/i/web/status/1…', 'expanded_url': 'https://twitter.com/i/web/status/1094346684761395200'}], 'symbols': []}</td>\n      <td>NaN</td>\n      <td>True</td>\n      <td>701133319</td>\n      <td>Want Proof Climate Change Is Here? Look At Oregon In 2018, Report Says https://t.co/8ZCeZaXxIe #climatechangeisreal… https://t.co/guDeCytVad</td>\n    </tr>\n  </tbody>\n</table>\n</div>"
     },
     "execution_count": 178,
     "metadata": {},
     "output_type": "execute_result"
    }
   ],
   "source": [
    "climate_feed_df.sample(10)"
   ],
   "metadata": {
    "collapsed": false,
    "pycharm": {
     "name": "#%%\n"
    }
   }
  },
  {
   "cell_type": "markdown",
   "metadata": {},
   "source": [
    "Checking datatype again"
   ]
  },
  {
   "cell_type": "code",
   "execution_count": 179,
   "metadata": {},
   "outputs": [
    {
     "data": {
      "text/plain": "created_at          datetime64[ns, UTC]\nentities                         object\nretweeted_status                float64\ntruncated                        object\nuser_id                           int64\ntext                             object\ndtype: object"
     },
     "execution_count": 179,
     "metadata": {},
     "output_type": "execute_result"
    }
   ],
   "source": [
    "climate_feed_df.dtypes"
   ]
  },
  {
   "cell_type": "markdown",
   "metadata": {},
   "source": [
    "# Q3(points .5) In climate_feed_df, calculate the number of NAN values in various columns"
   ]
  },
  {
   "cell_type": "code",
   "execution_count": 180,
   "metadata": {},
   "outputs": [
    {
     "data": {
      "text/plain": "created_at             0\nentities               0\nretweeted_status    2690\ntruncated              0\nuser_id                0\ntext                   0\ndtype: int64"
     },
     "execution_count": 180,
     "metadata": {},
     "output_type": "execute_result"
    }
   ],
   "source": [
    "# write code here\n",
    "# climate_feed_df.info()\n",
    "\n",
    "climate_feed_df[[column for column in ['created_at', 'entities','retweeted_status', 'truncated', 'user_id', 'text' ]]].isna().sum()"
   ]
  },
  {
   "cell_type": "markdown",
   "metadata": {},
   "source": [
    "We'll use **ast** module to parse string to python dictionary"
   ]
  },
  {
   "cell_type": "markdown",
   "metadata": {},
   "source": [
    "# Q4(points 1=.5+.5) Using *ast* module  convert entities to python dictionary. This dictionary should contain hashtags and user_mentions\n",
    " - Create a columns named hashtags. Values in this columns should be command separated values of **text** attribute in **hashtags**  value.\n",
    " - Create a columns named user_mentions.Values in this columns should be command separated values of **name** attribute in **user_mentions** values."
   ]
  },
  {
   "cell_type": "code",
   "execution_count": 181,
   "outputs": [],
   "source": [
    "from ast import literal_eval\n",
    "# write code here\n",
    "\n",
    "climate_feed_df['entities'] = climate_feed_df.entities.apply(lambda x: literal_eval(str(x)))"
   ],
   "metadata": {
    "collapsed": false,
    "pycharm": {
     "name": "#%%\n"
    }
   }
  },
  {
   "cell_type": "code",
   "execution_count": 182,
   "outputs": [
    {
     "data": {
      "text/plain": "dict"
     },
     "execution_count": 182,
     "metadata": {},
     "output_type": "execute_result"
    }
   ],
   "source": [
    "type(climate_feed_df['entities'][0])"
   ],
   "metadata": {
    "collapsed": false,
    "pycharm": {
     "name": "#%%\n"
    }
   }
  },
  {
   "cell_type": "markdown",
   "metadata": {},
   "source": [
    "# Cleaning tweets\n",
    "\n",
    "Let's see some random tweets"
   ]
  },
  {
   "cell_type": "code",
   "execution_count": 183,
   "metadata": {},
   "outputs": [
    {
     "data": {
      "text/plain": "1402     RT @kenklippenstein: Unmitigated climate change would literally destroy civilization but doing something about it might increase the defici…\n5192                If the green new deal is so great why didn't Speaker Pelosi put AOC on her climate change committed??!!!! https://t.co/vccrQnPGR0\n7529     Climate change is melting glaciers in Antarctica and Greenland, but for many in the remote Russian town of Panozero… https://t.co/0SRbLX9xBj\n5696     RT @kenklippenstein: Unmitigated climate change would literally destroy civilization but doing something about it might increase the defici…\n6648     RT @kenklippenstein: Unmitigated climate change would literally destroy civilization but doing something about it might increase the defici…\n                                                                            ...                                                                      \n8376     .@Nestle's plan to build a massive $154M coffee processing plant in Mexico would likely fuel deforestation and cont… https://t.co/IogcRNHs5J\n598      RT @MgBenchjeweler: @SpeakerPelosi It's funny how we were told global warming now it's climate change. Just another scam by the scamming De…\n1049     RT @brianschatz: I’m not a socialist. But I believe that every American deserves health care. I also believe that college should be debt fr…\n4247    @ilcatsandbts i thought we were talking about bonsoir ?\\nand why would you want to stop bonjour? aren't there more i… https://t.co/28k4lK029X\n9951     RT @SiddonsDan: “Does God’s creation not include protecting babies as well Madame Speaker? A committee on that issue would be welcome.”~⁦⁦@…\nName: text, Length: 100, dtype: object"
     },
     "execution_count": 183,
     "metadata": {},
     "output_type": "execute_result"
    }
   ],
   "source": [
    "tweet_length= 280\n",
    "pd.set_option('max_colwidth', 2*tweet_length)\n",
    "# climate_feed_df['text'].sample(100)\n",
    "climate_feed_df2 = pd.read_pickle('q5_dataframe.pkl')\n",
    "climate_feed_df2['text'].sample(100)\n",
    "\n"
   ]
  },
  {
   "cell_type": "markdown",
   "metadata": {},
   "source": [
    "**Example of tweet not truncated**"
   ]
  },
  {
   "cell_type": "code",
   "execution_count": 184,
   "metadata": {},
   "outputs": [
    {
     "data": {
      "text/plain": "'Fighting climate change without nuclear is a fool’s errand. https://t.co/KPSCk6fjsa'"
     },
     "execution_count": 184,
     "metadata": {},
     "output_type": "execute_result"
    }
   ],
   "source": [
    "climate_feed_df2['text'].loc[3929]"
   ]
  },
  {
   "cell_type": "markdown",
   "metadata": {},
   "source": [
    "**Exampe of tweet truncated**"
   ]
  },
  {
   "cell_type": "code",
   "execution_count": 185,
   "metadata": {},
   "outputs": [
    {
     "data": {
      "text/plain": "'RT @_Oliver_Yates: If only Abbott could fight as hard for the safety of our country from the impacts of climate change, as he is fighting f…'"
     },
     "execution_count": 185,
     "metadata": {},
     "output_type": "execute_result"
    }
   ],
   "source": [
    "climate_feed_df['text'].loc[3928]"
   ]
  },
  {
   "cell_type": "markdown",
   "metadata": {},
   "source": [
    "Truncated tweet has three horizontal ellipses in it. One can check retweeted_status values and \n",
    "use it got the original tweet text"
   ]
  },
  {
   "cell_type": "code",
   "execution_count": 186,
   "metadata": {},
   "outputs": [
    {
     "data": {
      "text/plain": "1.0943594112863928e+18"
     },
     "execution_count": 186,
     "metadata": {},
     "output_type": "execute_result"
    }
   ],
   "source": [
    "climate_feed_df.retweeted_status.loc[3928]"
   ]
  },
  {
   "cell_type": "code",
   "execution_count": 187,
   "metadata": {},
   "outputs": [
    {
     "data": {
      "text/plain": "'If only Abbott could fight as hard for the safety of our country from the impacts of climate change, as he is fight… https://t.co/OJlsDeFoNA'"
     },
     "execution_count": 187,
     "metadata": {},
     "output_type": "execute_result"
    }
   ],
   "source": [
    "retweeted_status_df[retweeted_status_df.id == climate_feed_df.retweeted_status.loc[3928]].text.iloc[0]"
   ]
  },
  {
   "cell_type": "code",
   "execution_count": 187,
   "outputs": [],
   "source": [],
   "metadata": {
    "collapsed": false,
    "pycharm": {
     "name": "#%%\n"
    }
   }
  },
  {
   "cell_type": "markdown",
   "metadata": {},
   "source": [
    "There is url above tweet. We can use **requests** to get the complete text.\n",
    "\n"
   ]
  },
  {
   "cell_type": "markdown",
   "metadata": {},
   "source": [
    "# Q5(points 3.5= 1(use of requests and text extraction from right html element)+.5+1+1 ) Perform following activities for creating a new original_tweet_text field in climate_feed_df. \n",
    "\n",
    "- If  climate_feed_df has a valid retweeted_status(**it is an id of the record in retweeted_status_df** ), then use retweeted_status_df to get the original text(**retweeted_status_df.text**) otherwise use None(**Ignore the value of climate_feed_df.truncated field for this activity.**).\n",
    "    + If retweeted_status_df.text has a URL(like https://t.co/RKyppIS5c9 ), use it to get complete text from right html element. \n",
    "    \n",
    "    *If you have a way to figure out that one is not supposed to web scrap this URL don't scrap it.*\n",
    "    \n",
    "- Create a new field named **original_tweet_text** in climate_feed_df to store the text extracted from URL(use None if requests to URL fails or any other issues.). Use retweeted_status_df.text if there was no \n",
    " URL.\n",
    "- From  newly original_tweet_text field remove\n",
    "    - one or more \\n with .(dot)\n",
    "    - any url(http, https)\n",
    "    - @user, @user:\n",
    "\n",
    "*Note that as you will be making a lot of requests call(I/O bound calls), this portion of code can be slow. you may want to test your code on a small number of records first.*"
   ]
  },
  {
   "cell_type": "code",
   "execution_count": 188,
   "metadata": {},
   "outputs": [
    {
     "data": {
      "text/plain": "           created_at  \\\n0 2019-02-10 00:17:31   \n1 2019-02-10 00:17:30   \n2 2019-02-10 00:17:26   \n3 2019-02-10 00:17:24   \n4 2019-02-10 00:17:23   \n\n                                                                                                                                                                                                                                                                                                                                                                                      entities  \\\n0                                {'hashtags': [], 'user_mentions': [{'id_str': '48117116', 'name': 'Steve King', 'screen_name': 'SteveKingIA', 'indices': [1, 13], 'id': 48117116}], 'urls': [{'indices': [117, 140], 'url': 'https://t.co/J1CcrQZkB2', 'display_url': 'twitter.com/i/web/status/1…', 'expanded_url': 'https://twitter.com/i/web/status/1094389867499405313'}], 'symbols': []}   \n1                                                                                                                                                                                                          {'hashtags': [], 'user_mentions': [{'id_str': '16777464', 'name': 'Rob Oakeshott', 'screen_name': 'RobOakeshott1', 'indices': [3, 17], 'id': 16777464}], 'urls': [], 'symbols': []}   \n2  {'hashtags': [], 'user_mentions': [{'id_str': '850130990706151428', 'name': 'Suze Michelini', 'screen_name': 'emilia_suze', 'indices': [3, 15], 'id': 850130990706151428}], 'urls': [{'indices': [105, 128], 'url': 'https://t.co/HWjCJGhQIx', 'display_url': 'twitter.com/LeoDiCaprio/st…', 'expanded_url': 'https://twitter.com/LeoDiCaprio/status/1093998640392220673'}], 'symbols': []}   \n3                                                                                                                                                                                     {'hashtags': [], 'user_mentions': [{'id_str': '753005970318626816', 'name': 'Chad Vigorous', 'screen_name': 'PrettyBadLefty', 'indices': [3, 18], 'id': 753005970318626816}], 'urls': [], 'symbols': []}   \n4                                                                                                                                                                                                 {'hashtags': [], 'user_mentions': [{'id_str': '1634248890', 'name': 'Ken Klippenstein', 'screen_name': 'kenklippenstein', 'indices': [3, 19], 'id': 1634248890}], 'urls': [], 'symbols': []}   \n\n   retweeted_status  truncated              user_id  \\\n0               NaN       True             31476142   \n1      1.094332e+18       True            996782298   \n2      1.094385e+18       True             45333453   \n3      1.094379e+18       True  1020067726532829185   \n4      1.094312e+18       True             19889325   \n\n                                                                                                                                           text  \\\n0  .@SteveKingIA says he's unsure about the science of climate change. But you don’t need to be a scientist to take ac… https://t.co/J1CcrQZkB2   \n1   RT @RobOakeshott1: The National Party declares war on the Gloucester community because they stood up for themselves and won. Remember, the…   \n2             RT @emilia_suze: This is the same idiot who thought\\nThe southern Alberta chinook was climate change lol. https://t.co/HWjCJGhQIx   \n3  RT @PrettyBadLefty: Communism is Fascism. Fighting Climate Change will Kill millions. Apparently, you're just allowed to say shit on MSNBC.…   \n4  RT @kenklippenstein: Unmitigated climate change would literally destroy civilization but doing something about it might increase the defici…   \n\n  hashtags     user_mentions  \\\n0     None        Steve King   \n1     None     Rob Oakeshott   \n2     None    Suze Michelini   \n3     None     Chad Vigorous   \n4     None  Ken Klippenstein   \n\n                                                                                                                            original_tweet_text  \\\n0                                                                                                                                          None   \n1  The National Party declares war on the Gloucester community because they stood up for themselves and won. Remember,… https://t.co/G0PqMIEUMV   \n2                              This is the same idiot who thought\\nThe southern Alberta chinook was climate change lol. https://t.co/HWjCJGhQIx   \n3  Communism is Fascism. Fighting Climate Change will Kill millions. Apparently, you're just allowed to say shit on MS… https://t.co/2asxrk5Fqd   \n4  Unmitigated climate change would literally destroy civilization but doing something about it might increase the def… https://t.co/1J7lLUkYyY   \n\n  original_tweet_id_str  \n0                  None  \n1   1094332044052549633  \n2   1094384528267902977  \n3   1094379028608438272  \n4   1094311957669265408  ",
      "text/html": "<div>\n<style scoped>\n    .dataframe tbody tr th:only-of-type {\n        vertical-align: middle;\n    }\n\n    .dataframe tbody tr th {\n        vertical-align: top;\n    }\n\n    .dataframe thead th {\n        text-align: right;\n    }\n</style>\n<table border=\"1\" class=\"dataframe\">\n  <thead>\n    <tr style=\"text-align: right;\">\n      <th></th>\n      <th>created_at</th>\n      <th>entities</th>\n      <th>retweeted_status</th>\n      <th>truncated</th>\n      <th>user_id</th>\n      <th>text</th>\n      <th>hashtags</th>\n      <th>user_mentions</th>\n      <th>original_tweet_text</th>\n      <th>original_tweet_id_str</th>\n    </tr>\n  </thead>\n  <tbody>\n    <tr>\n      <th>0</th>\n      <td>2019-02-10 00:17:31</td>\n      <td>{'hashtags': [], 'user_mentions': [{'id_str': '48117116', 'name': 'Steve King', 'screen_name': 'SteveKingIA', 'indices': [1, 13], 'id': 48117116}], 'urls': [{'indices': [117, 140], 'url': 'https://t.co/J1CcrQZkB2', 'display_url': 'twitter.com/i/web/status/1…', 'expanded_url': 'https://twitter.com/i/web/status/1094389867499405313'}], 'symbols': []}</td>\n      <td>NaN</td>\n      <td>True</td>\n      <td>31476142</td>\n      <td>.@SteveKingIA says he's unsure about the science of climate change. But you don’t need to be a scientist to take ac… https://t.co/J1CcrQZkB2</td>\n      <td>None</td>\n      <td>Steve King</td>\n      <td>None</td>\n      <td>None</td>\n    </tr>\n    <tr>\n      <th>1</th>\n      <td>2019-02-10 00:17:30</td>\n      <td>{'hashtags': [], 'user_mentions': [{'id_str': '16777464', 'name': 'Rob Oakeshott', 'screen_name': 'RobOakeshott1', 'indices': [3, 17], 'id': 16777464}], 'urls': [], 'symbols': []}</td>\n      <td>1.094332e+18</td>\n      <td>True</td>\n      <td>996782298</td>\n      <td>RT @RobOakeshott1: The National Party declares war on the Gloucester community because they stood up for themselves and won. Remember, the…</td>\n      <td>None</td>\n      <td>Rob Oakeshott</td>\n      <td>The National Party declares war on the Gloucester community because they stood up for themselves and won. Remember,… https://t.co/G0PqMIEUMV</td>\n      <td>1094332044052549633</td>\n    </tr>\n    <tr>\n      <th>2</th>\n      <td>2019-02-10 00:17:26</td>\n      <td>{'hashtags': [], 'user_mentions': [{'id_str': '850130990706151428', 'name': 'Suze Michelini', 'screen_name': 'emilia_suze', 'indices': [3, 15], 'id': 850130990706151428}], 'urls': [{'indices': [105, 128], 'url': 'https://t.co/HWjCJGhQIx', 'display_url': 'twitter.com/LeoDiCaprio/st…', 'expanded_url': 'https://twitter.com/LeoDiCaprio/status/1093998640392220673'}], 'symbols': []}</td>\n      <td>1.094385e+18</td>\n      <td>True</td>\n      <td>45333453</td>\n      <td>RT @emilia_suze: This is the same idiot who thought\\nThe southern Alberta chinook was climate change lol. https://t.co/HWjCJGhQIx</td>\n      <td>None</td>\n      <td>Suze Michelini</td>\n      <td>This is the same idiot who thought\\nThe southern Alberta chinook was climate change lol. https://t.co/HWjCJGhQIx</td>\n      <td>1094384528267902977</td>\n    </tr>\n    <tr>\n      <th>3</th>\n      <td>2019-02-10 00:17:24</td>\n      <td>{'hashtags': [], 'user_mentions': [{'id_str': '753005970318626816', 'name': 'Chad Vigorous', 'screen_name': 'PrettyBadLefty', 'indices': [3, 18], 'id': 753005970318626816}], 'urls': [], 'symbols': []}</td>\n      <td>1.094379e+18</td>\n      <td>True</td>\n      <td>1020067726532829185</td>\n      <td>RT @PrettyBadLefty: Communism is Fascism. Fighting Climate Change will Kill millions. Apparently, you're just allowed to say shit on MSNBC.…</td>\n      <td>None</td>\n      <td>Chad Vigorous</td>\n      <td>Communism is Fascism. Fighting Climate Change will Kill millions. Apparently, you're just allowed to say shit on MS… https://t.co/2asxrk5Fqd</td>\n      <td>1094379028608438272</td>\n    </tr>\n    <tr>\n      <th>4</th>\n      <td>2019-02-10 00:17:23</td>\n      <td>{'hashtags': [], 'user_mentions': [{'id_str': '1634248890', 'name': 'Ken Klippenstein', 'screen_name': 'kenklippenstein', 'indices': [3, 19], 'id': 1634248890}], 'urls': [], 'symbols': []}</td>\n      <td>1.094312e+18</td>\n      <td>True</td>\n      <td>19889325</td>\n      <td>RT @kenklippenstein: Unmitigated climate change would literally destroy civilization but doing something about it might increase the defici…</td>\n      <td>None</td>\n      <td>Ken Klippenstein</td>\n      <td>Unmitigated climate change would literally destroy civilization but doing something about it might increase the def… https://t.co/1J7lLUkYyY</td>\n      <td>1094311957669265408</td>\n    </tr>\n  </tbody>\n</table>\n</div>"
     },
     "execution_count": 188,
     "metadata": {},
     "output_type": "execute_result"
    }
   ],
   "source": [
    "# Write code here\n",
    "# climate_feed_df2['original_tweet_text'] = np.nan\n",
    "climate_feed_df2.head()"
   ]
  },
  {
   "cell_type": "code",
   "source": [
    "# print(retweeted_status_df.id[9])\n",
    "# print(climate_feed_df.retweeted_status.loc[9])\n",
    "#\n",
    "# text = retweeted_status_df[retweeted_status_df.id == climate_feed_df.retweeted_status.loc[9]].text.iloc[0]\n",
    "# [text]"
   ],
   "metadata": {
    "collapsed": false,
    "pycharm": {
     "name": "#%%\n"
    }
   },
   "execution_count": 189,
   "outputs": []
  },
  {
   "cell_type": "markdown",
   "source": [
    "import requests\n",
    "\n",
    "text_list = []\n",
    "# for i in range(1, len(climate_feed_df.retweeted_status)):\n",
    "for i in range(1, len(climate_feed_df2.original_tweet_id_str)):\n",
    "    # if climate_feed_df.retweeted_status.loc[i] == retweeted_status_df.id\n",
    "    if climate_feed_df2.original_tweet_id_str.loc[i] in retweeted_status_df.id.values:\n",
    "        # retweeted_status_df.id[i]\n",
    "        text = [[retweeted_status_df[retweeted_status_df['id'] == climate_feed_df2['original_tweet_id_str'].loc[i]].text.iloc[0]]]\n",
    "        link = re.findall(r'(https?://[^\\s]+)', text[0][0])\n",
    "        if link:\n",
    "            #go to link with requests and save full text as text\n",
    "            request = requests.get(link[0])\n",
    "            link_text = request.text\n",
    "            #increase text_list with link text\n",
    "            text_list += link_text\n",
    "        else:\n",
    "            #else if increase text_list with text\n",
    "            text_list += text\n",
    "        # loc = climate_feed_df.retweeted_status[i].iloc()\n",
    "        # loc = retweeted_status_df.id.iloc(climate_feed_df.retweeted_status[i])\n",
    "\n",
    "        # url_list += url\n",
    "        # climate_feed_df['original_tweet_text'][i] = text\n",
    "    # else:\n",
    "        # loc = retweeted_status_df.id.iloc(climate_feed_df.retweeted_status[i])\n",
    "        # text_list += []\n"
   ],
   "metadata": {
    "collapsed": false,
    "pycharm": {
     "name": "#%% md\n"
    }
   }
  },
  {
   "cell_type": "code",
   "execution_count": 190,
   "outputs": [],
   "source": [
    "# url_string = text_list[0][0][-23:]\n",
    "# url_string\n",
    "\n",
    "\n",
    "# url =  re.findall(r'(https?://[^\\s]+)', text[0][0])\n",
    "# url[0]\n",
    "# response = requests.get(url[0])\n",
    "\n",
    "# print(response.text)\n",
    "# url_list = []\n",
    "# for text in text_list:\n",
    "#     url_list += re.findall(r'(https?://[^\\s]+)', text[0])\n",
    "#\n",
    "# len(url_list)"
   ],
   "metadata": {
    "collapsed": false,
    "pycharm": {
     "name": "#%%\n"
    }
   }
  },
  {
   "cell_type": "code",
   "execution_count": 191,
   "outputs": [],
   "source": [
    "# if climate_feed_df.retweeted_status.loc[9998] in retweeted_status_df['id']:\n",
    "#     print('True')\n",
    "# else:\n",
    "#     print('False')\n",
    "\n",
    "# climate_feed_df.retweeted_status.loc[9998]"
   ],
   "metadata": {
    "collapsed": false,
    "pycharm": {
     "name": "#%%\n"
    }
   }
  },
  {
   "cell_type": "code",
   "execution_count": 192,
   "outputs": [],
   "source": [
    "# climate_feed_df.info()\n",
    "# climate_feed_df.retweeted_status[1]"
   ],
   "metadata": {
    "collapsed": false,
    "pycharm": {
     "name": "#%%\n"
    }
   }
  },
  {
   "cell_type": "markdown",
   "metadata": {},
   "source": [
    "# Q 6(point 1= .5+.5) Remove all the reference  of RT and  @user: or @user, and url in climate_feed_df text attribute."
   ]
  },
  {
   "cell_type": "code",
   "execution_count": 193,
   "outputs": [
    {
     "name": "stderr",
     "output_type": "stream",
     "text": [
      "<ipython-input-193-1b9fb9ee226b>:13: SettingWithCopyWarning: \n",
      "A value is trying to be set on a copy of a slice from a DataFrame\n",
      "\n",
      "See the caveats in the documentation: https://pandas.pydata.org/pandas-docs/stable/user_guide/indexing.html#returning-a-view-versus-a-copy\n",
      "  climate_feed_df2['FINAL_tweet_text'][i] = cleaned_string_5\n",
      "/opt/anaconda3/envs/ActiveDataProjects/lib/python3.8/site-packages/pandas/core/indexing.py:670: SettingWithCopyWarning: \n",
      "A value is trying to be set on a copy of a slice from a DataFrame\n",
      "\n",
      "See the caveats in the documentation: https://pandas.pydata.org/pandas-docs/stable/user_guide/indexing.html#returning-a-view-versus-a-copy\n",
      "  iloc._setitem_with_indexer(indexer, value)\n"
     ]
    },
    {
     "data": {
      "text/plain": "              created_at  \\\n0    2019-02-10 00:17:31   \n1    2019-02-10 00:17:30   \n2    2019-02-10 00:17:26   \n3    2019-02-10 00:17:24   \n4    2019-02-10 00:17:23   \n...                  ...   \n9994 2019-02-09 20:57:54   \n9995 2019-02-09 20:57:54   \n9996 2019-02-09 20:57:53   \n9997 2019-02-09 20:57:51   \n9998 2019-02-09 20:57:51   \n\n                                                                                                                                                                                                                                                                                                                                                                                                                                                                                                                                                                             entities  \\\n0                                                                                                                                                                                                                       {'hashtags': [], 'user_mentions': [{'id_str': '48117116', 'name': 'Steve King', 'screen_name': 'SteveKingIA', 'indices': [1, 13], 'id': 48117116}], 'urls': [{'indices': [117, 140], 'url': 'https://t.co/J1CcrQZkB2', 'display_url': 'twitter.com/i/web/status/1…', 'expanded_url': 'https://twitter.com/i/web/status/1094389867499405313'}], 'symbols': []}   \n1                                                                                                                                                                                                                                                                                                                                                                                                 {'hashtags': [], 'user_mentions': [{'id_str': '16777464', 'name': 'Rob Oakeshott', 'screen_name': 'RobOakeshott1', 'indices': [3, 17], 'id': 16777464}], 'urls': [], 'symbols': []}   \n2                                                                                                                                                                                         {'hashtags': [], 'user_mentions': [{'id_str': '850130990706151428', 'name': 'Suze Michelini', 'screen_name': 'emilia_suze', 'indices': [3, 15], 'id': 850130990706151428}], 'urls': [{'indices': [105, 128], 'url': 'https://t.co/HWjCJGhQIx', 'display_url': 'twitter.com/LeoDiCaprio/st…', 'expanded_url': 'https://twitter.com/LeoDiCaprio/status/1093998640392220673'}], 'symbols': []}   \n3                                                                                                                                                                                                                                                                                                                                                                            {'hashtags': [], 'user_mentions': [{'id_str': '753005970318626816', 'name': 'Chad Vigorous', 'screen_name': 'PrettyBadLefty', 'indices': [3, 18], 'id': 753005970318626816}], 'urls': [], 'symbols': []}   \n4                                                                                                                                                                                                                                                                                                                                                                                        {'hashtags': [], 'user_mentions': [{'id_str': '1634248890', 'name': 'Ken Klippenstein', 'screen_name': 'kenklippenstein', 'indices': [3, 19], 'id': 1634248890}], 'urls': [], 'symbols': []}   \n...                                                                                                                                                                                                                                                                                                                                                                                                                                                                                                                                                                               ...   \n9994                                                                                                                                      {'hashtags': [], 'user_mentions': [{'id_str': '1073261955216039937', 'name': 'fromhello2hello', 'screen_name': 'fromhello2hello', 'indices': [3, 19], 'id': 1073261955216039937}], 'urls': [{'indices': [78, 101], 'url': 'https://t.co/P1X5jfuUQC', 'display_url': 'treehugger.com/climate-change…', 'expanded_url': 'https://www.treehugger.com/climate-change/72-americans-are-very-worried-about-climate-change.html'}], 'symbols': []}   \n9995  {'hashtags': [], 'user_mentions': [{'id_str': '1082006962995429383', 'name': 'stuntdaddy_42', 'screen_name': 'stuntdaddy_42', 'indices': [3, 17], 'id': 1082006962995429383}, {'id_str': '2497547378', 'name': 'Justice Faurall', 'screen_name': 'JFaurall', 'indices': [19, 28], 'id': 2497547378}, {'id_str': '3073664870', 'name': 'Michael Shelton', 'screen_name': 'MgBenchjeweler', 'indices': [29, 44], 'id': 3073664870}, {'id_str': '15764644', 'name': 'Nancy Pelosi', 'screen_name': 'SpeakerPelosi', 'indices': [45, 59], 'id': 15764644}], 'urls': [], 'symbols...   \n9996                                                                                                                                                                                                                                                                                                                                                                                                {'hashtags': [], 'user_mentions': [{'id_str': '29442313', 'name': 'Bernie Sanders', 'screen_name': 'SenSanders', 'indices': [3, 14], 'id': 29442313}], 'urls': [], 'symbols': []}   \n9997                                                                                                                                                                                                               {'hashtags': [], 'user_mentions': [{'id_str': '637196658', 'name': 'Kate Aronoff', 'screen_name': 'KateAronoff', 'indices': [3, 15], 'id': 637196658}], 'urls': [{'indices': [73, 96], 'url': 'https://t.co/P6znQNsbLH', 'display_url': 'twitter.com/business/statu…', 'expanded_url': 'https://twitter.com/business/status/1093893115633647616'}], 'symbols': []}   \n9998                                                                                                                                                                                                                                                                  {'hashtags': [], 'user_mentions': [{'id_str': '237845487', 'name': 'George Takei', 'screen_name': 'GeorgeTakei', 'indices': [3, 15], 'id': 237845487}], 'urls': [{'indices': [38, 61], 'url': 'https://t.co/hFLndZsiBB', 'display_url': 'po.st/P5AgAW', 'expanded_url': 'http://po.st/P5AgAW'}], 'symbols': []}   \n\n      retweeted_status  truncated              user_id  \\\n0                  NaN       True             31476142   \n1         1.094332e+18       True            996782298   \n2         1.094385e+18       True             45333453   \n3         1.094379e+18       True  1020067726532829185   \n4         1.094312e+18       True             19889325   \n...                ...        ...                  ...   \n9994      1.094339e+18       True   888112320097918976   \n9995      1.093607e+18       True           3324836714   \n9996      1.094303e+18       True           1487109794   \n9997      1.093997e+18       True           4737089913   \n9998      1.094335e+18       True             19444003   \n\n                                                                                                                                                text  \\\n0       .@SteveKingIA says he's unsure about the science of climate change. But you don’t need to be a scientist to take ac… https://t.co/J1CcrQZkB2   \n1        RT @RobOakeshott1: The National Party declares war on the Gloucester community because they stood up for themselves and won. Remember, the…   \n2                  RT @emilia_suze: This is the same idiot who thought\\nThe southern Alberta chinook was climate change lol. https://t.co/HWjCJGhQIx   \n3       RT @PrettyBadLefty: Communism is Fascism. Fighting Climate Change will Kill millions. Apparently, you're just allowed to say shit on MSNBC.…   \n4       RT @kenklippenstein: Unmitigated climate change would literally destroy civilization but doing something about it might increase the defici…   \n...                                                                                                                                              ...   \n9994                                           RT @fromhello2hello: 72% of Americans are 'very worried' about climate change https://t.co/P1X5jfuUQC   \n9995     RT @stuntdaddy_42: @JFaurall @MgBenchjeweler @SpeakerPelosi California was given hundreds of millions of dollars over the years to prevent…   \n9996  RT @SenSanders: President Trump believes we should listen to fossil fuel executives and ignore climate change. \\n\\nI believe we should listen…   \n9997                                                RT @KateAronoff: Wait til he hears how much climate change is gonna cost https://t.co/P6znQNsbLH   \n9998                                                                                   RT @GeorgeTakei: Blue marble no more? https://t.co/hFLndZsiBB   \n\n     hashtags                                               user_mentions  \\\n0        None                                                  Steve King   \n1        None                                               Rob Oakeshott   \n2        None                                              Suze Michelini   \n3        None                                               Chad Vigorous   \n4        None                                            Ken Klippenstein   \n...       ...                                                         ...   \n9994     None                                             fromhello2hello   \n9995     None  stuntdaddy_42,Justice Faurall,Michael Shelton,Nancy Pelosi   \n9996     None                                              Bernie Sanders   \n9997     None                                                Kate Aronoff   \n9998     None                                                George Takei   \n\n                                                                                                                                 original_tweet_text  \\\n0                                                                                                                                               None   \n1       The National Party declares war on the Gloucester community because they stood up for themselves and won. Remember,… https://t.co/G0PqMIEUMV   \n2                                   This is the same idiot who thought\\nThe southern Alberta chinook was climate change lol. https://t.co/HWjCJGhQIx   \n3       Communism is Fascism. Fighting Climate Change will Kill millions. Apparently, you're just allowed to say shit on MS… https://t.co/2asxrk5Fqd   \n4       Unmitigated climate change would literally destroy civilization but doing something about it might increase the def… https://t.co/1J7lLUkYyY   \n...                                                                                                                                              ...   \n9994                                                                72% of Americans are 'very worried' about climate change https://t.co/P1X5jfuUQC   \n9995    @JFaurall @MgBenchjeweler @SpeakerPelosi California was given hundreds of millions of dollars over the years to pre… https://t.co/YsUdbuTHT3   \n9996  President Trump believes we should listen to fossil fuel executives and ignore climate change. \\n\\nI believe we shoul… https://t.co/2ewlaPQscF   \n9997                                                                 Wait til he hears how much climate change is gonna cost https://t.co/P6znQNsbLH   \n9998                                                                                                    Blue marble no more? https://t.co/hFLndZsiBB   \n\n     original_tweet_id_str  \\\n0                     None   \n1      1094332044052549633   \n2      1094384528267902977   \n3      1094379028608438272   \n4      1094311957669265408   \n...                    ...   \n9994   1094339317324017665   \n9995   1093607309606076416   \n9996   1094303164805799936   \n9997   1093996855111966720   \n9998   1094335377194799104   \n\n                                                                                                           FINAL_tweet_text  \n0                                                                                                                      None  \n1     The National Party declares war on the Gloucester community because they stood up for themselves and won. Remember,…   \n2                                  This is the same idiot who thought.The southern Alberta chinook was climate change lol.   \n3     Communism is Fascism. Fighting Climate Change will Kill millions. Apparently, you're just allowed to say shit on MS…   \n4     Unmitigated climate change would literally destroy civilization but doing something about it might increase the def…   \n...                                                                                                                     ...  \n9994                                                              72% of Americans are 'very worried' about climate change   \n9995                                           California was given hundreds of millions of dollars over the years to pre…   \n9996    President Trump believes we should listen to fossil fuel executives and ignore climate change. I believe we shoul…   \n9997                                                               Wait til he hears how much climate change is gonna cost   \n9998                                                                                                  Blue marble no more?   \n\n[9999 rows x 11 columns]",
      "text/html": "<div>\n<style scoped>\n    .dataframe tbody tr th:only-of-type {\n        vertical-align: middle;\n    }\n\n    .dataframe tbody tr th {\n        vertical-align: top;\n    }\n\n    .dataframe thead th {\n        text-align: right;\n    }\n</style>\n<table border=\"1\" class=\"dataframe\">\n  <thead>\n    <tr style=\"text-align: right;\">\n      <th></th>\n      <th>created_at</th>\n      <th>entities</th>\n      <th>retweeted_status</th>\n      <th>truncated</th>\n      <th>user_id</th>\n      <th>text</th>\n      <th>hashtags</th>\n      <th>user_mentions</th>\n      <th>original_tweet_text</th>\n      <th>original_tweet_id_str</th>\n      <th>FINAL_tweet_text</th>\n    </tr>\n  </thead>\n  <tbody>\n    <tr>\n      <th>0</th>\n      <td>2019-02-10 00:17:31</td>\n      <td>{'hashtags': [], 'user_mentions': [{'id_str': '48117116', 'name': 'Steve King', 'screen_name': 'SteveKingIA', 'indices': [1, 13], 'id': 48117116}], 'urls': [{'indices': [117, 140], 'url': 'https://t.co/J1CcrQZkB2', 'display_url': 'twitter.com/i/web/status/1…', 'expanded_url': 'https://twitter.com/i/web/status/1094389867499405313'}], 'symbols': []}</td>\n      <td>NaN</td>\n      <td>True</td>\n      <td>31476142</td>\n      <td>.@SteveKingIA says he's unsure about the science of climate change. But you don’t need to be a scientist to take ac… https://t.co/J1CcrQZkB2</td>\n      <td>None</td>\n      <td>Steve King</td>\n      <td>None</td>\n      <td>None</td>\n      <td>None</td>\n    </tr>\n    <tr>\n      <th>1</th>\n      <td>2019-02-10 00:17:30</td>\n      <td>{'hashtags': [], 'user_mentions': [{'id_str': '16777464', 'name': 'Rob Oakeshott', 'screen_name': 'RobOakeshott1', 'indices': [3, 17], 'id': 16777464}], 'urls': [], 'symbols': []}</td>\n      <td>1.094332e+18</td>\n      <td>True</td>\n      <td>996782298</td>\n      <td>RT @RobOakeshott1: The National Party declares war on the Gloucester community because they stood up for themselves and won. Remember, the…</td>\n      <td>None</td>\n      <td>Rob Oakeshott</td>\n      <td>The National Party declares war on the Gloucester community because they stood up for themselves and won. Remember,… https://t.co/G0PqMIEUMV</td>\n      <td>1094332044052549633</td>\n      <td>The National Party declares war on the Gloucester community because they stood up for themselves and won. Remember,…</td>\n    </tr>\n    <tr>\n      <th>2</th>\n      <td>2019-02-10 00:17:26</td>\n      <td>{'hashtags': [], 'user_mentions': [{'id_str': '850130990706151428', 'name': 'Suze Michelini', 'screen_name': 'emilia_suze', 'indices': [3, 15], 'id': 850130990706151428}], 'urls': [{'indices': [105, 128], 'url': 'https://t.co/HWjCJGhQIx', 'display_url': 'twitter.com/LeoDiCaprio/st…', 'expanded_url': 'https://twitter.com/LeoDiCaprio/status/1093998640392220673'}], 'symbols': []}</td>\n      <td>1.094385e+18</td>\n      <td>True</td>\n      <td>45333453</td>\n      <td>RT @emilia_suze: This is the same idiot who thought\\nThe southern Alberta chinook was climate change lol. https://t.co/HWjCJGhQIx</td>\n      <td>None</td>\n      <td>Suze Michelini</td>\n      <td>This is the same idiot who thought\\nThe southern Alberta chinook was climate change lol. https://t.co/HWjCJGhQIx</td>\n      <td>1094384528267902977</td>\n      <td>This is the same idiot who thought.The southern Alberta chinook was climate change lol.</td>\n    </tr>\n    <tr>\n      <th>3</th>\n      <td>2019-02-10 00:17:24</td>\n      <td>{'hashtags': [], 'user_mentions': [{'id_str': '753005970318626816', 'name': 'Chad Vigorous', 'screen_name': 'PrettyBadLefty', 'indices': [3, 18], 'id': 753005970318626816}], 'urls': [], 'symbols': []}</td>\n      <td>1.094379e+18</td>\n      <td>True</td>\n      <td>1020067726532829185</td>\n      <td>RT @PrettyBadLefty: Communism is Fascism. Fighting Climate Change will Kill millions. Apparently, you're just allowed to say shit on MSNBC.…</td>\n      <td>None</td>\n      <td>Chad Vigorous</td>\n      <td>Communism is Fascism. Fighting Climate Change will Kill millions. Apparently, you're just allowed to say shit on MS… https://t.co/2asxrk5Fqd</td>\n      <td>1094379028608438272</td>\n      <td>Communism is Fascism. Fighting Climate Change will Kill millions. Apparently, you're just allowed to say shit on MS…</td>\n    </tr>\n    <tr>\n      <th>4</th>\n      <td>2019-02-10 00:17:23</td>\n      <td>{'hashtags': [], 'user_mentions': [{'id_str': '1634248890', 'name': 'Ken Klippenstein', 'screen_name': 'kenklippenstein', 'indices': [3, 19], 'id': 1634248890}], 'urls': [], 'symbols': []}</td>\n      <td>1.094312e+18</td>\n      <td>True</td>\n      <td>19889325</td>\n      <td>RT @kenklippenstein: Unmitigated climate change would literally destroy civilization but doing something about it might increase the defici…</td>\n      <td>None</td>\n      <td>Ken Klippenstein</td>\n      <td>Unmitigated climate change would literally destroy civilization but doing something about it might increase the def… https://t.co/1J7lLUkYyY</td>\n      <td>1094311957669265408</td>\n      <td>Unmitigated climate change would literally destroy civilization but doing something about it might increase the def…</td>\n    </tr>\n    <tr>\n      <th>...</th>\n      <td>...</td>\n      <td>...</td>\n      <td>...</td>\n      <td>...</td>\n      <td>...</td>\n      <td>...</td>\n      <td>...</td>\n      <td>...</td>\n      <td>...</td>\n      <td>...</td>\n      <td>...</td>\n    </tr>\n    <tr>\n      <th>9994</th>\n      <td>2019-02-09 20:57:54</td>\n      <td>{'hashtags': [], 'user_mentions': [{'id_str': '1073261955216039937', 'name': 'fromhello2hello', 'screen_name': 'fromhello2hello', 'indices': [3, 19], 'id': 1073261955216039937}], 'urls': [{'indices': [78, 101], 'url': 'https://t.co/P1X5jfuUQC', 'display_url': 'treehugger.com/climate-change…', 'expanded_url': 'https://www.treehugger.com/climate-change/72-americans-are-very-worried-about-climate-change.html'}], 'symbols': []}</td>\n      <td>1.094339e+18</td>\n      <td>True</td>\n      <td>888112320097918976</td>\n      <td>RT @fromhello2hello: 72% of Americans are 'very worried' about climate change https://t.co/P1X5jfuUQC</td>\n      <td>None</td>\n      <td>fromhello2hello</td>\n      <td>72% of Americans are 'very worried' about climate change https://t.co/P1X5jfuUQC</td>\n      <td>1094339317324017665</td>\n      <td>72% of Americans are 'very worried' about climate change</td>\n    </tr>\n    <tr>\n      <th>9995</th>\n      <td>2019-02-09 20:57:54</td>\n      <td>{'hashtags': [], 'user_mentions': [{'id_str': '1082006962995429383', 'name': 'stuntdaddy_42', 'screen_name': 'stuntdaddy_42', 'indices': [3, 17], 'id': 1082006962995429383}, {'id_str': '2497547378', 'name': 'Justice Faurall', 'screen_name': 'JFaurall', 'indices': [19, 28], 'id': 2497547378}, {'id_str': '3073664870', 'name': 'Michael Shelton', 'screen_name': 'MgBenchjeweler', 'indices': [29, 44], 'id': 3073664870}, {'id_str': '15764644', 'name': 'Nancy Pelosi', 'screen_name': 'SpeakerPelosi', 'indices': [45, 59], 'id': 15764644}], 'urls': [], 'symbols...</td>\n      <td>1.093607e+18</td>\n      <td>True</td>\n      <td>3324836714</td>\n      <td>RT @stuntdaddy_42: @JFaurall @MgBenchjeweler @SpeakerPelosi California was given hundreds of millions of dollars over the years to prevent…</td>\n      <td>None</td>\n      <td>stuntdaddy_42,Justice Faurall,Michael Shelton,Nancy Pelosi</td>\n      <td>@JFaurall @MgBenchjeweler @SpeakerPelosi California was given hundreds of millions of dollars over the years to pre… https://t.co/YsUdbuTHT3</td>\n      <td>1093607309606076416</td>\n      <td>California was given hundreds of millions of dollars over the years to pre…</td>\n    </tr>\n    <tr>\n      <th>9996</th>\n      <td>2019-02-09 20:57:53</td>\n      <td>{'hashtags': [], 'user_mentions': [{'id_str': '29442313', 'name': 'Bernie Sanders', 'screen_name': 'SenSanders', 'indices': [3, 14], 'id': 29442313}], 'urls': [], 'symbols': []}</td>\n      <td>1.094303e+18</td>\n      <td>True</td>\n      <td>1487109794</td>\n      <td>RT @SenSanders: President Trump believes we should listen to fossil fuel executives and ignore climate change. \\n\\nI believe we should listen…</td>\n      <td>None</td>\n      <td>Bernie Sanders</td>\n      <td>President Trump believes we should listen to fossil fuel executives and ignore climate change. \\n\\nI believe we shoul… https://t.co/2ewlaPQscF</td>\n      <td>1094303164805799936</td>\n      <td>President Trump believes we should listen to fossil fuel executives and ignore climate change. I believe we shoul…</td>\n    </tr>\n    <tr>\n      <th>9997</th>\n      <td>2019-02-09 20:57:51</td>\n      <td>{'hashtags': [], 'user_mentions': [{'id_str': '637196658', 'name': 'Kate Aronoff', 'screen_name': 'KateAronoff', 'indices': [3, 15], 'id': 637196658}], 'urls': [{'indices': [73, 96], 'url': 'https://t.co/P6znQNsbLH', 'display_url': 'twitter.com/business/statu…', 'expanded_url': 'https://twitter.com/business/status/1093893115633647616'}], 'symbols': []}</td>\n      <td>1.093997e+18</td>\n      <td>True</td>\n      <td>4737089913</td>\n      <td>RT @KateAronoff: Wait til he hears how much climate change is gonna cost https://t.co/P6znQNsbLH</td>\n      <td>None</td>\n      <td>Kate Aronoff</td>\n      <td>Wait til he hears how much climate change is gonna cost https://t.co/P6znQNsbLH</td>\n      <td>1093996855111966720</td>\n      <td>Wait til he hears how much climate change is gonna cost</td>\n    </tr>\n    <tr>\n      <th>9998</th>\n      <td>2019-02-09 20:57:51</td>\n      <td>{'hashtags': [], 'user_mentions': [{'id_str': '237845487', 'name': 'George Takei', 'screen_name': 'GeorgeTakei', 'indices': [3, 15], 'id': 237845487}], 'urls': [{'indices': [38, 61], 'url': 'https://t.co/hFLndZsiBB', 'display_url': 'po.st/P5AgAW', 'expanded_url': 'http://po.st/P5AgAW'}], 'symbols': []}</td>\n      <td>1.094335e+18</td>\n      <td>True</td>\n      <td>19444003</td>\n      <td>RT @GeorgeTakei: Blue marble no more? https://t.co/hFLndZsiBB</td>\n      <td>None</td>\n      <td>George Takei</td>\n      <td>Blue marble no more? https://t.co/hFLndZsiBB</td>\n      <td>1094335377194799104</td>\n      <td>Blue marble no more?</td>\n    </tr>\n  </tbody>\n</table>\n<p>9999 rows × 11 columns</p>\n</div>"
     },
     "execution_count": 193,
     "metadata": {},
     "output_type": "execute_result"
    }
   ],
   "source": [
    "# write code here\n",
    "import requests\n",
    "import re\n",
    "# need to replace \\n with . and take out user mentions and url links\n",
    "climate_feed_df2['FINAL_tweet_text'] = np.nan\n",
    "for i in range(len(climate_feed_df2['original_tweet_text'])):\n",
    "    original_string = str(climate_feed_df2['original_tweet_text'][i])\n",
    "    cleaned_string_1 = re.sub(\"@[A-Za-z0-9]+\",\"\", original_string)\n",
    "    cleaned_string_2 = re.sub(\"https?\\://\\S+\",\"\", cleaned_string_1)\n",
    "    cleaned_string_3 = re.sub(\"\\n\",\".\", cleaned_string_2)\n",
    "    cleaned_string_4 = re.sub(\"\\. \\.\\.\",\". \", cleaned_string_3)\n",
    "    cleaned_string_5 = re.sub(\"\\. \\.\",\".\", cleaned_string_4)\n",
    "    climate_feed_df2['FINAL_tweet_text'][i] = cleaned_string_5\n",
    "\n",
    "\n",
    "climate_feed_df2\n",
    "\n"
   ],
   "metadata": {
    "collapsed": false,
    "pycharm": {
     "name": "#%%\n"
    }
   }
  },
  {
   "cell_type": "code",
   "execution_count": 194,
   "outputs": [],
   "source": [
    "# re.findall(r'(https?://[^\\s]+)', climate_feed_df.text[0]) # finds the link for us to remove in loop\n",
    "# re.sub(r'RT \\S+ ?','',climate_feed_df.text[2])\n",
    "# re.sub(r'#\\w+ ?','',climate_feed_df.text[0])\n",
    "# re.sub(r'.@\\w+ ?','',climate_feed_df.text[0])\n",
    "# re.sub(r'(https?://[^\\s]+)','',climate_feed_df.text[2])\n",
    "\n",
    "# for i in range(len(climate_feed_df.text)):\n",
    "#     re.sub(r'RT \\S+ ?','', climate_feed_df['text'][i])\n",
    "#     re.sub(r'#\\w+ ?','',climate_feed_df.text[i])\n",
    "#     re.sub(r'.@\\w+ ?','',climate_feed_df.text[i])\n",
    "#     re.sub(r'(https?://[^\\s]+)','',climate_feed_df.text[i])"
   ],
   "metadata": {
    "collapsed": false,
    "pycharm": {
     "name": "#%%\n"
    }
   }
  },
  {
   "cell_type": "markdown",
   "metadata": {},
   "source": [
    "# Q 7 (2 point) Create a new attribute in climate_feed_df named *final_tweet_text*. If *original_tweet_text* is None  then use climate_feed_df.text otherwise use *original_text_tweet* if initial words matched with *climate_feed_df.text* words. If words doesn't match use climate_feed_df.text\n",
    "\n",
    "Note that some time after fetching text from a url based on retweeted_status_df.text, we may get different text. We can fix it but for this homework we are ignoring it."
   ]
  },
  {
   "cell_type": "code",
   "execution_count": 195,
   "metadata": {},
   "outputs": [
    {
     "data": {
      "text/plain": "0                                                                                                                        None\n1       The National Party declares war on the Gloucester community because they stood up for themselves and won. Remember,… \n2                                    This is the same idiot who thought.The southern Alberta chinook was climate change lol. \n3       Communism is Fascism. Fighting Climate Change will Kill millions. Apparently, you're just allowed to say shit on MS… \n4       Unmitigated climate change would literally destroy civilization but doing something about it might increase the def… \n                                                                ...                                                          \n9994                                                                72% of Americans are 'very worried' about climate change \n9995                                             California was given hundreds of millions of dollars over the years to pre… \n9996      President Trump believes we should listen to fossil fuel executives and ignore climate change. I believe we shoul… \n9997                                                                 Wait til he hears how much climate change is gonna cost \n9998                                                                                                    Blue marble no more? \nName: FINAL_tweet_text, Length: 9999, dtype: object"
     },
     "execution_count": 195,
     "metadata": {},
     "output_type": "execute_result"
    }
   ],
   "source": [
    "# wite code here\n",
    "climate_feed_df2['FINAL_tweet_text']\n"
   ]
  },
  {
   "cell_type": "markdown",
   "metadata": {},
   "source": [
    "# Emoji detection\n",
    "\n",
    "See this example of emoji as unicode characters"
   ]
  },
  {
   "cell_type": "code",
   "execution_count": 196,
   "metadata": {},
   "outputs": [],
   "source": [
    "# climate_feed_df['final_tweet_text'].loc[3931]"
   ]
  },
  {
   "cell_type": "markdown",
   "metadata": {},
   "source": [
    "We can use use regex to capture this emji\n",
    "\n",
    "https://apps.timwhitlock.info/emoji/tables/unicode\n"
   ]
  },
  {
   "cell_type": "code",
   "execution_count": 202,
   "metadata": {},
   "outputs": [
    {
     "data": {
      "text/plain": "re.compile(r'\\U0001F631', re.UNICODE)"
     },
     "execution_count": 202,
     "metadata": {},
     "output_type": "execute_result"
    }
   ],
   "source": [
    "emoji_regex = re.compile(r\"\\U0001F631\", re.UNICODE)"
   ]
  },
  {
   "cell_type": "code",
   "execution_count": 205,
   "metadata": {},
   "outputs": [
    {
     "data": {
      "text/plain": "[]"
     },
     "execution_count": 205,
     "metadata": {},
     "output_type": "execute_result"
    }
   ],
   "source": [
    "emoji_regex.findall(climate_feed_df2['FINAL_tweet_text'].loc[3934])"
   ]
  },
  {
   "cell_type": "markdown",
   "metadata": {},
   "source": [
    "We'll use emoji library to make this task easier.\n",
    "\n",
    "Here is some documentation about unicode support in python\n",
    "\n",
    "https://docs.python.org/3/howto/unicode.html"
   ]
  },
  {
   "cell_type": "code",
   "execution_count": null,
   "metadata": {},
   "outputs": [],
   "source": [
    "# ! pip install emoji"
   ]
  },
  {
   "cell_type": "code",
   "execution_count": 200,
   "metadata": {},
   "outputs": [],
   "source": [
    "import unicodedata\n",
    "import emoji"
   ]
  },
  {
   "cell_type": "code",
   "execution_count": 207,
   "metadata": {},
   "outputs": [],
   "source": [
    "# emoji.UNICODE_EMOJI"
   ]
  },
  {
   "cell_type": "markdown",
   "metadata": {},
   "source": [
    "# Q 8(1 point) Create a column  called *emoji*.  This coumns should contains a list of tuples for emoji detected in *final_tweet_text*. First element of tuple is the emoji detected and second is the text describing the emoji."
   ]
  },
  {
   "cell_type": "code",
   "execution_count": null,
   "metadata": {},
   "outputs": [],
   "source": [
    "# write code here\n",
    "climate_feed_df2['emoji'] = np.nan\n",
    "for i in range(len(climate_feed_df2['emoji'])):\n",
    "\n",
    "# pseudocode\n",
    "# for each row check climate_feed_df2['FINAL_tweet_text'] string for emoji's\n",
    "    # if an emoji is found\n",
    "        # look up unicode values description\n",
    "        # add unicode values description and emoji to a tuple\n",
    "        # append the tuple to a list\n",
    "\n",
    "\n",
    "\n",
    "\n",
    "\n"
   ]
  },
  {
   "cell_type": "markdown",
   "metadata": {},
   "source": [
    "# We'll use wordcloud  to do elemetary exploratory data analysis(EDA). We'll do some cleanup before using wordcloud.\n",
    "\n",
    "https://github.com/amueller/word_cloud"
   ]
  },
  {
   "cell_type": "code",
   "execution_count": null,
   "metadata": {},
   "outputs": [],
   "source": [
    "# !pip install wordcloud"
   ]
  },
  {
   "cell_type": "code",
   "execution_count": null,
   "metadata": {},
   "outputs": [],
   "source": [
    "from wordcloud import WordCloud\n",
    "import matplotlib.pyplot as plt"
   ]
  },
  {
   "cell_type": "code",
   "execution_count": null,
   "metadata": {},
   "outputs": [],
   "source": [
    "%matplotlib inline"
   ]
  },
  {
   "cell_type": "code",
   "execution_count": null,
   "metadata": {},
   "outputs": [],
   "source": [
    "# here is a sample\n",
    "text = \"climate change. Climate is always changing. Human activity also affects climate through changes in the number and physical properties of tiny solid particles and liquid droplets in the atmosphere, known collectively as atmospheric aerosols\"\n",
    "wordcloud = WordCloud().generate(text)\n",
    "\n",
    "# Display the generated image:\n",
    "# the matplotlib way:\n",
    "import matplotlib.pyplot as plt\n",
    "plt.imshow(wordcloud, interpolation='bilinear')\n",
    "plt.axis(\"off\")\n",
    "\n",
    "\n",
    "plt.show()"
   ]
  },
  {
   "cell_type": "markdown",
   "metadata": {},
   "source": [
    "As you can see word size is proportional to frequency of a word and highlight the main keywords in a text.\n",
    "This gives an idea about the content of the  text."
   ]
  },
  {
   "cell_type": "markdown",
   "metadata": {},
   "source": [
    "We can do all the text pre processing or wrangling\n",
    " like \n",
    "\n",
    "- More Cleaning\n",
    "- Case conversion\n",
    "- Spell correction\n",
    "- Expanding contractions\n",
    "- Removing stop words\n",
    "- Morphological normalization\n",
    "    - Stemming\n",
    "    - Lemmatization\n",
    "\n",
    "\n",
    "But for this homework we'll only **do expanding contractions,  stop words removal,  and lemmatization**"
   ]
  },
  {
   "cell_type": "markdown",
   "metadata": {},
   "source": [
    "# Q 9 (2 = .5+.5+.5+.5 points) Do\n",
    "- expanding contractions\n",
    "- stop words removal\n",
    "- lemmatization\n",
    "- Use wordcloud to visualize keywords"
   ]
  },
  {
   "cell_type": "code",
   "execution_count": null,
   "metadata": {},
   "outputs": [],
   "source": [
    "# write code here\n",
    "# I have include a sample ooutput. Your output can be different"
   ]
  },
  {
   "cell_type": "markdown",
   "metadata": {},
   "source": [
    "# Homework ends\n",
    "# Final thoughts\n",
    "He haven't done all the cleanup or used all the attributes for EDA.I just want to highlight one more clean up activity related to language."
   ]
  },
  {
   "cell_type": "code",
   "execution_count": null,
   "metadata": {},
   "outputs": [],
   "source": [
    "import enchant"
   ]
  },
  {
   "cell_type": "code",
   "execution_count": null,
   "metadata": {},
   "outputs": [],
   "source": [
    "# dictionary = enchant.Dict('en')"
   ]
  },
  {
   "cell_type": "code",
   "execution_count": null,
   "metadata": {},
   "outputs": [],
   "source": [
    "# climate_feed_df['text'].loc[5217]"
   ]
  },
  {
   "cell_type": "code",
   "execution_count": null,
   "metadata": {},
   "outputs": [],
   "source": [
    "# [dictionary.check(w) for w in  nltk.word_tokenize(climate_feed_df['text'].loc[5217])]"
   ]
  }
 ],
 "metadata": {
  "kernelspec": {
   "display_name": "Python 3",
   "language": "python",
   "name": "python3"
  },
  "language_info": {
   "codemirror_mode": {
    "name": "ipython",
    "version": 3
   },
   "file_extension": ".py",
   "mimetype": "text/x-python",
   "name": "python",
   "nbconvert_exporter": "python",
   "pygments_lexer": "ipython3",
   "version": "3.5.2"
  },
  "toc": {
   "base_numbering": 1,
   "nav_menu": {},
   "number_sections": false,
   "sideBar": true,
   "skip_h1_title": false,
   "title_cell": "Table of Contents",
   "title_sidebar": "Contents",
   "toc_cell": false,
   "toc_position": {},
   "toc_section_display": true,
   "toc_window_display": false
  },
  "varInspector": {
   "cols": {
    "lenName": 16,
    "lenType": 16,
    "lenVar": 40
   },
   "kernels_config": {
    "python": {
     "delete_cmd_postfix": "",
     "delete_cmd_prefix": "del ",
     "library": "var_list.py",
     "varRefreshCmd": "print(var_dic_list())"
    },
    "r": {
     "delete_cmd_postfix": ") ",
     "delete_cmd_prefix": "rm(",
     "library": "var_list.r",
     "varRefreshCmd": "cat(var_dic_list()) "
    }
   },
   "types_to_exclude": [
    "module",
    "function",
    "builtin_function_or_method",
    "instance",
    "_Feature"
   ],
   "window_display": false
  },
  "pycharm": {
   "stem_cell": {
    "cell_type": "raw",
    "source": [
     "##\n",
     "\n"
    ],
    "metadata": {
     "collapsed": false
    }
   }
  }
 },
 "nbformat": 4,
 "nbformat_minor": 2
}