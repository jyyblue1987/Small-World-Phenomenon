{
 "cells": [
  {
   "cell_type": "markdown",
   "metadata": {},
   "source": [
    "# Total points 8"
   ]
  },
  {
   "cell_type": "markdown",
   "metadata": {},
   "source": [
    "# In  the homework\n",
    "- We'll collect climate change related tweet from twitter using REST API\n",
    "- Use tweets to populate Pandas DataFrames\n",
    "- Perform some elementary pandas operation to check data sanity\n",
    "\n",
    "\n",
    "**Please read**\n",
    "\n",
    "- https://developer.twitter.com/en/developer-terms/more-on-restricted-use-cases\n"
   ]
  },
  {
   "cell_type": "markdown",
   "metadata": {},
   "source": [
    "Before proceeding with homework.\n",
    "\n",
    "<font size=\"6\" color='red'> Create new app at https://apps.twitter.com/app/new  (You may have to create twitter account before this) </font>\n",
    "\n",
    "\n",
    "\n"
   ]
  },
  {
   "cell_type": "markdown",
   "metadata": {},
   "source": [
    "[twitter api reference index](https://developer.twitter.com/en/docs/api-reference-index)\n",
    "\n",
    "\n",
    "# POST oauth2/token\n",
    "Allows a registered application to obtain an OAuth 2 Bearer Token, which can be used to make API requests on an application's own behalf, without a user context.\n",
    "https://developer.twitter.com/en/docs/basics/authentication/api-reference/token\n"
   ]
  },
  {
   "cell_type": "markdown",
   "metadata": {},
   "source": [
    "Once you have create app, click on app details and keys and token tab\n",
    "\n",
    "<font size=\"6\" color='red'> write API key value for client_key and API secret key value for client_secret in the next cell</font>"
   ]
  },
  {
   "cell_type": "code",
   "execution_count": 18,
   "metadata": {},
   "outputs": [],
   "source": [
    "client_key = \"07lNqp0ASKOgdIMZRfBqpQCVX\"\n",
    "client_secret =  \"xHGkpLl4FeNHTZeSnE3SicPRwzz963U4V3pcq6P379szrnVSCQ\""
   ]
  },
  {
   "cell_type": "code",
   "execution_count": 19,
   "metadata": {},
   "outputs": [],
   "source": [
    "import requests\n",
    "import base64\n",
    "\n",
    "key_secret = '{}:{}'.format(client_key, client_secret).encode('ascii')\n",
    "b64_encoded_key = base64.b64encode(key_secret)\n",
    "b64_encoded_key = b64_encoded_key.decode('ascii')"
   ]
  },
  {
   "cell_type": "code",
   "execution_count": 21,
   "metadata": {},
   "outputs": [],
   "source": [
    "base_url = 'https://api.twitter.com/'\n",
    "auth_endpoint = base_url+'oauth2/token'\n",
    "\n",
    "auth_headers = { 'Authorization': 'Basic {}'.format(b64_encoded_key),\n",
    "                'Content-Type': 'application/x-www-form-urlencoded;charset=UTF-8'}\n",
    "\n",
    "auth_data = { 'grant_type': 'client_credentials'}\n",
    "\n"
   ]
  },
  {
   "cell_type": "markdown",
   "metadata": {},
   "source": [
    "Let's post to authentication endpoint and get the token to be used in subsequent REST API call"
   ]
  },
  {
   "cell_type": "code",
   "execution_count": 22,
   "metadata": {},
   "outputs": [
    {
     "data": {
      "text/plain": "200"
     },
     "execution_count": 22,
     "metadata": {},
     "output_type": "execute_result"
    }
   ],
   "source": [
    "response = requests.post(auth_endpoint, headers=auth_headers, data=auth_data)\n",
    "response.status_code"
   ]
  },
  {
   "cell_type": "code",
   "execution_count": 23,
   "metadata": {},
   "outputs": [
    {
     "data": {
      "text/plain": "{'token_type': 'bearer',\n 'access_token': 'AAAAAAAAAAAAAAAAAAAAAD%2BwOwEAAAAAweZdiz04nmUssrg7%2BTLJhWxI4ZE%3DjC9zsF6kmOgZQyZdinmBvAHNkNzZ6kc5coTCG9gwkJRrbajAKA'}"
     },
     "execution_count": 23,
     "metadata": {},
     "output_type": "execute_result"
    }
   ],
   "source": [
    "json_data =  response.json()\n",
    "json_data"
   ]
  },
  {
   "cell_type": "code",
   "execution_count": 24,
   "metadata": {},
   "outputs": [],
   "source": [
    "access_token = json_data['access_token']"
   ]
  },
  {
   "cell_type": "markdown",
   "metadata": {},
   "source": [
    "# Let's do some search on climate change\n",
    "This is how we got search endpoint\n",
    "\n",
    "https://developer.twitter.com/en/docs/tweets/search/api-reference/get-search-tweets"
   ]
  },
  {
   "cell_type": "code",
   "execution_count": 25,
   "metadata": {},
   "outputs": [],
   "source": [
    "max_tweets=10000\n",
    "tw_limit=100# we can get only 100 tweet per call with standard search api\n",
    "tweets = []"
   ]
  },
  {
   "cell_type": "code",
   "execution_count": 26,
   "metadata": {},
   "outputs": [],
   "source": [
    "search_headers = {'Authorization': 'Bearer {}'.format(access_token)    \n",
    "}\n",
    "\n",
    "parameters = { 'q': 'climate change',\n",
    "                    'result_type': 'recent',\n",
    "                'count': 100 }\n",
    "\n",
    "search_url = base_url+'1.1/search/tweets.json'\n",
    "\n",
    "response = requests.get(search_url, headers=search_headers, params=parameters)"
   ]
  },
  {
   "cell_type": "code",
   "execution_count": 27,
   "metadata": {
    "scrolled": true
   },
   "outputs": [],
   "source": [
    "climate_tweets = response.json()\n"
   ]
  },
  {
   "cell_type": "code",
   "execution_count": 28,
   "metadata": {},
   "outputs": [
    {
     "data": {
      "text/plain": "100"
     },
     "execution_count": 28,
     "metadata": {},
     "output_type": "execute_result"
    }
   ],
   "source": [
    "len(climate_tweets['statuses'])"
   ]
  },
  {
   "cell_type": "code",
   "execution_count": 29,
   "metadata": {},
   "outputs": [],
   "source": [
    "tweets +=climate_tweets['statuses']\n"
   ]
  },
  {
   "cell_type": "code",
   "execution_count": 31,
   "metadata": {},
   "outputs": [],
   "source": [
    "\n",
    "ids = [tw['id'] for tw in climate_tweets['statuses']]\n",
    "    "
   ]
  },
  {
   "cell_type": "code",
   "execution_count": 33,
   "metadata": {},
   "outputs": [
    {
     "data": {
      "text/plain": "1386523082211291142"
     },
     "execution_count": 33,
     "metadata": {},
     "output_type": "execute_result"
    }
   ],
   "source": [
    "min_id = min(ids)\n",
    "min_id"
   ]
  },
  {
   "cell_type": "code",
   "execution_count": 34,
   "metadata": {},
   "outputs": [],
   "source": [
    "tw_ids = []\n",
    "tw_ids+=ids"
   ]
  },
  {
   "cell_type": "markdown",
   "metadata": {},
   "source": [
    "As per twitter api documentation we can use\n",
    "\n",
    "max_id:Returns results with an ID less than (that is, older than) or equal to the specified ID.\n",
    "\n",
    "to get older tweets"
   ]
  },
  {
   "cell_type": "markdown",
   "metadata": {},
   "source": [
    "# Q1 (.5 points) Modify only *parameters* dictionary in the following code so that subsequent call to climate change search returns older tweets with id less than minimum of previous tweets ids."
   ]
  },
  {
   "cell_type": "code",
   "execution_count": 35,
   "metadata": {},
   "outputs": [
    {
     "name": "stdout",
     "output_type": "stream",
     "text": [
      "searching tweets with id  < 1386523082211291142\n",
      "0 100\n",
      "searching tweets with id  < 1386525160824528897\n",
      "1 100\n",
      "searching tweets with id  < 1386525160824528897\n",
      "2 100\n",
      "searching tweets with id  < 1386525160824528897\n",
      "3 100\n",
      "searching tweets with id  < 1386525163529768965\n",
      "4 100\n",
      "searching tweets with id  < 1386525163529768965\n",
      "5 100\n",
      "searching tweets with id  < 1386525163529768965\n",
      "6 100\n",
      "searching tweets with id  < 1386525163529768965\n",
      "7 100\n",
      "searching tweets with id  < 1386525163529768965\n",
      "8 100\n",
      "searching tweets with id  < 1386525165761310720\n",
      "9 100\n",
      "searching tweets with id  < 1386525165761310720\n",
      "10 100\n",
      "searching tweets with id  < 1386525165761310720\n",
      "11 100\n",
      "searching tweets with id  < 1386525165761310720\n",
      "12 100\n",
      "searching tweets with id  < 1386525165761310720\n",
      "13 100\n",
      "searching tweets with id  < 1386525165761310720\n",
      "14 100\n",
      "searching tweets with id  < 1386525165761310720\n",
      "15 100\n",
      "searching tweets with id  < 1386525165761310720\n",
      "16 100\n",
      "searching tweets with id  < 1386525165761310720\n",
      "17 100\n",
      "searching tweets with id  < 1386525165912137730\n",
      "18 100\n",
      "searching tweets with id  < 1386525165912137730\n",
      "19 100\n",
      "searching tweets with id  < 1386525165912137730\n",
      "20 100\n",
      "searching tweets with id  < 1386525165912137730\n",
      "21 100\n",
      "searching tweets with id  < 1386525165912137730\n",
      "22 100\n",
      "searching tweets with id  < 1386525165912137730\n",
      "23 100\n",
      "searching tweets with id  < 1386525165912137730\n",
      "24 100\n",
      "searching tweets with id  < 1386525176318156801\n",
      "25 100\n",
      "searching tweets with id  < 1386525176318156801\n",
      "26 100\n",
      "searching tweets with id  < 1386525176318156801\n",
      "27 100\n",
      "searching tweets with id  < 1386525176318156801\n",
      "28 100\n",
      "searching tweets with id  < 1386525176318156801\n",
      "29 100\n",
      "searching tweets with id  < 1386525176318156801\n",
      "30 100\n",
      "searching tweets with id  < 1386525176318156801\n",
      "31 100\n",
      "searching tweets with id  < 1386525200360038401\n",
      "32 100\n",
      "searching tweets with id  < 1386525200360038401\n",
      "33 100\n",
      "searching tweets with id  < 1386525200360038401\n",
      "34 100\n",
      "searching tweets with id  < 1386525209633509378\n",
      "35 100\n",
      "searching tweets with id  < 1386525209633509378\n",
      "36 100\n",
      "searching tweets with id  < 1386525209633509378\n",
      "37 100\n",
      "searching tweets with id  < 1386525209633509378\n",
      "38 100\n",
      "searching tweets with id  < 1386525209633509378\n",
      "39 100\n",
      "searching tweets with id  < 1386525209633509378\n",
      "40 100\n",
      "searching tweets with id  < 1386525209633509378\n",
      "41 100\n",
      "searching tweets with id  < 1386525209633509378\n",
      "42 100\n",
      "searching tweets with id  < 1386525209633509378\n",
      "43 100\n",
      "searching tweets with id  < 1386525209633509378\n",
      "44 100\n",
      "searching tweets with id  < 1386525211651149825\n",
      "45 100\n",
      "searching tweets with id  < 1386525211651149825\n",
      "46 100\n",
      "searching tweets with id  < 1386525211651149825\n",
      "47 100\n",
      "searching tweets with id  < 1386525211651149825\n",
      "48 100\n",
      "searching tweets with id  < 1386525211651149825\n",
      "49 100\n",
      "searching tweets with id  < 1386525219108671489\n",
      "50 100\n",
      "searching tweets with id  < 1386525219108671489\n",
      "51 100\n",
      "searching tweets with id  < 1386525219108671489\n",
      "52 100\n",
      "searching tweets with id  < 1386525219108671489\n",
      "53 100\n",
      "searching tweets with id  < 1386525219108671489\n",
      "54 100\n",
      "searching tweets with id  < 1386525219108671489\n",
      "55 100\n",
      "searching tweets with id  < 1386525219108671489\n",
      "56 100\n",
      "searching tweets with id  < 1386525219108671489\n",
      "57 100\n",
      "searching tweets with id  < 1386525219108671489\n",
      "58 100\n",
      "searching tweets with id  < 1386525228344385538\n",
      "59 100\n",
      "searching tweets with id  < 1386525228344385538\n",
      "60 100\n",
      "searching tweets with id  < 1386525228344385538\n",
      "61 100\n",
      "searching tweets with id  < 1386525249441779713\n",
      "62 100\n",
      "searching tweets with id  < 1386525249441779713\n",
      "63 100\n",
      "searching tweets with id  < 1386525249441779713\n",
      "64 100\n",
      "searching tweets with id  < 1386525249441779713\n",
      "65 100\n",
      "searching tweets with id  < 1386525249441779713\n",
      "66 100\n",
      "searching tweets with id  < 1386525249441779713\n",
      "67 100\n",
      "searching tweets with id  < 1386525249441779713\n",
      "68 100\n",
      "searching tweets with id  < 1386525249441779713\n",
      "69 100\n",
      "searching tweets with id  < 1386525249441779713\n",
      "70 100\n",
      "searching tweets with id  < 1386525249441779713\n",
      "71 100\n",
      "searching tweets with id  < 1386525251698266113\n",
      "72 100\n",
      "searching tweets with id  < 1386525251698266113\n",
      "73 100\n",
      "searching tweets with id  < 1386525262473355266\n",
      "74 100\n",
      "searching tweets with id  < 1386525262473355266\n",
      "75 100\n",
      "searching tweets with id  < 1386525262473355266\n",
      "76 100\n",
      "searching tweets with id  < 1386525262473355266\n",
      "77 100\n",
      "searching tweets with id  < 1386525262473355266\n",
      "78 100\n",
      "searching tweets with id  < 1386525262473355266\n",
      "79 100\n",
      "searching tweets with id  < 1386525262473355266\n",
      "80 100\n",
      "searching tweets with id  < 1386525262473355266\n",
      "81 100\n",
      "searching tweets with id  < 1386525262473355266\n",
      "82 100\n",
      "searching tweets with id  < 1386525268341231619\n",
      "83 100\n",
      "searching tweets with id  < 1386525268341231619\n",
      "84 100\n",
      "searching tweets with id  < 1386525268341231619\n",
      "85 100\n",
      "searching tweets with id  < 1386525268341231619\n",
      "86 100\n",
      "searching tweets with id  < 1386525268341231619\n",
      "87 100\n",
      "searching tweets with id  < 1386525268341231619\n",
      "88 100\n",
      "searching tweets with id  < 1386525268341231619\n",
      "89 100\n",
      "searching tweets with id  < 1386525268341231619\n",
      "90 100\n",
      "searching tweets with id  < 1386525268341231619\n",
      "91 100\n",
      "searching tweets with id  < 1386525268341231619\n",
      "92 100\n",
      "searching tweets with id  < 1386525268341231619\n",
      "93 100\n",
      "searching tweets with id  < 1386525268341231619\n",
      "94 100\n",
      "searching tweets with id  < 1386525268341231619\n",
      "95 100\n",
      "searching tweets with id  < 1386525268341231619\n",
      "96 100\n",
      "searching tweets with id  < 1386525268341231619\n",
      "97 100\n",
      "searching tweets with id  < 1386525268341231619\n",
      "98 100\n"
     ]
    }
   ],
   "source": [
    "for  i in range(max_tweets//tw_limit -1):\n",
    "    parameters = { 'q': 'climate change',\n",
    "                    'result_type': 'older',\n",
    "                'count': tw_limit\n",
    "                 }\n",
    "    print(\"searching tweets with id  < {}\".format(min_id))\n",
    "    search_url = base_url+'1.1/search/tweets.json'\n",
    "    response = requests.get(search_url, headers=search_headers, params=parameters)\n",
    "    climate_tweets = response.json()\n",
    "    ids = [tw['id'] for tw in climate_tweets['statuses']]\n",
    "    tw_ids+=ids\n",
    "    print(i, len(climate_tweets['statuses']))\n",
    "    min_id = min(ids)\n",
    "    tweets +=climate_tweets['statuses']"
   ]
  },
  {
   "cell_type": "code",
   "execution_count": 36,
   "metadata": {},
   "outputs": [
    {
     "name": "stdout",
     "output_type": "stream",
     "text": [
      "Total tweets retrieved= 10000\n"
     ]
    }
   ],
   "source": [
    "print('Total tweets retrieved= {}'.format(len(tweets)))"
   ]
  },
  {
   "cell_type": "markdown",
   "metadata": {},
   "source": [
    "# Let's print some tweets"
   ]
  },
  {
   "cell_type": "code",
   "execution_count": 37,
   "metadata": {},
   "outputs": [],
   "source": [
    "import pprint #pretty-print” arbitrary Python data structures. Tweets object has hierarchical struture\n",
    "max_tweet_to_print=4"
   ]
  },
  {
   "cell_type": "code",
   "execution_count": 40,
   "metadata": {},
   "outputs": [
    {
     "name": "stdout",
     "output_type": "stream",
     "text": [
      "[{'contributors': None,\n",
      "  'coordinates': None,\n",
      "  'created_at': 'Mon Apr 26 03:35:15 +0000 2021',\n",
      "  'entities': {'hashtags': [],\n",
      "               'symbols': [],\n",
      "               'urls': [],\n",
      "               'user_mentions': [{'id': 960342180282839041,\n",
      "                                  'id_str': '960342180282839041',\n",
      "                                  'indices': [3, 13],\n",
      "                                  'name': 'Elaine Johnson',\n",
      "                                  'screen_name': 'ElaineEDO'}]},\n",
      "  'favorite_count': 0,\n",
      "  'favorited': False,\n",
      "  'geo': None,\n",
      "  'id': 1386524248873652226,\n",
      "  'id_str': '1386524248873652226',\n",
      "  'in_reply_to_screen_name': None,\n",
      "  'in_reply_to_status_id': None,\n",
      "  'in_reply_to_status_id_str': None,\n",
      "  'in_reply_to_user_id': None,\n",
      "  'in_reply_to_user_id_str': None,\n",
      "  'is_quote_status': False,\n",
      "  'lang': 'en',\n",
      "  'metadata': {'iso_language_code': 'en', 'result_type': 'recent'},\n",
      "  'place': None,\n",
      "  'retweet_count': 12,\n",
      "  'retweeted': False,\n",
      "  'retweeted_status': {'contributors': None,\n",
      "                       'coordinates': None,\n",
      "                       'created_at': 'Mon Apr 26 03:20:22 +0000 2021',\n",
      "                       'entities': {'hashtags': [],\n",
      "                                    'symbols': [],\n",
      "                                    'urls': [{'display_url': 'twitter.com/i/web/status/1…',\n",
      "                                              'expanded_url': 'https://twitter.com/i/web/status/1386520502500433927',\n",
      "                                              'indices': [117, 140],\n",
      "                                              'url': 'https://t.co/sUwQzNcuNl'}],\n",
      "                                    'user_mentions': []},\n",
      "                       'favorite_count': 6,\n",
      "                       'favorited': False,\n",
      "                       'geo': None,\n",
      "                       'id': 1386520502500433927,\n",
      "                       'id_str': '1386520502500433927',\n",
      "                       'in_reply_to_screen_name': None,\n",
      "                       'in_reply_to_status_id': None,\n",
      "                       'in_reply_to_status_id_str': None,\n",
      "                       'in_reply_to_user_id': None,\n",
      "                       'in_reply_to_user_id_str': None,\n",
      "                       'is_quote_status': False,\n",
      "                       'lang': 'en',\n",
      "                       'metadata': {'iso_language_code': 'en',\n",
      "                                    'result_type': 'recent'},\n",
      "                       'place': None,\n",
      "                       'possibly_sensitive': False,\n",
      "                       'retweet_count': 12,\n",
      "                       'retweeted': False,\n",
      "                       'source': '<a href=\"http://twitter.com/download/iphone\" '\n",
      "                                 'rel=\"nofollow\">Twitter for iPhone</a>',\n",
      "                       'text': '“Fossil fuel subsidies have cost state, '\n",
      "                               'territory and federal budgets $10.3 billion '\n",
      "                               'over the past financial year, o… '\n",
      "                               'https://t.co/sUwQzNcuNl',\n",
      "                       'truncated': True,\n",
      "                       'user': {'contributors_enabled': False,\n",
      "                                'created_at': 'Mon Feb 05 02:39:52 +0000 2018',\n",
      "                                'default_profile': True,\n",
      "                                'default_profile_image': False,\n",
      "                                'description': 'Director, Legal Strategy '\n",
      "                                               '@EDOLawyers. Working in '\n",
      "                                               'pursuit of a world where '\n",
      "                                               'nature thrives. '\n",
      "                                               '#RockyHillLitigation '\n",
      "                                               '#FightForTheBight '\n",
      "                                               '#EmpowerTheEPA #ManyanaMatters',\n",
      "                                'entities': {'description': {'urls': []},\n",
      "                                             'url': {'urls': [{'display_url': 'edo.org.au',\n",
      "                                                               'expanded_url': 'http://www.edo.org.au',\n",
      "                                                               'indices': [0,\n",
      "                                                                           23],\n",
      "                                                               'url': 'https://t.co/btwC7B8IXE'}]}},\n",
      "                                'favourites_count': 29066,\n",
      "                                'follow_request_sent': None,\n",
      "                                'followers_count': 8431,\n",
      "                                'following': None,\n",
      "                                'friends_count': 8254,\n",
      "                                'geo_enabled': True,\n",
      "                                'has_extended_profile': False,\n",
      "                                'id': 960342180282839041,\n",
      "                                'id_str': '960342180282839041',\n",
      "                                'is_translation_enabled': False,\n",
      "                                'is_translator': False,\n",
      "                                'lang': None,\n",
      "                                'listed_count': 65,\n",
      "                                'location': 'New South Wales, Australia',\n",
      "                                'name': 'Elaine Johnson',\n",
      "                                'notifications': None,\n",
      "                                'profile_background_color': 'F5F8FA',\n",
      "                                'profile_background_image_url': None,\n",
      "                                'profile_background_image_url_https': None,\n",
      "                                'profile_background_tile': False,\n",
      "                                'profile_banner_url': 'https://pbs.twimg.com/profile_banners/960342180282839041/1534004017',\n",
      "                                'profile_image_url': 'http://pbs.twimg.com/profile_images/960343777075347456/6CLVRnTo_normal.jpg',\n",
      "                                'profile_image_url_https': 'https://pbs.twimg.com/profile_images/960343777075347456/6CLVRnTo_normal.jpg',\n",
      "                                'profile_link_color': '1DA1F2',\n",
      "                                'profile_sidebar_border_color': 'C0DEED',\n",
      "                                'profile_sidebar_fill_color': 'DDEEF6',\n",
      "                                'profile_text_color': '333333',\n",
      "                                'profile_use_background_image': True,\n",
      "                                'protected': False,\n",
      "                                'screen_name': 'ElaineEDO',\n",
      "                                'statuses_count': 18985,\n",
      "                                'time_zone': None,\n",
      "                                'translator_type': 'none',\n",
      "                                'url': 'https://t.co/btwC7B8IXE',\n",
      "                                'utc_offset': None,\n",
      "                                'verified': False}},\n",
      "  'source': '<a href=\"http://twitter.com/download/iphone\" '\n",
      "            'rel=\"nofollow\">Twitter for iPhone</a>',\n",
      "  'text': 'RT @ElaineEDO: “Fossil fuel subsidies have cost state, territory '\n",
      "          'and federal budgets $10.3 billion over the past financial year, or '\n",
      "          '$19,686…',\n",
      "  'truncated': False,\n",
      "  'user': {'contributors_enabled': False,\n",
      "           'created_at': 'Thu Aug 02 04:25:41 +0000 2018',\n",
      "           'default_profile': True,\n",
      "           'default_profile_image': True,\n",
      "           'description': 'I’m retired, like to spend some time on twitter '\n",
      "                          'each day, like to hear opinion of others. I’m a '\n",
      "                          'Labour supporter. pretty boring really.',\n",
      "           'entities': {'description': {'urls': []}},\n",
      "           'favourites_count': 118935,\n",
      "           'follow_request_sent': None,\n",
      "           'followers_count': 818,\n",
      "           'following': None,\n",
      "           'friends_count': 613,\n",
      "           'geo_enabled': False,\n",
      "           'has_extended_profile': True,\n",
      "           'id': 1024873850347999232,\n",
      "           'id_str': '1024873850347999232',\n",
      "           'is_translation_enabled': False,\n",
      "           'is_translator': False,\n",
      "           'lang': None,\n",
      "           'listed_count': 0,\n",
      "           'location': 'Western Australia, Australia',\n",
      "           'name': 'Margaret Hayes',\n",
      "           'notifications': None,\n",
      "           'profile_background_color': 'F5F8FA',\n",
      "           'profile_background_image_url': None,\n",
      "           'profile_background_image_url_https': None,\n",
      "           'profile_background_tile': False,\n",
      "           'profile_banner_url': 'https://pbs.twimg.com/profile_banners/1024873850347999232/1578142407',\n",
      "           'profile_image_url': 'http://abs.twimg.com/sticky/default_profile_images/default_profile_normal.png',\n",
      "           'profile_image_url_https': 'https://abs.twimg.com/sticky/default_profile_images/default_profile_normal.png',\n",
      "           'profile_link_color': '1DA1F2',\n",
      "           'profile_sidebar_border_color': 'C0DEED',\n",
      "           'profile_sidebar_fill_color': 'DDEEF6',\n",
      "           'profile_text_color': '333333',\n",
      "           'profile_use_background_image': True,\n",
      "           'protected': False,\n",
      "           'screen_name': 'Margare37237673',\n",
      "           'statuses_count': 129244,\n",
      "           'time_zone': None,\n",
      "           'translator_type': 'none',\n",
      "           'url': None,\n",
      "           'utc_offset': None,\n",
      "           'verified': False}},\n",
      " {'contributors': None,\n",
      "  'coordinates': None,\n",
      "  'created_at': 'Mon Apr 26 03:35:15 +0000 2021',\n",
      "  'entities': {'hashtags': [],\n",
      "               'symbols': [],\n",
      "               'urls': [],\n",
      "               'user_mentions': [{'id': 19084455,\n",
      "                                  'id_str': '19084455',\n",
      "                                  'indices': [3, 10],\n",
      "                                  'name': 'Steve Zara.',\n",
      "                                  'screen_name': 'sjzara'},\n",
      "                                 {'id': 956250134786002944,\n",
      "                                  'id_str': '956250134786002944',\n",
      "                                  'indices': [12, 23],\n",
      "                                  'name': 'Ben See',\n",
      "                                  'screen_name': 'ClimateBen'}]},\n",
      "  'favorite_count': 0,\n",
      "  'favorited': False,\n",
      "  'geo': None,\n",
      "  'id': 1386524247661719555,\n",
      "  'id_str': '1386524247661719555',\n",
      "  'in_reply_to_screen_name': None,\n",
      "  'in_reply_to_status_id': None,\n",
      "  'in_reply_to_status_id_str': None,\n",
      "  'in_reply_to_user_id': None,\n",
      "  'in_reply_to_user_id_str': None,\n",
      "  'is_quote_status': False,\n",
      "  'lang': 'en',\n",
      "  'metadata': {'iso_language_code': 'en', 'result_type': 'recent'},\n",
      "  'place': None,\n",
      "  'retweet_count': 1,\n",
      "  'retweeted': False,\n",
      "  'retweeted_status': {'contributors': None,\n",
      "                       'coordinates': None,\n",
      "                       'created_at': 'Sun Apr 25 22:35:20 +0000 2021',\n",
      "                       'entities': {'hashtags': [],\n",
      "                                    'symbols': [],\n",
      "                                    'urls': [{'display_url': 'twitter.com/i/web/status/1…',\n",
      "                                              'expanded_url': 'https://twitter.com/i/web/status/1386448768531320841',\n",
      "                                              'indices': [116, 139],\n",
      "                                              'url': 'https://t.co/mmSZTLGMHR'}],\n",
      "                                    'user_mentions': [{'id': 956250134786002944,\n",
      "                                                       'id_str': '956250134786002944',\n",
      "                                                       'indices': [0, 11],\n",
      "                                                       'name': 'Ben See',\n",
      "                                                       'screen_name': 'ClimateBen'}]},\n",
      "                       'favorite_count': 2,\n",
      "                       'favorited': False,\n",
      "                       'geo': None,\n",
      "                       'id': 1386448768531320841,\n",
      "                       'id_str': '1386448768531320841',\n",
      "                       'in_reply_to_screen_name': 'ClimateBen',\n",
      "                       'in_reply_to_status_id': 1386042740136349700,\n",
      "                       'in_reply_to_status_id_str': '1386042740136349700',\n",
      "                       'in_reply_to_user_id': 956250134786002944,\n",
      "                       'in_reply_to_user_id_str': '956250134786002944',\n",
      "                       'is_quote_status': False,\n",
      "                       'lang': 'en',\n",
      "                       'metadata': {'iso_language_code': 'en',\n",
      "                                    'result_type': 'recent'},\n",
      "                       'place': None,\n",
      "                       'retweet_count': 1,\n",
      "                       'retweeted': False,\n",
      "                       'source': '<a href=\"http://twitter.com/download/iphone\" '\n",
      "                                 'rel=\"nofollow\">Twitter for iPhone</a>',\n",
      "                       'text': '@ClimateBen I’m passionate about dealing with '\n",
      "                               'climate change, and I have been following the '\n",
      "                               'science.  I just can’t… '\n",
      "                               'https://t.co/mmSZTLGMHR',\n",
      "                       'truncated': True,\n",
      "                       'user': {'contributors_enabled': False,\n",
      "                                'created_at': 'Fri Jan 16 20:41:40 +0000 2009',\n",
      "                                'default_profile': True,\n",
      "                                'default_profile_image': False,\n",
      "                                'description': 'Gay, middle-aged, programmer, '\n",
      "                                               'passionate about science and '\n",
      "                                               'learning philosophy, autistic.',\n",
      "                                'entities': {'description': {'urls': []},\n",
      "                                             'url': {'urls': [{'display_url': 'zarbee.blogspot.co.uk',\n",
      "                                                               'expanded_url': 'http://zarbee.blogspot.co.uk',\n",
      "                                                               'indices': [0,\n",
      "                                                                           23],\n",
      "                                                               'url': 'https://t.co/kfe86UyzSV'}]}},\n",
      "                                'favourites_count': 17005,\n",
      "                                'follow_request_sent': None,\n",
      "                                'followers_count': 3079,\n",
      "                                'following': None,\n",
      "                                'friends_count': 1445,\n",
      "                                'geo_enabled': True,\n",
      "                                'has_extended_profile': True,\n",
      "                                'id': 19084455,\n",
      "                                'id_str': '19084455',\n",
      "                                'is_translation_enabled': False,\n",
      "                                'is_translator': False,\n",
      "                                'lang': None,\n",
      "                                'listed_count': 88,\n",
      "                                'location': 'Barnard Castle, UK',\n",
      "                                'name': 'Steve Zara.',\n",
      "                                'notifications': None,\n",
      "                                'profile_background_color': 'C0DEED',\n",
      "                                'profile_background_image_url': 'http://abs.twimg.com/images/themes/theme1/bg.png',\n",
      "                                'profile_background_image_url_https': 'https://abs.twimg.com/images/themes/theme1/bg.png',\n",
      "                                'profile_background_tile': False,\n",
      "                                'profile_image_url': 'http://pbs.twimg.com/profile_images/378800000323024599/6e838a08e9cb1e52b0394cefe254c300_normal.jpeg',\n",
      "                                'profile_image_url_https': 'https://pbs.twimg.com/profile_images/378800000323024599/6e838a08e9cb1e52b0394cefe254c300_normal.jpeg',\n",
      "                                'profile_link_color': '1DA1F2',\n",
      "                                'profile_sidebar_border_color': 'C0DEED',\n",
      "                                'profile_sidebar_fill_color': 'DDEEF6',\n",
      "                                'profile_text_color': '333333',\n",
      "                                'profile_use_background_image': True,\n",
      "                                'protected': False,\n",
      "                                'screen_name': 'sjzara',\n",
      "                                'statuses_count': 54728,\n",
      "                                'time_zone': None,\n",
      "                                'translator_type': 'none',\n",
      "                                'url': 'https://t.co/kfe86UyzSV',\n",
      "                                'utc_offset': None,\n",
      "                                'verified': False}},\n",
      "  'source': '<a href=\"https://mobile.twitter.com\" rel=\"nofollow\">Twitter Web '\n",
      "            'App</a>',\n",
      "  'text': 'RT @sjzara: @ClimateBen I’m passionate about dealing with climate '\n",
      "          'change, and I have been following the science.  I just can’t '\n",
      "          'believe that…',\n",
      "  'truncated': False,\n",
      "  'user': {'contributors_enabled': False,\n",
      "           'created_at': 'Tue Feb 09 00:54:37 +0000 2010',\n",
      "           'default_profile': False,\n",
      "           'default_profile_image': False,\n",
      "           'description': 'A hero is born',\n",
      "           'entities': {'description': {'urls': []}},\n",
      "           'favourites_count': 2842,\n",
      "           'follow_request_sent': None,\n",
      "           'followers_count': 387,\n",
      "           'following': None,\n",
      "           'friends_count': 1193,\n",
      "           'geo_enabled': True,\n",
      "           'has_extended_profile': False,\n",
      "           'id': 112579615,\n",
      "           'id_str': '112579615',\n",
      "           'is_translation_enabled': False,\n",
      "           'is_translator': False,\n",
      "           'lang': None,\n",
      "           'listed_count': 5,\n",
      "           'location': 'Kavanayen, Venezuela',\n",
      "           'name': 'ウィッチャー3',\n",
      "           'notifications': None,\n",
      "           'profile_background_color': '131516',\n",
      "           'profile_background_image_url': 'http://abs.twimg.com/images/themes/theme14/bg.gif',\n",
      "           'profile_background_image_url_https': 'https://abs.twimg.com/images/themes/theme14/bg.gif',\n",
      "           'profile_background_tile': False,\n",
      "           'profile_banner_url': 'https://pbs.twimg.com/profile_banners/112579615/1610763898',\n",
      "           'profile_image_url': 'http://pbs.twimg.com/profile_images/1350267768617234433/olnHbuiD_normal.jpg',\n",
      "           'profile_image_url_https': 'https://pbs.twimg.com/profile_images/1350267768617234433/olnHbuiD_normal.jpg',\n",
      "           'profile_link_color': '981CEB',\n",
      "           'profile_sidebar_border_color': 'FFFFFF',\n",
      "           'profile_sidebar_fill_color': 'EFEFEF',\n",
      "           'profile_text_color': '333333',\n",
      "           'profile_use_background_image': True,\n",
      "           'protected': False,\n",
      "           'screen_name': 'Magoto2k',\n",
      "           'statuses_count': 26093,\n",
      "           'time_zone': None,\n",
      "           'translator_type': 'none',\n",
      "           'url': None,\n",
      "           'utc_offset': None,\n",
      "           'verified': False}},\n",
      " {'contributors': None,\n",
      "  'coordinates': None,\n",
      "  'created_at': 'Mon Apr 26 03:35:13 +0000 2021',\n",
      "  'entities': {'hashtags': [],\n",
      "               'symbols': [],\n",
      "               'urls': [{'display_url': 'twitter.com/i/web/status/1…',\n",
      "                         'expanded_url': 'https://twitter.com/i/web/status/1386524236756389894',\n",
      "                         'indices': [117, 140],\n",
      "                         'url': 'https://t.co/Q3YNbckKzk'}],\n",
      "               'user_mentions': [{'id': 1304215030615818240,\n",
      "                                  'id_str': '1304215030615818240',\n",
      "                                  'indices': [0, 10],\n",
      "                                  'name': 'Jack Davenport',\n",
      "                                  'screen_name': 'jack4bass'}]},\n",
      "  'favorite_count': 0,\n",
      "  'favorited': False,\n",
      "  'geo': None,\n",
      "  'id': 1386524236756389894,\n",
      "  'id_str': '1386524236756389894',\n",
      "  'in_reply_to_screen_name': 'jack4bass',\n",
      "  'in_reply_to_status_id': 1386460993736253443,\n",
      "  'in_reply_to_status_id_str': '1386460993736253443',\n",
      "  'in_reply_to_user_id': 1304215030615818240,\n",
      "  'in_reply_to_user_id_str': '1304215030615818240',\n",
      "  'is_quote_status': False,\n",
      "  'lang': 'en',\n",
      "  'metadata': {'iso_language_code': 'en', 'result_type': 'recent'},\n",
      "  'place': None,\n",
      "  'retweet_count': 0,\n",
      "  'retweeted': False,\n",
      "  'source': '<a href=\"https://mobile.twitter.com\" rel=\"nofollow\">Twitter Web '\n",
      "            'App</a>',\n",
      "  'text': \"@jack4bass And if the German Greens took your same 'non-negotiable' \"\n",
      "          'attitude on a range of issues (including differ… '\n",
      "          'https://t.co/Q3YNbckKzk',\n",
      "  'truncated': True,\n",
      "  'user': {'contributors_enabled': False,\n",
      "           'created_at': 'Wed Mar 17 02:35:39 +0000 2021',\n",
      "           'default_profile': True,\n",
      "           'default_profile_image': False,\n",
      "           'description': 'Clowns to the left of me, jokers to the right. Here '\n",
      "                          'I am.',\n",
      "           'entities': {'description': {'urls': []}},\n",
      "           'favourites_count': 144,\n",
      "           'follow_request_sent': None,\n",
      "           'followers_count': 12,\n",
      "           'following': None,\n",
      "           'friends_count': 50,\n",
      "           'geo_enabled': False,\n",
      "           'has_extended_profile': True,\n",
      "           'id': 1372013665663086596,\n",
      "           'id_str': '1372013665663086596',\n",
      "           'is_translation_enabled': False,\n",
      "           'is_translator': False,\n",
      "           'lang': None,\n",
      "           'listed_count': 0,\n",
      "           'location': '',\n",
      "           'name': 'Radically Centrist',\n",
      "           'notifications': None,\n",
      "           'profile_background_color': 'F5F8FA',\n",
      "           'profile_background_image_url': None,\n",
      "           'profile_background_image_url_https': None,\n",
      "           'profile_background_tile': False,\n",
      "           'profile_image_url': 'http://pbs.twimg.com/profile_images/1374486165126979585/jVhJeHPY_normal.jpg',\n",
      "           'profile_image_url_https': 'https://pbs.twimg.com/profile_images/1374486165126979585/jVhJeHPY_normal.jpg',\n",
      "           'profile_link_color': '1DA1F2',\n",
      "           'profile_sidebar_border_color': 'C0DEED',\n",
      "           'profile_sidebar_fill_color': 'DDEEF6',\n",
      "           'profile_text_color': '333333',\n",
      "           'profile_use_background_image': True,\n",
      "           'protected': False,\n",
      "           'screen_name': 'RadicallyCentr1',\n",
      "           'statuses_count': 154,\n",
      "           'time_zone': None,\n",
      "           'translator_type': 'none',\n",
      "           'url': None,\n",
      "           'utc_offset': None,\n",
      "           'verified': False}},\n",
      " {'contributors': None,\n",
      "  'coordinates': None,\n",
      "  'created_at': 'Mon Apr 26 03:35:10 +0000 2021',\n",
      "  'entities': {'hashtags': [],\n",
      "               'symbols': [],\n",
      "               'urls': [],\n",
      "               'user_mentions': [{'id': 349249475,\n",
      "                                  'id_str': '349249475',\n",
      "                                  'indices': [3, 18],\n",
      "                                  'name': 'Ross Gerber',\n",
      "                                  'screen_name': 'GerberKawasaki'}]},\n",
      "  'favorite_count': 0,\n",
      "  'favorited': False,\n",
      "  'geo': None,\n",
      "  'id': 1386524226148921346,\n",
      "  'id_str': '1386524226148921346',\n",
      "  'in_reply_to_screen_name': None,\n",
      "  'in_reply_to_status_id': None,\n",
      "  'in_reply_to_status_id_str': None,\n",
      "  'in_reply_to_user_id': None,\n",
      "  'in_reply_to_user_id_str': None,\n",
      "  'is_quote_status': False,\n",
      "  'lang': 'en',\n",
      "  'metadata': {'iso_language_code': 'en', 'result_type': 'recent'},\n",
      "  'place': None,\n",
      "  'retweet_count': 112,\n",
      "  'retweeted': False,\n",
      "  'retweeted_status': {'contributors': None,\n",
      "                       'coordinates': None,\n",
      "                       'created_at': 'Sun Apr 25 16:43:42 +0000 2021',\n",
      "                       'entities': {'hashtags': [],\n",
      "                                    'symbols': [],\n",
      "                                    'urls': [{'display_url': 'twitter.com/i/web/status/1…',\n",
      "                                              'expanded_url': 'https://twitter.com/i/web/status/1386360279223525377',\n",
      "                                              'indices': [117, 140],\n",
      "                                              'url': 'https://t.co/H8BrNRHbhY'}],\n",
      "                                    'user_mentions': []},\n",
      "                       'favorite_count': 515,\n",
      "                       'favorited': False,\n",
      "                       'geo': None,\n",
      "                       'id': 1386360279223525377,\n",
      "                       'id_str': '1386360279223525377',\n",
      "                       'in_reply_to_screen_name': None,\n",
      "                       'in_reply_to_status_id': None,\n",
      "                       'in_reply_to_status_id_str': None,\n",
      "                       'in_reply_to_user_id': None,\n",
      "                       'in_reply_to_user_id_str': None,\n",
      "                       'is_quote_status': False,\n",
      "                       'lang': 'en',\n",
      "                       'metadata': {'iso_language_code': 'en',\n",
      "                                    'result_type': 'recent'},\n",
      "                       'place': None,\n",
      "                       'possibly_sensitive': False,\n",
      "                       'retweet_count': 112,\n",
      "                       'retweeted': False,\n",
      "                       'source': '<a href=\"http://twitter.com/download/iphone\" '\n",
      "                                 'rel=\"nofollow\">Twitter for iPhone</a>',\n",
      "                       'text': 'Some car history. Ford knew the whole time '\n",
      "                               'they were killing the environment. Didn’t '\n",
      "                               'care. Like the cigarette compa… '\n",
      "                               'https://t.co/H8BrNRHbhY',\n",
      "                       'truncated': True,\n",
      "                       'user': {'contributors_enabled': False,\n",
      "                                'created_at': 'Fri Aug 05 20:13:18 +0000 2011',\n",
      "                                'default_profile': False,\n",
      "                                'default_profile_image': False,\n",
      "                                'description': 'Co-Founder & CEO, Investment '\n",
      "                                               'Advisor. Stock market '\n",
      "                                               'investor, musician co-founder '\n",
      "                                               '@cocoonmalibu - app: '\n",
      "                                               'https://t.co/y2oyIhRTrc '\n",
      "                                               'Disclaimer - '\n",
      "                                               'https://t.co/4NQmfHDdzr',\n",
      "                                'entities': {'description': {'urls': [{'display_url': 'my-moneypage.com',\n",
      "                                                                       'expanded_url': 'http://my-moneypage.com',\n",
      "                                                                       'indices': [102,\n",
      "                                                                                   125],\n",
      "                                                                       'url': 'https://t.co/y2oyIhRTrc'},\n",
      "                                                                      {'display_url': 'bit.ly/2CXceml',\n",
      "                                                                       'expanded_url': 'http://bit.ly/2CXceml',\n",
      "                                                                       'indices': [139,\n",
      "                                                                                   162],\n",
      "                                                                       'url': 'https://t.co/4NQmfHDdzr'}]},\n",
      "                                             'url': {'urls': [{'display_url': 'gerberkawasaki.com',\n",
      "                                                               'expanded_url': 'http://www.gerberkawasaki.com',\n",
      "                                                               'indices': [0,\n",
      "                                                                           23],\n",
      "                                                               'url': 'https://t.co/BppaC79gRx'}]}},\n",
      "                                'favourites_count': 69402,\n",
      "                                'follow_request_sent': None,\n",
      "                                'followers_count': 148382,\n",
      "                                'following': None,\n",
      "                                'friends_count': 5442,\n",
      "                                'geo_enabled': True,\n",
      "                                'has_extended_profile': False,\n",
      "                                'id': 349249475,\n",
      "                                'id_str': '349249475',\n",
      "                                'is_translation_enabled': False,\n",
      "                                'is_translator': False,\n",
      "                                'lang': None,\n",
      "                                'listed_count': 1970,\n",
      "                                'location': 'Santa Monica, CA',\n",
      "                                'name': 'Ross Gerber',\n",
      "                                'notifications': None,\n",
      "                                'profile_background_color': 'ABB8C2',\n",
      "                                'profile_background_image_url': 'http://abs.twimg.com/images/themes/theme4/bg.gif',\n",
      "                                'profile_background_image_url_https': 'https://abs.twimg.com/images/themes/theme4/bg.gif',\n",
      "                                'profile_background_tile': False,\n",
      "                                'profile_banner_url': 'https://pbs.twimg.com/profile_banners/349249475/1607045374',\n",
      "                                'profile_image_url': 'http://pbs.twimg.com/profile_images/1384991896267739137/W3r3njew_normal.jpg',\n",
      "                                'profile_image_url_https': 'https://pbs.twimg.com/profile_images/1384991896267739137/W3r3njew_normal.jpg',\n",
      "                                'profile_link_color': '1F45FC',\n",
      "                                'profile_sidebar_border_color': '000000',\n",
      "                                'profile_sidebar_fill_color': '000000',\n",
      "                                'profile_text_color': '000000',\n",
      "                                'profile_use_background_image': False,\n",
      "                                'protected': False,\n",
      "                                'screen_name': 'GerberKawasaki',\n",
      "                                'statuses_count': 92364,\n",
      "                                'time_zone': None,\n",
      "                                'translator_type': 'none',\n",
      "                                'url': 'https://t.co/BppaC79gRx',\n",
      "                                'utc_offset': None,\n",
      "                                'verified': True}},\n",
      "  'source': '<a href=\"http://twitter.com/download/iphone\" '\n",
      "            'rel=\"nofollow\">Twitter for iPhone</a>',\n",
      "  'text': 'RT @GerberKawasaki: Some car history. Ford knew the whole time they '\n",
      "          'were killing the environment. Didn’t care. Like the cigarette '\n",
      "          'companies…',\n",
      "  'truncated': False,\n",
      "  'user': {'contributors_enabled': False,\n",
      "           'created_at': 'Wed Nov 07 02:15:31 +0000 2012',\n",
      "           'default_profile': True,\n",
      "           'default_profile_image': False,\n",
      "           'description': 'Dad of two, Realtor, coffee addict. Tesla '\n",
      "                          'enthusiast, wannabe photographer. MKE born, ORD & '\n",
      "                          'JFK raised, head in HNL. Follow me on Instagram '\n",
      "                          '@dkwIII',\n",
      "           'entities': {'description': {'urls': []},\n",
      "                        'url': {'urls': [{'display_url': 'dkw3.com',\n",
      "                                          'expanded_url': 'http://www.dkw3.com',\n",
      "                                          'indices': [0, 23],\n",
      "                                          'url': 'https://t.co/daI80DzJCH'}]}},\n",
      "           'favourites_count': 9938,\n",
      "           'follow_request_sent': None,\n",
      "           'followers_count': 143,\n",
      "           'following': None,\n",
      "           'friends_count': 356,\n",
      "           'geo_enabled': False,\n",
      "           'has_extended_profile': False,\n",
      "           'id': 931014200,\n",
      "           'id_str': '931014200',\n",
      "           'is_translation_enabled': False,\n",
      "           'is_translator': False,\n",
      "           'lang': None,\n",
      "           'listed_count': 19,\n",
      "           'location': '',\n",
      "           'name': 'david k wells III',\n",
      "           'notifications': None,\n",
      "           'profile_background_color': 'C0DEED',\n",
      "           'profile_background_image_url': 'http://abs.twimg.com/images/themes/theme1/bg.png',\n",
      "           'profile_background_image_url_https': 'https://abs.twimg.com/images/themes/theme1/bg.png',\n",
      "           'profile_background_tile': False,\n",
      "           'profile_banner_url': 'https://pbs.twimg.com/profile_banners/931014200/1583568158',\n",
      "           'profile_image_url': 'http://pbs.twimg.com/profile_images/1236197255830355968/HREAaIdj_normal.jpg',\n",
      "           'profile_image_url_https': 'https://pbs.twimg.com/profile_images/1236197255830355968/HREAaIdj_normal.jpg',\n",
      "           'profile_link_color': '1DA1F2',\n",
      "           'profile_sidebar_border_color': 'C0DEED',\n",
      "           'profile_sidebar_fill_color': 'DDEEF6',\n",
      "           'profile_text_color': '333333',\n",
      "           'profile_use_background_image': True,\n",
      "           'protected': False,\n",
      "           'screen_name': 'davidkwellsIII',\n",
      "           'statuses_count': 3126,\n",
      "           'time_zone': None,\n",
      "           'translator_type': 'none',\n",
      "           'url': 'https://t.co/daI80DzJCH',\n",
      "           'utc_offset': None,\n",
      "           'verified': False}}]\n"
     ]
    }
   ],
   "source": [
    "pprint.pprint(tweets[0:max_tweet_to_print])"
   ]
  },
  {
   "cell_type": "markdown",
   "metadata": {},
   "source": [
    "Link to understand [tweet-object](https://developer.twitter.com/en/docs/tweets/data-dictionary/overview/tweet-object)\n",
    "\n",
    "Let'see some tweets"
   ]
  },
  {
   "cell_type": "code",
   "execution_count": 41,
   "metadata": {},
   "outputs": [
    {
     "name": "stdout",
     "output_type": "stream",
     "text": [
      "RT @ElaineEDO: “Fossil fuel subsidies have cost state, territory and federal budgets $10.3 billion over the past financial year, or $19,686…\n",
      "\n",
      "RT @sjzara: @ClimateBen I’m passionate about dealing with climate change, and I have been following the science.  I just can’t believe that…\n",
      "\n",
      "@jack4bass And if the German Greens took your same 'non-negotiable' attitude on a range of issues (including differ… https://t.co/Q3YNbckKzk\n",
      "\n",
      "RT @GerberKawasaki: Some car history. Ford knew the whole time they were killing the environment. Didn’t care. Like the cigarette companies…\n",
      "\n"
     ]
    }
   ],
   "source": [
    "for status in tweets[0:max_tweet_to_print]:\n",
    "    print(status['text'] + '\\n')"
   ]
  },
  {
   "cell_type": "markdown",
   "metadata": {},
   "source": [
    "# Pandas DataFrame for storing tweet feed\n",
    "\n",
    "Create following date frame for storing tweets\n",
    "\n",
    "- **climate_feed_df** DataFrame for storing tweet\n",
    "- **user_df** DataFrame for storing user detail\n",
    "- **retweeted_status_df** for storing original tweet"
   ]
  },
  {
   "cell_type": "markdown",
   "metadata": {},
   "source": [
    "# Printing keys in tweets"
   ]
  },
  {
   "cell_type": "code",
   "execution_count": 45,
   "metadata": {},
   "outputs": [
    {
     "name": "stdout",
     "output_type": "stream",
     "text": [
      "dict_keys(['created_at', 'id', 'id_str', 'text', 'truncated', 'entities', 'metadata', 'source', 'in_reply_to_status_id', 'in_reply_to_status_id_str', 'in_reply_to_user_id', 'in_reply_to_user_id_str', 'in_reply_to_screen_name', 'user', 'geo', 'coordinates', 'place', 'contributors', 'retweeted_status', 'is_quote_status', 'retweet_count', 'favorite_count', 'favorited', 'retweeted', 'lang'])\n",
      "25\n"
     ]
    }
   ],
   "source": [
    "print(tweets[1].keys())\n",
    "print(len(tweets[1].keys()))\n"
   ]
  },
  {
   "cell_type": "code",
   "execution_count": 43,
   "metadata": {},
   "outputs": [],
   "source": [
    "import pandas as pd"
   ]
  },
  {
   "cell_type": "markdown",
   "metadata": {},
   "source": [
    "# Generators for building DataFrames"
   ]
  },
  {
   "cell_type": "markdown",
   "metadata": {},
   "source": [
    "# Q2 (2 point) Complete following   python generator *tweet_generator*. Generator yield modified tweet .\n",
    "For each tweet in tweets\n",
    "- Replace **user** attribute with **user_id** and value with **tweet['user']['id']** value.\n",
    "- Replace **retweeted_status** attribute with **retweeted_status_id** and value with **tweet['retweeted_status']['id']** value.\n",
    "- Keep other attributes in the tweet as such."
   ]
  },
  {
   "cell_type": "code",
   "execution_count": null,
   "metadata": {},
   "outputs": [],
   "source": [
    "\n",
    "def tweet_generator(tweets):\n",
    "    for tweet in tweets:\n",
    "        modified_tweet= {}\n",
    "        \n",
    "        #Write your code here\n",
    "        \n",
    "        \n",
    "        yield modified_tweet       \n",
    "            \n",
    "            "
   ]
  },
  {
   "cell_type": "code",
   "execution_count": null,
   "metadata": {},
   "outputs": [],
   "source": [
    "# Checking  generator output\n",
    "list(tweet_generator(tweets[0:2]))"
   ]
  },
  {
   "cell_type": "code",
   "execution_count": null,
   "metadata": {},
   "outputs": [],
   "source": [
    "climate_feed_df = pd.DataFrame(tweet_generator(tweets))"
   ]
  },
  {
   "cell_type": "code",
   "execution_count": null,
   "metadata": {},
   "outputs": [],
   "source": [
    "climate_feed_df"
   ]
  },
  {
   "cell_type": "markdown",
   "metadata": {},
   "source": [
    "# Q3(1 points) List datatype using climate_feed_df. Describe which attributes doesn't have right data types. What should be correct datatype."
   ]
  },
  {
   "cell_type": "code",
   "execution_count": null,
   "metadata": {},
   "outputs": [],
   "source": [
    "# write code here datatype listing\n"
   ]
  },
  {
   "cell_type": "markdown",
   "metadata": {},
   "source": [
    "# write columns with wrong datatype and mention correct data type too.\n",
    "\n",
    "*double click this cell to edit*\n"
   ]
  },
  {
   "cell_type": "markdown",
   "metadata": {},
   "source": [
    "# Q4 (1.5 point) Complete following tweet_user_generator. Generator should yield only *user* value from a tweet"
   ]
  },
  {
   "cell_type": "code",
   "execution_count": null,
   "metadata": {},
   "outputs": [],
   "source": [
    "def tweet_user_generator(tweets):\n",
    "# write code here  \n"
   ]
  },
  {
   "cell_type": "code",
   "execution_count": null,
   "metadata": {},
   "outputs": [],
   "source": [
    "user_df = pd.DataFrame(tweet_user_generator(tweets))"
   ]
  },
  {
   "cell_type": "code",
   "execution_count": null,
   "metadata": {},
   "outputs": [],
   "source": [
    "user_df"
   ]
  },
  {
   "cell_type": "markdown",
   "metadata": {},
   "source": [
    "# Q5(1 point) List datatype of columns using user_df. Describe which attributes doesn't have right data types. What should be correct datatype."
   ]
  },
  {
   "cell_type": "code",
   "execution_count": null,
   "metadata": {},
   "outputs": [],
   "source": [
    "# write code here for datatype listing\n",
    "\n"
   ]
  },
  {
   "cell_type": "markdown",
   "metadata": {},
   "source": [
    "# write columns with wrong datatype and mention correct data type too.\n",
    "\n",
    "*double click this cell to edit*"
   ]
  },
  {
   "cell_type": "markdown",
   "metadata": {},
   "source": [
    "# Q6 (1 point) Complete following retweeted_status_generator. Generator should yield dictionary of retweeted_status value from each tweet. If a tweet doesn't have this key return empty dictionary."
   ]
  },
  {
   "cell_type": "code",
   "execution_count": null,
   "metadata": {},
   "outputs": [],
   "source": [
    "def retweeted_status_generator(tweets):\n"
   ]
  },
  {
   "cell_type": "code",
   "execution_count": null,
   "metadata": {},
   "outputs": [],
   "source": [
    "retweeted_status_df = pd.DataFrame(retweeted_status_generator(tweets))"
   ]
  },
  {
   "cell_type": "code",
   "execution_count": null,
   "metadata": {},
   "outputs": [],
   "source": [
    "retweeted_status_df"
   ]
  },
  {
   "cell_type": "markdown",
   "metadata": {},
   "source": [
    "# Q7 (1 point) Write code to find number of rows in retweeted_status_df with all the values NaN. print number of such rows."
   ]
  },
  {
   "cell_type": "code",
   "execution_count": null,
   "metadata": {},
   "outputs": [],
   "source": [
    "# Write code here\n"
   ]
  }
 ],
 "metadata": {
  "kernelspec": {
   "display_name": "Python 3",
   "language": "python",
   "name": "python3"
  },
  "language_info": {
   "codemirror_mode": {
    "name": "ipython",
    "version": 3
   },
   "file_extension": ".py",
   "mimetype": "text/x-python",
   "name": "python",
   "nbconvert_exporter": "python",
   "pygments_lexer": "ipython3",
   "version": "3.5.2"
  },
  "toc": {
   "base_numbering": 1,
   "nav_menu": {},
   "number_sections": false,
   "sideBar": true,
   "skip_h1_title": false,
   "title_cell": "Table of Contents",
   "title_sidebar": "Contents",
   "toc_cell": false,
   "toc_position": {},
   "toc_section_display": true,
   "toc_window_display": false
  },
  "varInspector": {
   "cols": {
    "lenName": 16,
    "lenType": 16,
    "lenVar": 40
   },
   "kernels_config": {
    "python": {
     "delete_cmd_postfix": "",
     "delete_cmd_prefix": "del ",
     "library": "var_list.py",
     "varRefreshCmd": "print(var_dic_list())"
    },
    "r": {
     "delete_cmd_postfix": ") ",
     "delete_cmd_prefix": "rm(",
     "library": "var_list.r",
     "varRefreshCmd": "cat(var_dic_list()) "
    }
   },
   "types_to_exclude": [
    "module",
    "function",
    "builtin_function_or_method",
    "instance",
    "_Feature"
   ],
   "window_display": false
  }
 },
 "nbformat": 4,
 "nbformat_minor": 2
}